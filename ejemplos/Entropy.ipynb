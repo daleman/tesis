{
 "cells": [
  {
   "cell_type": "code",
   "execution_count": 1,
   "metadata": {
    "collapsed": true,
    "deletable": true,
    "editable": true
   },
   "outputs": [],
   "source": [
    "%load_ext autoreload\n",
    "%autoreload 2\n",
    "%matplotlib inline\n",
    "\n",
    "import pandas as pd\n",
    "import numpy as np"
   ]
  },
  {
   "cell_type": "code",
   "execution_count": 2,
   "metadata": {
    "collapsed": true,
    "deletable": true,
    "editable": true
   },
   "outputs": [],
   "source": [
    "import re\n",
    "from scipy.stats import entropy\n",
    "\n",
    "df = pd.read_csv(\"../contrastes/provincias.csv\", quotechar=\"\\\"\", decimal=\",\")\n",
    "\n",
    "df = df.set_index(\"palabra\")\n",
    "\n",
    "\n",
    "fnorm_vars = [c for c in df.columns if re.match(r'fnorm_.*', c)]\n",
    "cant_palabras = [c for c in df.columns if re.match(r'.*Palabras$', c)]\n"
   ]
  },
  {
   "cell_type": "code",
   "execution_count": 5,
   "metadata": {
    "collapsed": false,
    "deletable": true,
    "editable": true
   },
   "outputs": [
    {
     "data": {
      "text/plain": [
       "6"
      ]
     },
     "execution_count": 5,
     "metadata": {},
     "output_type": "execute_result"
    }
   ],
   "source": [
    "min(df.cantUsuariosTotal)"
   ]
  },
  {
   "cell_type": "code",
   "execution_count": 141,
   "metadata": {
    "collapsed": false,
    "deletable": true,
    "editable": true
   },
   "outputs": [
    {
     "data": {
      "text/plain": [
       "buenosairesPalabras                     4\n",
       "catamarcaPalabras                       0\n",
       "chacoPalabras                         125\n",
       "chubutPalabras                          1\n",
       "cordobaPalabras                         1\n",
       "corrientesPalabras                    517\n",
       "entreriosPalabras                       0\n",
       "formosaPalabras                       161\n",
       "jujuyPalabras                           0\n",
       "lapampaPalabras                         0\n",
       "lariojaPalabras                         0\n",
       "mendozaPalabras                         0\n",
       "misionesPalabras                       43\n",
       "neuquenPalabras                         3\n",
       "rionegroPalabras                        0\n",
       "saltaPalabras                           0\n",
       "sanjuanPalabras                         0\n",
       "sanluisPalabras                         3\n",
       "santacruzPalabras                       2\n",
       "santafePalabras                        12\n",
       "santiagoPalabras                        0\n",
       "tierradelfuegoPalabras                  0\n",
       "tucumanPalabras                         0\n",
       "cantPalabra                           872\n",
       "buenosairesPalabrasPersonas             1\n",
       "catamarcaPalabrasPersonas               0\n",
       "chacoPalabrasPersonas                  80\n",
       "chubutPalabrasPersonas                  1\n",
       "cordobaPalabrasPersonas                 1\n",
       "corrientesPalabrasPersonas            241\n",
       "                                  ...    \n",
       "cantUsuariosTotal                     453\n",
       "fnorm_jujuy                             0\n",
       "fnorm_catamarca                         0\n",
       "fnorm_sanjuan                           0\n",
       "fnorm_salta                             0\n",
       "fnorm_rionegro                          0\n",
       "fnorm_lapampa                           0\n",
       "fnorm_chaco                       16.4344\n",
       "fnorm_mendoza                           0\n",
       "fnorm_buenosaires                0.445714\n",
       "fnorm_entrerios                         0\n",
       "fnorm_chubut                     0.112552\n",
       "fnorm_santacruz                  0.269073\n",
       "fnorm_neuquen                    0.332541\n",
       "fnorm_misiones                    5.51976\n",
       "fnorm_corrientes                  61.3509\n",
       "fnorm_formosa                     22.4097\n",
       "fnorm_santafe                     1.35405\n",
       "fnorm_santiago                          0\n",
       "fnorm_cordoba                   0.0992464\n",
       "fnorm_larioja                           0\n",
       "fnorm_tierradelfuego                    0\n",
       "fnorm_tucuman                           0\n",
       "fnorm_sanluis                     0.36027\n",
       "provinciaSinEsaPalabra                 12\n",
       "provinciaFnormMax              corrientes\n",
       "FnormMax                          61.3509\n",
       "provinciaFnormMin                 cordoba\n",
       "FnormMin                        0.0992464\n",
       "maxDif                            618.167\n",
       "Name: anga, dtype: object"
      ]
     },
     "execution_count": 141,
     "metadata": {},
     "output_type": "execute_result"
    }
   ],
   "source": [
    "df.loc[\"anga\"]"
   ]
  },
  {
   "cell_type": "code",
   "execution_count": 3,
   "metadata": {
    "collapsed": false,
    "deletable": true,
    "editable": true
   },
   "outputs": [],
   "source": [
    "import random\n",
    "\"\"\"\n",
    "Método que calcula la entropía de una palabra (usando df)\n",
    "\"\"\"\n",
    "\n",
    "import math\n",
    "from numpy.random import multinomial\n",
    "\n",
    "\n",
    "def w_entropy(df, word):\n",
    "    # Esto es porque se mambea con los tipos (creo)\n",
    "    vec = df.loc[word][cant_palabras].tolist()\n",
    "    entr_vec = entropy(vec)\n",
    "    return entropy(vec)#,entropy(multinomial(sum(vec), [1/23.] * 23))\n",
    "\n",
    "# def information_value(df, word):\n",
    "#     return w_entropy(df, word)[1]-w_entropy(df, word)[0]"
   ]
  },
  {
   "cell_type": "code",
   "execution_count": 145,
   "metadata": {
    "collapsed": false,
    "deletable": true,
    "editable": true
   },
   "outputs": [
    {
     "name": "stdout",
     "output_type": "stream",
     "text": [
      "anga 1.20088447396\n",
      "culiaw 1.15521548685\n",
      "despues 3.11662496883\n",
      "mitai 0.271029712477\n",
      "artante 2.18610995569\n",
      "q 3.08455118842\n",
      "como 3.12541139835\n",
      "ver 3.1205806551\n",
      "de 3.12874581782\n"
     ]
    }
   ],
   "source": [
    "for word in [\n",
    "    \"anga\",\n",
    "    \"culiaw\",\n",
    "    \"despues\",\n",
    "    \"mitai\",\n",
    "    \"artante\",\n",
    "    \"q\",\n",
    "    \"como\",\n",
    "    \"ver\",\n",
    "    \"de\"]:\n",
    "    print word, w_entropy(df,word)"
   ]
  },
  {
   "cell_type": "code",
   "execution_count": 4,
   "metadata": {
    "collapsed": true,
    "deletable": true,
    "editable": true
   },
   "outputs": [],
   "source": [
    "frequent_words = df[ (df.cantPalabra > 200) ]"
   ]
  },
  {
   "cell_type": "code",
   "execution_count": 5,
   "metadata": {
    "collapsed": false,
    "deletable": true,
    "editable": true
   },
   "outputs": [],
   "source": [
    "entropias = map(lambda w: w_entropy(frequent_words, w), frequent_words.index)"
   ]
  },
  {
   "cell_type": "code",
   "execution_count": 122,
   "metadata": {
    "collapsed": false,
    "deletable": true,
    "editable": true
   },
   "outputs": [
    {
     "data": {
      "text/plain": [
       "(['actuales', 3.0502174685272387], 'actuales')"
      ]
     },
     "execution_count": 122,
     "metadata": {},
     "output_type": "execute_result"
    }
   ],
   "source": [
    "entropies[456],frequent_words.index[456]"
   ]
  },
  {
   "cell_type": "code",
   "execution_count": 6,
   "metadata": {
    "collapsed": false,
    "deletable": true,
    "editable": true
   },
   "outputs": [
    {
     "name": "stderr",
     "output_type": "stream",
     "text": [
      "/usr/local/lib/python2.7/dist-packages/ipykernel/__main__.py:1: SettingWithCopyWarning: \n",
      "A value is trying to be set on a copy of a slice from a DataFrame.\n",
      "Try using .loc[row_indexer,col_indexer] = value instead\n",
      "\n",
      "See the caveats in the documentation: http://pandas.pydata.org/pandas-docs/stable/indexing.html#indexing-view-versus-copy\n",
      "  if __name__ == '__main__':\n"
     ]
    }
   ],
   "source": [
    "frequent_words['entropia'] = entropias"
   ]
  },
  {
   "cell_type": "code",
   "execution_count": 7,
   "metadata": {
    "collapsed": false,
    "deletable": true,
    "editable": true
   },
   "outputs": [
    {
     "data": {
      "text/html": [
       "<div>\n",
       "<table border=\"1\" class=\"dataframe\">\n",
       "  <thead>\n",
       "    <tr style=\"text-align: right;\">\n",
       "      <th></th>\n",
       "      <th>buenosairesPalabras</th>\n",
       "      <th>catamarcaPalabras</th>\n",
       "      <th>chacoPalabras</th>\n",
       "      <th>chubutPalabras</th>\n",
       "      <th>cordobaPalabras</th>\n",
       "      <th>corrientesPalabras</th>\n",
       "      <th>entreriosPalabras</th>\n",
       "      <th>formosaPalabras</th>\n",
       "      <th>jujuyPalabras</th>\n",
       "      <th>lapampaPalabras</th>\n",
       "      <th>...</th>\n",
       "      <th>fnorm_tierradelfuego</th>\n",
       "      <th>fnorm_tucuman</th>\n",
       "      <th>fnorm_sanluis</th>\n",
       "      <th>provinciaSinEsaPalabra</th>\n",
       "      <th>provinciaFnormMax</th>\n",
       "      <th>FnormMax</th>\n",
       "      <th>provinciaFnormMin</th>\n",
       "      <th>FnormMin</th>\n",
       "      <th>maxDif</th>\n",
       "      <th>entropia</th>\n",
       "    </tr>\n",
       "    <tr>\n",
       "      <th>palabra</th>\n",
       "      <th></th>\n",
       "      <th></th>\n",
       "      <th></th>\n",
       "      <th></th>\n",
       "      <th></th>\n",
       "      <th></th>\n",
       "      <th></th>\n",
       "      <th></th>\n",
       "      <th></th>\n",
       "      <th></th>\n",
       "      <th></th>\n",
       "      <th></th>\n",
       "      <th></th>\n",
       "      <th></th>\n",
       "      <th></th>\n",
       "      <th></th>\n",
       "      <th></th>\n",
       "      <th></th>\n",
       "      <th></th>\n",
       "      <th></th>\n",
       "      <th></th>\n",
       "    </tr>\n",
       "  </thead>\n",
       "  <tbody>\n",
       "    <tr>\n",
       "      <th>a</th>\n",
       "      <td>243007</td>\n",
       "      <td>202763</td>\n",
       "      <td>189352</td>\n",
       "      <td>238225</td>\n",
       "      <td>259985</td>\n",
       "      <td>209862</td>\n",
       "      <td>252819</td>\n",
       "      <td>175959</td>\n",
       "      <td>144608</td>\n",
       "      <td>241439</td>\n",
       "      <td>...</td>\n",
       "      <td>25359.793383</td>\n",
       "      <td>25170.140778</td>\n",
       "      <td>26663.806925</td>\n",
       "      <td>0</td>\n",
       "      <td>rionegro</td>\n",
       "      <td>27135.266799</td>\n",
       "      <td>jujuy</td>\n",
       "      <td>24296.605149</td>\n",
       "      <td>1.116834</td>\n",
       "      <td>3.124433</td>\n",
       "    </tr>\n",
       "    <tr>\n",
       "      <th>aa</th>\n",
       "      <td>385</td>\n",
       "      <td>264</td>\n",
       "      <td>147</td>\n",
       "      <td>292</td>\n",
       "      <td>167</td>\n",
       "      <td>125</td>\n",
       "      <td>157</td>\n",
       "      <td>83</td>\n",
       "      <td>162</td>\n",
       "      <td>192</td>\n",
       "      <td>...</td>\n",
       "      <td>24.651785</td>\n",
       "      <td>23.272111</td>\n",
       "      <td>21.976457</td>\n",
       "      <td>0</td>\n",
       "      <td>buenosaires</td>\n",
       "      <td>42.899938</td>\n",
       "      <td>misiones</td>\n",
       "      <td>10.654416</td>\n",
       "      <td>4.026494</td>\n",
       "      <td>3.067333</td>\n",
       "    </tr>\n",
       "    <tr>\n",
       "      <th>aaa</th>\n",
       "      <td>1242</td>\n",
       "      <td>1078</td>\n",
       "      <td>450</td>\n",
       "      <td>1257</td>\n",
       "      <td>725</td>\n",
       "      <td>608</td>\n",
       "      <td>791</td>\n",
       "      <td>446</td>\n",
       "      <td>478</td>\n",
       "      <td>907</td>\n",
       "      <td>...</td>\n",
       "      <td>88.325826</td>\n",
       "      <td>82.480690</td>\n",
       "      <td>91.268345</td>\n",
       "      <td>0</td>\n",
       "      <td>chubut</td>\n",
       "      <td>141.478455</td>\n",
       "      <td>larioja</td>\n",
       "      <td>47.504342</td>\n",
       "      <td>2.978222</td>\n",
       "      <td>3.073442</td>\n",
       "    </tr>\n",
       "    <tr>\n",
       "      <th>aaah</th>\n",
       "      <td>416</td>\n",
       "      <td>377</td>\n",
       "      <td>393</td>\n",
       "      <td>495</td>\n",
       "      <td>438</td>\n",
       "      <td>442</td>\n",
       "      <td>439</td>\n",
       "      <td>346</td>\n",
       "      <td>222</td>\n",
       "      <td>445</td>\n",
       "      <td>...</td>\n",
       "      <td>51.406565</td>\n",
       "      <td>43.405193</td>\n",
       "      <td>58.003435</td>\n",
       "      <td>0</td>\n",
       "      <td>neuquen</td>\n",
       "      <td>70.166112</td>\n",
       "      <td>mendoza</td>\n",
       "      <td>29.673278</td>\n",
       "      <td>2.364623</td>\n",
       "      <td>3.106253</td>\n",
       "    </tr>\n",
       "    <tr>\n",
       "      <th>aaahh</th>\n",
       "      <td>36</td>\n",
       "      <td>30</td>\n",
       "      <td>32</td>\n",
       "      <td>25</td>\n",
       "      <td>38</td>\n",
       "      <td>27</td>\n",
       "      <td>27</td>\n",
       "      <td>43</td>\n",
       "      <td>20</td>\n",
       "      <td>32</td>\n",
       "      <td>...</td>\n",
       "      <td>4.790157</td>\n",
       "      <td>4.437937</td>\n",
       "      <td>3.362518</td>\n",
       "      <td>0</td>\n",
       "      <td>formosa</td>\n",
       "      <td>5.985205</td>\n",
       "      <td>rionegro</td>\n",
       "      <td>2.101717</td>\n",
       "      <td>2.847769</td>\n",
       "      <td>3.105929</td>\n",
       "    </tr>\n",
       "  </tbody>\n",
       "</table>\n",
       "<p>5 rows × 78 columns</p>\n",
       "</div>"
      ],
      "text/plain": [
       "         buenosairesPalabras  catamarcaPalabras  chacoPalabras  \\\n",
       "palabra                                                          \n",
       "a                     243007             202763         189352   \n",
       "aa                       385                264            147   \n",
       "aaa                     1242               1078            450   \n",
       "aaah                     416                377            393   \n",
       "aaahh                     36                 30             32   \n",
       "\n",
       "         chubutPalabras  cordobaPalabras  corrientesPalabras  \\\n",
       "palabra                                                        \n",
       "a                238225           259985              209862   \n",
       "aa                  292              167                 125   \n",
       "aaa                1257              725                 608   \n",
       "aaah                495              438                 442   \n",
       "aaahh                25               38                  27   \n",
       "\n",
       "         entreriosPalabras  formosaPalabras  jujuyPalabras  lapampaPalabras  \\\n",
       "palabra                                                                       \n",
       "a                   252819           175959         144608           241439   \n",
       "aa                     157               83            162              192   \n",
       "aaa                    791              446            478              907   \n",
       "aaah                   439              346            222              445   \n",
       "aaahh                   27               43             20               32   \n",
       "\n",
       "           ...     fnorm_tierradelfuego  fnorm_tucuman  fnorm_sanluis  \\\n",
       "palabra    ...                                                          \n",
       "a          ...             25359.793383   25170.140778   26663.806925   \n",
       "aa         ...                24.651785      23.272111      21.976457   \n",
       "aaa        ...                88.325826      82.480690      91.268345   \n",
       "aaah       ...                51.406565      43.405193      58.003435   \n",
       "aaahh      ...                 4.790157       4.437937       3.362518   \n",
       "\n",
       "         provinciaSinEsaPalabra  provinciaFnormMax      FnormMax  \\\n",
       "palabra                                                            \n",
       "a                             0           rionegro  27135.266799   \n",
       "aa                            0        buenosaires     42.899938   \n",
       "aaa                           0             chubut    141.478455   \n",
       "aaah                          0            neuquen     70.166112   \n",
       "aaahh                         0            formosa      5.985205   \n",
       "\n",
       "         provinciaFnormMin      FnormMin    maxDif  entropia  \n",
       "palabra                                                       \n",
       "a                    jujuy  24296.605149  1.116834  3.124433  \n",
       "aa                misiones     10.654416  4.026494  3.067333  \n",
       "aaa                larioja     47.504342  2.978222  3.073442  \n",
       "aaah               mendoza     29.673278  2.364623  3.106253  \n",
       "aaahh             rionegro      2.101717  2.847769  3.105929  \n",
       "\n",
       "[5 rows x 78 columns]"
      ]
     },
     "execution_count": 7,
     "metadata": {},
     "output_type": "execute_result"
    }
   ],
   "source": [
    "frequent_words.head()"
   ]
  },
  {
   "cell_type": "code",
   "execution_count": 8,
   "metadata": {
    "collapsed": false,
    "deletable": true,
    "editable": true
   },
   "outputs": [],
   "source": [
    "frequent_words = frequent_words.sort_values(by=\"entropia\",ascending=True)"
   ]
  },
  {
   "cell_type": "code",
   "execution_count": 9,
   "metadata": {
    "collapsed": true
   },
   "outputs": [],
   "source": [
    "cants = frequent_words.filter(regex='.*Palabras$')"
   ]
  },
  {
   "cell_type": "code",
   "execution_count": 25,
   "metadata": {
    "collapsed": false
   },
   "outputs": [],
   "source": [
    "cs = cants.sum()"
   ]
  },
  {
   "cell_type": "code",
   "execution_count": 17,
   "metadata": {
    "collapsed": false
   },
   "outputs": [],
   "source": [
    "cs2[''] = cs.index.str.replace(r'Palabras', '')"
   ]
  },
  {
   "cell_type": "code",
   "execution_count": 28,
   "metadata": {
    "collapsed": false
   },
   "outputs": [],
   "source": [
    "cs.to_csv('cantidadesEntropia.csv')"
   ]
  },
  {
   "cell_type": "code",
   "execution_count": 27,
   "metadata": {
    "collapsed": false
   },
   "outputs": [],
   "source": [
    "frequent_words.to_csv('entropia_extendido.csv')"
   ]
  },
  {
   "cell_type": "code",
   "execution_count": 161,
   "metadata": {
    "collapsed": false,
    "deletable": true,
    "editable": true
   },
   "outputs": [],
   "source": [
    "frequent_words[['entropia','FnormMin', 'FnormMax', 'provinciaFnormMin', 'provinciaFnormMax',\n",
    "                                'provinciaSinEsaPalabra', 'maxDif', 'cantUsuariosTotal']].to_csv('listadoEntropias.csv')"
   ]
  }
 ],
 "metadata": {
  "kernelspec": {
   "display_name": "Python 2",
   "language": "python",
   "name": "python2"
  },
  "language_info": {
   "codemirror_mode": {
    "name": "ipython",
    "version": 2
   },
   "file_extension": ".py",
   "mimetype": "text/x-python",
   "name": "python",
   "nbconvert_exporter": "python",
   "pygments_lexer": "ipython2",
   "version": "2.7.12"
  }
 },
 "nbformat": 4,
 "nbformat_minor": 2
}
