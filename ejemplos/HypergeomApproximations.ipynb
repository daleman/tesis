{
 "cells": [
  {
   "cell_type": "code",
   "execution_count": 3,
   "metadata": {
    "collapsed": true,
    "deletable": true,
    "editable": true
   },
   "outputs": [],
   "source": [
    "%matplotlib inline\n",
    "from scipy.stats import hypergeom, poisson, norm\n",
    "import math\n",
    "import matplotlib.pyplot as plt\n",
    "import pandas as pd\n",
    "import re\n"
   ]
  },
  {
   "cell_type": "code",
   "execution_count": 2,
   "metadata": {
    "collapsed": true,
    "deletable": true,
    "editable": true
   },
   "outputs": [],
   "source": [
    "M = 190000000 # Cantidad de bolas\n",
    "n = 2000 # Cantidad de bolas negras\n",
    "N = 100000000 # Cantidad de extracciones\n",
    "\n",
    "def hg_pdf(k):\n",
    "    return hypergeom.pmf(k, M=M, n=n, N=N )"
   ]
  },
  {
   "cell_type": "markdown",
   "metadata": {
    "deletable": true,
    "editable": true
   },
   "source": [
    "Las cantidades de palabras en cada provincia se encuentran en el archivo cantidadesDataset.csv dentro de la carpeta tesis. "
   ]
  },
  {
   "cell_type": "code",
   "execution_count": 4,
   "metadata": {
    "collapsed": false,
    "deletable": true,
    "editable": true
   },
   "outputs": [],
   "source": [
    "\n",
    "df = pd.read_csv('../cantidadesDataset.csv',index_col=0)\n",
    "dfcantPalabrasEnProvincia = pd.read_csv(\"../contrastes/provincias.csv\", quotechar=\"\\\"\", decimal=\",\",index_col='palabra')\n",
    "cant = [c for c in df.columns if re.match(r'.*Palabras$', c) and (not re.match(r'.*norm', c) ) and (not re.match(r'.*rank', c) )]\n",
    "palabrasEnArgentina = 192348167\n",
    "def cantPalabrasTotalesEnRegion(provincias):\n",
    "    res = 0\n",
    "    for p in provincias:\n",
    "        res += df.loc[p,'cantTotal']\n",
    "    return res\n",
    "\n",
    "def cantPalabrasWEnRegion(palabra,provincias):\n",
    "    res = 0\n",
    "    for p in provincias:\n",
    "        res += dfcantPalabrasEnProvincia.loc[palabra, p +'Palabras']\n",
    "    return res\n",
    "\n",
    "def cantPalabraWEnArgentina(palabra):\n",
    "    return dfcantPalabrasEnProvincia.loc[palabra,'cantPalabra']\n",
    "\n",
    "def calcularPValor(palabra,region):\n",
    "    \n",
    "    M = palabrasEnArgentina # Cantidad de palabras en toda la Argentina \n",
    "    n = cantPalabraWEnArgentina(palabra) # Cantidad de palabras w en toda la Argentina \n",
    "    N = cantPalabrasTotalesEnRegion(region) # Cantidad de palabras en la region\n",
    "\n",
    "    h0 = cantPalabrasWEnRegion(palabra,region)\n",
    "    print ('Analizamos la palabra ' + palabra + ' en la región: '+ ', '.join(map(str, region)))\n",
    "    print ('Cantidad de palabras en toda la Argentina M: {0}'.format(M))\n",
    "    print ('Cantidad de palabras {0} en toda la Argentina n: {1}'.format(palabra,n))\n",
    "    print ('Cantidad de palabras en la región N: {0}'.format(N))\n",
    "    #  hypergeom.cdf la funcion de distribucion acumulada de la hipergeometrica\n",
    "    pvalue =  1 - hypergeom.cdf(h0, M, n, N) \n",
    "    print ('p-valor habiendo {0} ocurrencias de la palabra {1} en la región: {2}'.format(h0,palabra,pvalue))"
   ]
  },
  {
   "cell_type": "markdown",
   "metadata": {
    "deletable": true,
    "editable": true
   },
   "source": [
    "## Veo el p-valor de la palabra *cha*  en Formosa y Jujuy"
   ]
  },
  {
   "cell_type": "code",
   "execution_count": 5,
   "metadata": {
    "collapsed": false,
    "deletable": true,
    "editable": true
   },
   "outputs": [
    {
     "name": "stdout",
     "output_type": "stream",
     "text": [
      "Analizamos la palabra cha en la región: formosa, jujuy\n",
      "Cantidad de palabras en toda la Argentina M: 192348167\n",
      "Cantidad de palabras cha en toda la Argentina n: 2116\n",
      "Cantidad de palabras en la región N: 13136160\n",
      "p-valor habiendo 871 ocurrencias de la palabra cha en la región: 0.0\n"
     ]
    }
   ],
   "source": [
    "\n",
    "region = ['formosa','jujuy']\n",
    "palabra = 'cha'\n",
    "calcularPValor(palabra,region)"
   ]
  },
  {
   "cell_type": "markdown",
   "metadata": {
    "deletable": true,
    "editable": true
   },
   "source": [
    "## Veo el p-valor de la palabra *pingo*  en Santiago del Estero y Tucumán"
   ]
  },
  {
   "cell_type": "code",
   "execution_count": 6,
   "metadata": {
    "collapsed": false,
    "deletable": true,
    "editable": true
   },
   "outputs": [
    {
     "name": "stdout",
     "output_type": "stream",
     "text": [
      "Analizamos la palabra pingo en la región: santiago, tucuman\n",
      "Cantidad de palabras en toda la Argentina M: 192348167\n",
      "Cantidad de palabras pingo en toda la Argentina n: 4789\n",
      "Cantidad de palabras en la región N: 16594255\n",
      "p-valor habiendo 2682 ocurrencias de la palabra pingo en la región: 3.30835297158e-07\n"
     ]
    }
   ],
   "source": [
    "\n",
    "region = ['santiago','tucuman']\n",
    "palabra = 'pingo'\n",
    "calcularPValor(palabra,region)"
   ]
  },
  {
   "cell_type": "markdown",
   "metadata": {
    "deletable": true,
    "editable": true
   },
   "source": [
    "## Veo el p-valor de la palabra *anga*  en Chaco y Formosa\n"
   ]
  },
  {
   "cell_type": "code",
   "execution_count": 7,
   "metadata": {
    "collapsed": false,
    "deletable": true,
    "editable": true
   },
   "outputs": [
    {
     "name": "stdout",
     "output_type": "stream",
     "text": [
      "Analizamos la palabra anga en la región: corrientes, formosa, chaco, buenosaires, misiones\n",
      "Cantidad de palabras en toda la Argentina M: 192348167\n",
      "Cantidad de palabras anga en toda la Argentina n: 872\n",
      "Cantidad de palabras en la región N: 39981882\n",
      "p-valor habiendo 850 ocurrencias de la palabra anga en la región: 2.82220063985e-08\n",
      "Analizamos la palabra anga en la región: chaco\n",
      "Cantidad de palabras en toda la Argentina M: 192348167\n",
      "Cantidad de palabras anga en toda la Argentina n: 872\n",
      "Cantidad de palabras en la región N: 7605991\n",
      "p-valor habiendo 125 ocurrencias de la palabra anga en la región: 5.13883952724e-07\n",
      "Analizamos la palabra anga en la región: chaco, buenosaires\n",
      "Cantidad de palabras en toda la Argentina M: 192348167\n",
      "Cantidad de palabras anga en toda la Argentina n: 872\n",
      "Cantidad de palabras en la región N: 16580363\n",
      "p-valor habiendo 129 ocurrencias de la palabra anga en la región: 0.0\n"
     ]
    }
   ],
   "source": [
    "region = ['corrientes','formosa','chaco','buenosaires','misiones']\n",
    "palabra = 'anga'\n",
    "region2 = ['chaco']\n",
    "region3 = ['chaco','buenosaires']\n",
    "calcularPValor(palabra,region)\n",
    "calcularPValor(palabra,region2)\n",
    "calcularPValor(palabra,region3)\n"
   ]
  },
  {
   "cell_type": "markdown",
   "metadata": {},
   "source": [
    "## Veo el p-valor de la palabra *yungas*  en Jujuy"
   ]
  },
  {
   "cell_type": "code",
   "execution_count": 93,
   "metadata": {
    "collapsed": false,
    "deletable": true,
    "editable": true
   },
   "outputs": [
    {
     "name": "stdout",
     "output_type": "stream",
     "text": [
      "Analizamos la palabra yungas en la región: jujuy\n",
      "Cantidad de palabras en toda la Argentina M: 192348167\n",
      "Cantidad de palabras yungas en toda la Argentina n: 98\n",
      "Cantidad de palabras en la región N: 5951778\n",
      "p-valor habiendo 74 ocurrencias de la palabra yungas en la región: 4.64296957547e-08\n"
     ]
    }
   ],
   "source": [
    "region = ['jujuy']\n",
    "palabra = 'yungas'\n",
    "calcularPValor(palabra,region)"
   ]
  },
  {
   "cell_type": "markdown",
   "metadata": {},
   "source": [
    "## Veo el p-valor de la palabra *esar*  en Formosa\n"
   ]
  },
  {
   "cell_type": "code",
   "execution_count": 94,
   "metadata": {
    "collapsed": false,
    "deletable": true,
    "editable": true
   },
   "outputs": [
    {
     "name": "stdout",
     "output_type": "stream",
     "text": [
      "Analizamos la palabra esar en la región: formosa\n",
      "Cantidad de palabras en toda la Argentina M: 192348167\n",
      "Cantidad de palabras esar en toda la Argentina n: 223\n",
      "Cantidad de palabras en la región N: 7184382\n",
      "p-valor habiendo 202 ocurrencias de la palabra esar en la región: 1.80864014876e-08\n"
     ]
    }
   ],
   "source": [
    "region = ['formosa']\n",
    "palabra = 'esar'\n",
    "calcularPValor(palabra,region)"
   ]
  },
  {
   "cell_type": "markdown",
   "metadata": {},
   "source": [
    "## Veo el p-valor de la palabra *asada* en Mendoza y San Juan\n"
   ]
  },
  {
   "cell_type": "code",
   "execution_count": 8,
   "metadata": {
    "collapsed": false
   },
   "outputs": [
    {
     "name": "stdout",
     "output_type": "stream",
     "text": [
      "Analizamos la palabra asada en la región: mendoza, sanjuan\n",
      "Cantidad de palabras en toda la Argentina M: 192348167\n",
      "Cantidad de palabras asada en toda la Argentina n: 708\n",
      "Cantidad de palabras en la región N: 17780191\n",
      "p-valor habiendo 513 ocurrencias de la palabra asada en la región: 5.88163686976e-07\n"
     ]
    }
   ],
   "source": [
    "region = ['mendoza','sanjuan']\n",
    "palabra = 'asada'\n",
    "calcularPValor(palabra,region)"
   ]
  },
  {
   "cell_type": "markdown",
   "metadata": {},
   "source": [
    "## Veo el p-valor de la palabra *manso* en Mendoza y San Juan\n"
   ]
  },
  {
   "cell_type": "code",
   "execution_count": 9,
   "metadata": {
    "collapsed": false
   },
   "outputs": [
    {
     "name": "stdout",
     "output_type": "stream",
     "text": [
      "Analizamos la palabra manso en la región: mendoza, sanjuan\n",
      "Cantidad de palabras en toda la Argentina M: 192348167\n",
      "Cantidad de palabras manso en toda la Argentina n: 3638\n",
      "Cantidad de palabras en la región N: 17780191\n",
      "p-valor habiendo 2045 ocurrencias de la palabra manso en la región: 1.0322888444e-07\n"
     ]
    }
   ],
   "source": [
    "region = ['mendoza','sanjuan']\n",
    "palabra = 'manso'\n",
    "calcularPValor(palabra,region)"
   ]
  },
  {
   "cell_type": "code",
   "execution_count": 28,
   "metadata": {
    "collapsed": false
   },
   "outputs": [
    {
     "name": "stdout",
     "output_type": "stream",
     "text": [
      "Analizamos la palabra manso en la región: misiones, catamarca, santiago, jujuy, corrientes, neuquen, chubut, mendoza, larioja, sanjuan, tierradelfuego, rionegro, salta, buenosaires, misiones, chaco, lapampa, cordoba, sanluis, tucuman\n",
      "Cantidad de palabras en toda la Argentina M: 192348167\n",
      "Cantidad de palabras manso en toda la Argentina n: 3638\n",
      "Cantidad de palabras en la región N: 167195745\n",
      "p-valor habiendo 3109 ocurrencias de la palabra manso en la región: 0.994802425057\n",
      "20\n"
     ]
    }
   ],
   "source": [
    "region = ['misiones','catamarca','santiago','jujuy','corrientes','neuquen','chubut','mendoza','larioja','sanjuan','tierradelfuego','rionegro','salta','buenosaires','misiones','chaco','lapampa','cordoba','sanluis','tucuman']\n",
    "palabra = 'manso'\n",
    "calcularPValor(palabra,region)\n",
    "print len(region)"
   ]
  },
  {
   "cell_type": "code",
   "execution_count": 5,
   "metadata": {
    "collapsed": true,
    "deletable": true,
    "editable": true
   },
   "outputs": [],
   "source": [
    "def poisson_approx(k):\n",
    "    return poisson.pmf(k, mu=(n*N)/float(M))"
   ]
  },
  {
   "cell_type": "code",
   "execution_count": 6,
   "metadata": {
    "collapsed": true,
    "deletable": true,
    "editable": true
   },
   "outputs": [],
   "source": [
    "def norm_approx(k):\n",
    "    p = n / float(M)\n",
    "    return norm.pdf(k, loc= N*p, scale=math.sqrt(N*p*(1-p)))"
   ]
  },
  {
   "cell_type": "markdown",
   "metadata": {
    "deletable": true,
    "editable": true
   },
   "source": [
    "# Hypergeometric mass function"
   ]
  },
  {
   "cell_type": "code",
   "execution_count": 15,
   "metadata": {
    "collapsed": false,
    "deletable": true,
    "editable": true
   },
   "outputs": [
    {
     "ename": "KeyboardInterrupt",
     "evalue": "",
     "output_type": "error",
     "traceback": [
      "\u001b[0;31m---------------------------------------------------------------------------\u001b[0m",
      "\u001b[0;31mKeyboardInterrupt\u001b[0m                         Traceback (most recent call last)",
      "\u001b[0;32m<ipython-input-15-1ec581da76ca>\u001b[0m in \u001b[0;36m<module>\u001b[0;34m()\u001b[0m\n\u001b[1;32m      1\u001b[0m \u001b[0msupport\u001b[0m \u001b[0;34m=\u001b[0m \u001b[0mxrange\u001b[0m\u001b[0;34m(\u001b[0m\u001b[0mN\u001b[0m\u001b[0;34m+\u001b[0m\u001b[0;36m1\u001b[0m\u001b[0;34m)\u001b[0m\u001b[0;34m\u001b[0m\u001b[0m\n\u001b[1;32m      2\u001b[0m \u001b[0;34m\u001b[0m\u001b[0m\n\u001b[0;32m----> 3\u001b[0;31m \u001b[0mhg_masses\u001b[0m \u001b[0;34m=\u001b[0m \u001b[0mmap\u001b[0m\u001b[0;34m(\u001b[0m\u001b[0mhg_pdf\u001b[0m\u001b[0;34m,\u001b[0m \u001b[0msupport\u001b[0m\u001b[0;34m)\u001b[0m\u001b[0;34m\u001b[0m\u001b[0m\n\u001b[0m\u001b[1;32m      4\u001b[0m \u001b[0mpoisson_masses\u001b[0m \u001b[0;34m=\u001b[0m \u001b[0mmap\u001b[0m\u001b[0;34m(\u001b[0m\u001b[0mhg_pdf\u001b[0m\u001b[0;34m,\u001b[0m \u001b[0msupport\u001b[0m\u001b[0;34m)\u001b[0m\u001b[0;34m\u001b[0m\u001b[0m\n\u001b[1;32m      5\u001b[0m \u001b[0mnorm_masses\u001b[0m \u001b[0;34m=\u001b[0m \u001b[0mmap\u001b[0m\u001b[0;34m(\u001b[0m\u001b[0mnorm_approx\u001b[0m\u001b[0;34m,\u001b[0m \u001b[0msupport\u001b[0m\u001b[0;34m)\u001b[0m\u001b[0;34m\u001b[0m\u001b[0m\n",
      "\u001b[0;32m<ipython-input-2-965de56a66d5>\u001b[0m in \u001b[0;36mhg_pdf\u001b[0;34m(k)\u001b[0m\n\u001b[1;32m      4\u001b[0m \u001b[0;34m\u001b[0m\u001b[0m\n\u001b[1;32m      5\u001b[0m \u001b[0;32mdef\u001b[0m \u001b[0mhg_pdf\u001b[0m\u001b[0;34m(\u001b[0m\u001b[0mk\u001b[0m\u001b[0;34m)\u001b[0m\u001b[0;34m:\u001b[0m\u001b[0;34m\u001b[0m\u001b[0m\n\u001b[0;32m----> 6\u001b[0;31m     \u001b[0;32mreturn\u001b[0m \u001b[0mhypergeom\u001b[0m\u001b[0;34m.\u001b[0m\u001b[0mpmf\u001b[0m\u001b[0;34m(\u001b[0m\u001b[0mk\u001b[0m\u001b[0;34m,\u001b[0m \u001b[0mM\u001b[0m\u001b[0;34m=\u001b[0m\u001b[0mM\u001b[0m\u001b[0;34m,\u001b[0m \u001b[0mn\u001b[0m\u001b[0;34m=\u001b[0m\u001b[0mn\u001b[0m\u001b[0;34m,\u001b[0m \u001b[0mN\u001b[0m\u001b[0;34m=\u001b[0m\u001b[0mN\u001b[0m \u001b[0;34m)\u001b[0m\u001b[0;34m\u001b[0m\u001b[0m\n\u001b[0m",
      "\u001b[0;32m/usr/local/lib/python2.7/dist-packages/scipy/stats/_distn_infrastructure.pyc\u001b[0m in \u001b[0;36mpmf\u001b[0;34m(self, k, *args, **kwds)\u001b[0m\n\u001b[1;32m   2817\u001b[0m         \"\"\"\n\u001b[1;32m   2818\u001b[0m         \u001b[0margs\u001b[0m\u001b[0;34m,\u001b[0m \u001b[0mloc\u001b[0m\u001b[0;34m,\u001b[0m \u001b[0m_\u001b[0m \u001b[0;34m=\u001b[0m \u001b[0mself\u001b[0m\u001b[0;34m.\u001b[0m\u001b[0m_parse_args\u001b[0m\u001b[0;34m(\u001b[0m\u001b[0;34m*\u001b[0m\u001b[0margs\u001b[0m\u001b[0;34m,\u001b[0m \u001b[0;34m**\u001b[0m\u001b[0mkwds\u001b[0m\u001b[0;34m)\u001b[0m\u001b[0;34m\u001b[0m\u001b[0m\n\u001b[0;32m-> 2819\u001b[0;31m         \u001b[0mk\u001b[0m\u001b[0;34m,\u001b[0m \u001b[0mloc\u001b[0m \u001b[0;34m=\u001b[0m \u001b[0mmap\u001b[0m\u001b[0;34m(\u001b[0m\u001b[0masarray\u001b[0m\u001b[0;34m,\u001b[0m \u001b[0;34m(\u001b[0m\u001b[0mk\u001b[0m\u001b[0;34m,\u001b[0m \u001b[0mloc\u001b[0m\u001b[0;34m)\u001b[0m\u001b[0;34m)\u001b[0m\u001b[0;34m\u001b[0m\u001b[0m\n\u001b[0m\u001b[1;32m   2820\u001b[0m         \u001b[0margs\u001b[0m \u001b[0;34m=\u001b[0m \u001b[0mtuple\u001b[0m\u001b[0;34m(\u001b[0m\u001b[0mmap\u001b[0m\u001b[0;34m(\u001b[0m\u001b[0masarray\u001b[0m\u001b[0;34m,\u001b[0m \u001b[0margs\u001b[0m\u001b[0;34m)\u001b[0m\u001b[0;34m)\u001b[0m\u001b[0;34m\u001b[0m\u001b[0m\n\u001b[1;32m   2821\u001b[0m         \u001b[0mk\u001b[0m \u001b[0;34m=\u001b[0m \u001b[0masarray\u001b[0m\u001b[0;34m(\u001b[0m\u001b[0;34m(\u001b[0m\u001b[0mk\u001b[0m\u001b[0;34m-\u001b[0m\u001b[0mloc\u001b[0m\u001b[0;34m)\u001b[0m\u001b[0;34m)\u001b[0m\u001b[0;34m\u001b[0m\u001b[0m\n",
      "\u001b[0;32m/usr/local/lib/python2.7/dist-packages/numpy/core/numeric.pyc\u001b[0m in \u001b[0;36masarray\u001b[0;34m(a, dtype, order)\u001b[0m\n\u001b[1;32m    480\u001b[0m \u001b[0;34m\u001b[0m\u001b[0m\n\u001b[1;32m    481\u001b[0m     \"\"\"\n\u001b[0;32m--> 482\u001b[0;31m     \u001b[0;32mreturn\u001b[0m \u001b[0marray\u001b[0m\u001b[0;34m(\u001b[0m\u001b[0ma\u001b[0m\u001b[0;34m,\u001b[0m \u001b[0mdtype\u001b[0m\u001b[0;34m,\u001b[0m \u001b[0mcopy\u001b[0m\u001b[0;34m=\u001b[0m\u001b[0mFalse\u001b[0m\u001b[0;34m,\u001b[0m \u001b[0morder\u001b[0m\u001b[0;34m=\u001b[0m\u001b[0morder\u001b[0m\u001b[0;34m)\u001b[0m\u001b[0;34m\u001b[0m\u001b[0m\n\u001b[0m\u001b[1;32m    483\u001b[0m \u001b[0;34m\u001b[0m\u001b[0m\n\u001b[1;32m    484\u001b[0m \u001b[0;32mdef\u001b[0m \u001b[0masanyarray\u001b[0m\u001b[0;34m(\u001b[0m\u001b[0ma\u001b[0m\u001b[0;34m,\u001b[0m \u001b[0mdtype\u001b[0m\u001b[0;34m=\u001b[0m\u001b[0mNone\u001b[0m\u001b[0;34m,\u001b[0m \u001b[0morder\u001b[0m\u001b[0;34m=\u001b[0m\u001b[0mNone\u001b[0m\u001b[0;34m)\u001b[0m\u001b[0;34m:\u001b[0m\u001b[0;34m\u001b[0m\u001b[0m\n",
      "\u001b[0;31mKeyboardInterrupt\u001b[0m: "
     ]
    }
   ],
   "source": [
    "support = xrange(N+1)\n",
    "\n",
    "hg_masses = map(hg_pdf, support)\n",
    "poisson_masses = map(hg_pdf, support)\n",
    "norm_masses = map(norm_approx, support)"
   ]
  },
  {
   "cell_type": "markdown",
   "metadata": {
    "deletable": true,
    "editable": true
   },
   "source": [
    "En líneas generales parecen iguales... veamos más de cerca"
   ]
  },
  {
   "cell_type": "code",
   "execution_count": null,
   "metadata": {
    "collapsed": false,
    "deletable": true,
    "editable": true
   },
   "outputs": [],
   "source": [
    "plt.stem(hg_masses[:100])"
   ]
  },
  {
   "cell_type": "code",
   "execution_count": null,
   "metadata": {
    "collapsed": false,
    "deletable": true,
    "editable": true
   },
   "outputs": [],
   "source": [
    "plt.stem(poisson_masses[:50])"
   ]
  },
  {
   "cell_type": "code",
   "execution_count": null,
   "metadata": {
    "collapsed": false,
    "deletable": true,
    "editable": true
   },
   "outputs": [],
   "source": [
    "plt.stem(norm_masses[:50])"
   ]
  },
  {
   "cell_type": "code",
   "execution_count": null,
   "metadata": {
    "collapsed": true,
    "deletable": true,
    "editable": true
   },
   "outputs": [],
   "source": []
  }
 ],
 "metadata": {
  "kernelspec": {
   "display_name": "Python 2",
   "language": "python",
   "name": "python2"
  },
  "language_info": {
   "codemirror_mode": {
    "name": "ipython",
    "version": 2
   },
   "file_extension": ".py",
   "mimetype": "text/x-python",
   "name": "python",
   "nbconvert_exporter": "python",
   "pygments_lexer": "ipython2",
   "version": "2.7.12"
  }
 },
 "nbformat": 4,
 "nbformat_minor": 2
}
