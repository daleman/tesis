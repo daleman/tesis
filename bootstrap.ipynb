{
 "cells": [
  {
   "cell_type": "code",
   "execution_count": null,
   "metadata": {
    "collapsed": true
   },
   "outputs": [],
   "source": [
    "from apps import argentina\n",
    "from textos import load_dicts\n",
    "import pandas as pd\n",
    "\"\"\" Este script toma los diccionarios hechos por la funcion dictionary de textos.py y\n",
    " genera .csv que tienen la cantidad de ocurrencias de las palabras por cada usuario.\n",
    "\"\"\"\n",
    "wcd = load_dicts(argentina)\n",
    "words = wcd[0]\n",
    "cant_words = wcd[1]\n",
    "dicc_usuarios = wcd[2]\n",
    "\n",
    "for p in argentina:\n",
    "    df = pd.DataFrame.from_dict(dicc_usuarios[p],orient='index')\n",
    "    #df = df.drop('user_id', 1)\n",
    "    df.fillna(0,inplace=True)\n",
    "    ser = df.sum(axis=0)\n",
    "    df = df[df.sum(axis = 1) > 40]\n",
    "    df = (df / ser)*1000000\n",
    "    df.to_csv('./dataUsuarios/{0}.csv'.format(p),encoding='utf-8')"
   ]
  },
  {
   "cell_type": "code",
   "execution_count": 222,
   "metadata": {
    "collapsed": true
   },
   "outputs": [],
   "source": [
    "import pandas as pd\n",
    "import numpy as np\n",
    "import re\n",
    "from scipy import stats\n",
    "import matplotlib.pyplot as plt\n"
   ]
  },
  {
   "cell_type": "code",
   "execution_count": 82,
   "metadata": {
    "collapsed": true
   },
   "outputs": [],
   "source": [
    "# listado de todas las provincias de argentina\n",
    "provincias = ['jujuy',  'catamarca',  'sanjuan',  'salta',  'rionegro',  'lapampa',  'chaco',\n",
    "               'mendoza',  'buenosaires',  'entrerios',  'chubut',  'santacruz',  'neuquen',\n",
    "               'misiones',  'corrientes',  'formosa',  'santafe',  'santiago',  'cordoba',  'larioja',  'tierradelfuego',  'tucuman',  'sanluis']\n",
    "\n",
    "\n",
    "# el path donde se encuentran los .csv con la cantidad de ocurrencias de cada palabra por cada usuario.\n",
    "# hay un csv por cada provincia, con el nombre [nombreProvincia].csv\n",
    "path = '~/tesis/dataUsuarios/desarrollo/'\n",
    "\n",
    "\n",
    "# leo todos los .csv de cada provincia y creo variables con los dataframes de cada provincia con su nombre respectivo.\n",
    "# ej. la variable buenosaires va a tener el dataframe de buenos aires\n",
    "\n",
    "freqs = {}\n",
    "for p in provincias:\n",
    "    freqs[p] = pd.DataFrame.from_csv(path = path+p+'.csv')\n",
    "  "
   ]
  },
  {
   "cell_type": "code",
   "execution_count": 8,
   "metadata": {
    "collapsed": true
   },
   "outputs": [],
   "source": [
    "# ivalues tiene el csv con las regiones de cada palabra. Estas regiones estan en formato de lista pero como un string\n",
    "# por lo tanto se parsea\n",
    "ivalues = 'notebooks/ivalue_entropia_personas_palabras.csv'\n",
    "df2 = pd.DataFrame.from_csv(ivalues,header=0)"
   ]
  },
  {
   "cell_type": "code",
   "execution_count": 389,
   "metadata": {
    "collapsed": false
   },
   "outputs": [],
   "source": [
    "\n",
    "def H(value1,value2):\n",
    "    x = 0\n",
    "    if value1 > value2:\n",
    "        x=1\n",
    "    elif value1 == value2:\n",
    "        x=0.5\n",
    "    return x\n",
    " \n",
    "# Bootstrap test\n",
    "def bootstraptest (data1,data2,N):\n",
    "    n = min(len(data1),len(data2))\n",
    "    p1 = 0\n",
    "    for i in range(N):\n",
    "        p1 = p1 + H( data1.sample(n=n,replace=True).mean(),data2.sample(n=n,replace=True).mean() )\n",
    "    p1 = p1/float(N)\n",
    "    p2 = (1+2*N*min(p1,1-p1))/float((1+N))\n",
    "    return p2\n",
    "\n"
   ]
  },
  {
   "cell_type": "code",
   "execution_count": 390,
   "metadata": {
    "collapsed": false
   },
   "outputs": [],
   "source": [
    "\n",
    "def region(palabra):\n",
    "    return listaProvincias(df2.loc[palabra,'regionTest'])\n",
    "\n",
    "def sacarCorchetesYComillas(nombre):\n",
    "    return re.sub(\"\\\\[|\\\\]| |'\", \"\", nombre)\n",
    "\n",
    "#la region que toma como parametro esta en formato de lista pero es un string, por eso lo parseo\n",
    "def listaProvincias(region):\n",
    "    return map(sacarCorchetesYComillas,str.split(region,','))\n",
    "\n",
    "\n",
    "def frecuenciaProvincial(palabra,provincia):\n",
    "    \"\"\" Devuelve las frecuencias de la palabra por cada usuario en esa provincia \"\"\"\n",
    "    if (palabra not in freqs[provincia].index):\n",
    "        return pd.Series(np.zeros(len(freqs[provincia].columns)))\n",
    "    else:\n",
    "        return freqs[provincia].loc[palabra]\n",
    "\n",
    "def frecuenciaRegional(palabra,region):\n",
    "    return pd.Series().append([frecuenciaProvincial(palabra,provincia) for provincia in region])\n",
    "\n",
    "\n",
    "def restoPais(region):\n",
    "    \"\"\" calcula el conjunto de provincias que no son parte de la region pasada por parametro \"\"\"\n",
    "    return [x for x in provincias if x not in region]\n",
    "\n",
    "#len(frecuenciaRegional('que',['buenosaires','entrerios']))\n",
    "\n",
    "# calcula la region de la palabra y el resto del pais\n",
    "# luego obtiene las frecuencias en cada region y realiza el bootrstrap test a partir de esos vectores de frecuencias\n",
    "def pvalor(palabra,N=100000):\n",
    "    \"\"\"calcula el pvalor asociado a que la palabra ocurra mas(o menos) en la region que en el resto del pais\"\"\"\n",
    "    region1 = region(palabra)\n",
    "    region2 = restoPais(region1)\n",
    "    freqs1 = (frecuenciaRegional(palabra,region1))\n",
    "    freqs2 = (frecuenciaRegional(palabra,region2))\n",
    "    freqs1.fillna(0)\n",
    "    freqs2.fillna(0)\n",
    "    return bootstraptest(data1 = freqs1,data2 = freqs2,N=N)"
   ]
  },
  {
   "cell_type": "code",
   "execution_count": 391,
   "metadata": {
    "collapsed": false
   },
   "outputs": [
    {
     "data": {
      "text/plain": [
       "palabra\n",
       "hoy    0.592244\n",
       "de     0.708383\n",
       "dtype: float64"
      ]
     },
     "execution_count": 391,
     "metadata": {},
     "output_type": "execute_result"
    }
   ],
   "source": [
    "x = ['hoy','de']\n",
    "df3 = df2.loc[df2.index .isin(x)]\n",
    "df3.apply(lambda x: pvalor(x.name),axis=1)"
   ]
  },
  {
   "cell_type": "code",
   "execution_count": 371,
   "metadata": {
    "collapsed": false
   },
   "outputs": [],
   "source": [
    "def welch(palabra):\n",
    "    a = frecuenciaRegional(palabra,region(palabra))\n",
    "    b = frecuenciaRegional(palabra,restoPais(region(palabra)))\n",
    "    pvalue = stats.ttest_ind(a, b, equal_var = False)[1]\n",
    "    #print(palabra,pvalue)\n",
    "    return pvalue\n",
    "\n",
    "def wilcoxon(palabra):\n",
    "    a = frecuenciaRegional(palabra,region(palabra))\n",
    "    b = frecuenciaRegional(palabra,restoPais(region(palabra)))\n",
    "    minl = min(len(a),len(b))\n",
    "    a=a.sample(n=minl,replace=True)\n",
    "    b=b.sample(n=minl,replace=True)\n",
    "    pvalue = stats.wilcoxon(a, b)[1]\n",
    "    print(palabra,pvalue)\n",
    "    return pvalue\n",
    "\n",
    "def mannw(palabra):\n",
    "    a = frecuenciaRegional(palabra,region(palabra))\n",
    "    b = frecuenciaRegional(palabra,restoPais(region(palabra)))\n",
    "    minl = min(len(a),len(b))\n",
    "    a=a.sample(n=minl,replace=True)\n",
    "    b=b.sample(n=minl,replace=True)\n",
    "    pvalue = stats.mannwhitneyu(a, b)[1]\n",
    "    #print(palabra,pvalue)\n",
    "    return pvalue"
   ]
  },
  {
   "cell_type": "code",
   "execution_count": 378,
   "metadata": {
    "collapsed": false
   },
   "outputs": [
    {
     "data": {
      "text/plain": [
       "1.9388381127417534e-16"
      ]
     },
     "execution_count": 378,
     "metadata": {},
     "output_type": "execute_result"
    }
   ],
   "source": [
    "welch('que')\n",
    "welch('de')\n",
    "welch('aijue')\n",
    "welch('mitai')\n",
    "welch('culia')\n"
   ]
  },
  {
   "cell_type": "code",
   "execution_count": 296,
   "metadata": {
    "collapsed": false
   },
   "outputs": [],
   "source": [
    "df = df2.apply(lambda x: welch(x.name),axis=1)"
   ]
  },
  {
   "cell_type": "code",
   "execution_count": 325,
   "metadata": {
    "collapsed": false
   },
   "outputs": [
    {
     "data": {
      "text/plain": [
       "(16294, 94)"
      ]
     },
     "execution_count": 325,
     "metadata": {},
     "output_type": "execute_result"
    }
   ],
   "source": [
    "df2[df['pvalor']<0.001].shape"
   ]
  },
  {
   "cell_type": "code",
   "execution_count": 330,
   "metadata": {
    "collapsed": false
   },
   "outputs": [],
   "source": [
    "df = pd.DataFrame(df)\n",
    "df.columns = ['pvalor']\n",
    "df4 = pd.merge(df2,df,left_index=True, right_index=True)"
   ]
  },
  {
   "cell_type": "code",
   "execution_count": 360,
   "metadata": {
    "collapsed": false
   },
   "outputs": [
    {
     "data": {
      "image/png": "[encoded data removed]",
      "text/plain": [
       "<matplotlib.figure.Figure at 0x7fac41c87190>"
      ]
     },
     "metadata": {},
     "output_type": "display_data"
    }
   ],
   "source": [
    "df4.plot(x='rankPalabras_Personas',y='pvalor')\n",
    "plt.show()"
   ]
  },
  {
   "cell_type": "code",
   "execution_count": null,
   "metadata": {
    "collapsed": true
   },
   "outputs": [],
   "source": []
  }
 ],
 "metadata": {
  "kernelspec": {
   "display_name": "Python 2",
   "language": "python",
   "name": "python2"
  },
  "language_info": {
   "codemirror_mode": {
    "name": "ipython",
    "version": 2
   },
   "file_extension": ".py",
   "mimetype": "text/x-python",
   "name": "python",
   "nbconvert_exporter": "python",
   "pygments_lexer": "ipython2",
   "version": "2.7.12"
  }
 },
 "nbformat": 4,
 "nbformat_minor": 2
}
