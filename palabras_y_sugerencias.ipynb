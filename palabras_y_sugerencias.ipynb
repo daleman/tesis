{
 "cells": [
  {
   "cell_type": "markdown",
   "metadata": {},
   "source": [
    "# Notebook sobre palabras no en diccionario"
   ]
  },
  {
   "cell_type": "code",
   "execution_count": 1,
   "metadata": {},
   "outputs": [],
   "source": [
    "%load_ext autoreload\n",
    "%autoreload 2\n",
    "import pandas as pd\n",
    "import csv\n",
    "import operator\n",
    "import jellyfish\n",
    "\n",
    "def build_dataframe(csv_path):\n",
    "    with open(csv_path) as f:\n",
    "        rows = csv.reader(open(csv_path))\n",
    "    \n",
    "    header = rows.next()\n",
    "    header[0] = \"order\"\n",
    "    \n",
    "    data = []\n",
    "    for row in rows:\n",
    "        data.append(dict(zip(header, row)))\n",
    "        \n",
    "    return pd.DataFrame(data)\n",
    "    \n",
    "\n",
    "df = build_dataframe(\"palabras.csv\")"
   ]
  },
  {
   "cell_type": "markdown",
   "metadata": {},
   "source": [
    "Para buscar palabras cercanas, vamos a utilizar [la métrica de Jaro-Winkler](https://en.wikipedia.org/wiki/Jaro%E2%80%93Winkler_distance)"
   ]
  },
  {
   "cell_type": "code",
   "execution_count": 2,
   "metadata": {},
   "outputs": [
    {
     "name": "stdout",
     "output_type": "stream",
     "text": [
      "Help on built-in function jaro_winkler in module jellyfish.cjellyfish:\n",
      "\n",
      "jaro_winkler(...)\n",
      "    jaro_winkler(string1, string2, long_tolerance)\n",
      "    \n",
      "    Do a Jaro-Winkler string comparison between string1 and string2.\n",
      "\n",
      "None\n"
     ]
    },
    {
     "data": {
      "text/plain": [
       "0.0"
      ]
     },
     "execution_count": 2,
     "metadata": {},
     "output_type": "execute_result"
    }
   ],
   "source": [
    "print(help(jellyfish.jaro_winkler))\n",
    "jellyfish.jaro_winkler(u\"q\", \"atualização\".decode(\"utf-8\"))"
   ]
  },
  {
   "cell_type": "code",
   "execution_count": 3,
   "metadata": {},
   "outputs": [
    {
     "name": "stdout",
     "output_type": "stream",
     "text": [
      "q --> recomendadas : []\n",
      "promo --> recomendadas : [('promos', 0.9666666666666667), ('proximo', 0.9333333333333333), ('primoo', 0.9022222222222223), ('peroo', 0.88), ('prometi', 0.8742857142857143), ('promise', 0.8742857142857143), ('proxima', 0.8533333333333333)]\n",
      "fran --> recomendadas : [('frank', 0.96), ('francia', 0.9142857142857143), ('frances', 0.9142857142857143), ('francis', 0.9142857142857143), ('franquito', 0.888888888888889), ('francella', 0.888888888888889), ('frak', 0.8833333333333334), ('fria', 0.8666666666666667), ('fana', 0.8500000000000001)]\n",
      "veia --> recomendadas : [('eia', 0.9166666666666666), ('veci', 0.8666666666666667), ('vaia', 0.8500000000000001)]\n",
      "muuy --> recomendadas : [('muyy', 0.8666666666666667)]\n",
      "olivia --> recomendadas : [('olimpia', 0.8944444444444445), ('oliver', 0.8666666666666666)]\n",
      "edu --> recomendadas : []\n",
      "jujeños --> recomendadas : [('juje\\xc3\\xb1o', 0.9714285714285714), ('juje\\xc3\\xb1a', 0.9095238095238095)]\n",
      "kk --> recomendadas : []\n",
      "sobrinita --> recomendadas : [('sobri', 0.9111111111111111), ('sonrisita', 0.9074074074074073), ('sabrina', 0.8571428571428572), ('sori', 0.8518518518518519)]\n",
      "podra --> recomendadas : [('podras', 0.9666666666666667), ('podran', 0.9666666666666667), ('pondria', 0.9238095238095239), ('podriamos', 0.9111111111111111), ('podias', 0.8755555555555556), ('podian', 0.8755555555555556), ('porfaa', 0.8577777777777779)]\n",
      "screen --> recomendadas : [('scream', 0.8666666666666666)]\n",
      "favoor --> recomendadas : [('favorite', 0.8916666666666667), ('faveo', 0.8755555555555556)]\n",
      "maia --> recomendadas : [('miaa', 0.9249999999999999), ('marisa', 0.9111111111111111), ('matina', 0.9111111111111111), ('magica', 0.9111111111111111), ('maiameee', 0.9), ('mais', 0.8833333333333334), ('maki', 0.8666666666666667), ('mamitaaa', 0.8666666666666667), ('marianela', 0.8518518518518519), ('mika', 0.8500000000000001)]\n",
      "nani --> recomendadas : [('narnia', 0.9111111111111111), ('nait', 0.8666666666666667)]\n",
      "chayanne --> recomendadas : [('channel', 0.9083333333333333), ('chayero', 0.8678571428571429)]\n",
      "warriors --> recomendadas : []\n",
      "share --> recomendadas : []\n",
      "tmp --> recomendadas : []\n",
      "vendran --> recomendadas : [('verda', 0.8704761904761905)]\n",
      "bandaa --> recomendadas : []\n"
     ]
    }
   ],
   "source": [
    "import operator\n",
    "\n",
    "similarity = jellyfish.jaro_winkler\n",
    "THRESHOLD = 0.85\n",
    "palabras = df.Palabra\n",
    "sugerencias = {}\n",
    "\n",
    "for i in range(len(palabras)):\n",
    "    p1 = palabras[i]\n",
    "    \n",
    "    palabras_cercanas = []\n",
    "    \n",
    "    for j in range(i+1, len(palabras)):\n",
    "        p2 = palabras[j]\n",
    "        \n",
    "        sim = similarity(p1.decode(\"utf-8\"), p2.decode(\"utf-8\"))\n",
    "        if sim > THRESHOLD:\n",
    "            palabras_cercanas.append((p2, sim))\n",
    "    \n",
    "    palabras_cercanas = sorted(palabras_cercanas, key=operator.itemgetter(1), reverse=True)\n",
    "    sugerencias[p1] = [p[0] for p in palabras_cercanas]\n",
    "    if i % 250 == 0:\n",
    "        print(\"{} --> recomendadas : {}\".format(p1, palabras_cercanas))"
   ]
  },
  {
   "cell_type": "code",
   "execution_count": 10,
   "metadata": {},
   "outputs": [],
   "source": [
    "def sugerencias_a_string(palabra):\n",
    "    sug = sugerencias[palabra]\n",
    "    return u\",\".join(s.decode(\"utf-8\") for s in sug)\n",
    "\n",
    "df['sugerencias'] = map(fruta, df.Palabra)\n",
    "df[[\"Palabra\", \"sugerencias\"]].to_csv(\"palabras_y_sugerencias.csv\", encoding=\"utf-8\")"
   ]
  }
 ],
 "metadata": {
  "kernelspec": {
   "display_name": "Python 2",
   "language": "python",
   "name": "python2"
  },
  "language_info": {
   "codemirror_mode": {
    "name": "ipython",
    "version": 2
   },
   "file_extension": ".py",
   "mimetype": "text/x-python",
   "name": "python",
   "nbconvert_exporter": "python",
   "pygments_lexer": "ipython2",
   "version": "2.7.12"
  }
 },
 "nbformat": 4,
 "nbformat_minor": 2
}
