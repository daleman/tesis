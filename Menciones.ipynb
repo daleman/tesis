{
 "cells": [
  {
   "cell_type": "code",
   "execution_count": 1,
   "metadata": {
    "collapsed": false
   },
   "outputs": [
    {
     "name": "stdout",
     "output_type": "stream",
     "text": [
      "Autenticado\n"
     ]
    }
   ],
   "source": [
    "\n",
    "# coding: utf-8\n",
    "\n",
    "import tweepy\n",
    "import pandas as pd\n",
    "import matplotlib.pyplot as plt\n",
    "import numpy as np\n",
    "\n",
    "pd.options.display.max_columns = 50\n",
    "pd.options.display.max_rows= 50\n",
    "pd.options.display.width= 120\n",
    "\n",
    "consumer_key =\"cf6yoFiRnumb8YCgAc7i2890Z\"\n",
    "consumer_secret = \"V4cP4UqqoYjiyxV8gsK9n91Bztg4qCowhFGLcjngTYBX6BfbmO\"\n",
    "\n",
    "auth = tweepy.OAuthHandler(consumer_key=consumer_key, consumer_secret=consumer_secret)\n",
    "\n",
    "\n",
    "access_token = \"3377301250-JkIbLxJp5oYnJHCJ3SVvBaOezBgTNGTSfyFGDiV\"\n",
    "access_token_secret = \"TDaatB09DV6RjStolXxMayzAe2o836U280xwyI4Z173yj\"\n",
    "auth.set_access_token(access_token, access_token_secret)\n",
    "\n",
    "# Creation of the actual interface, using authentication\n",
    "api = tweepy.API(auth)\n",
    "\n",
    "#Switching to application authentication\n",
    "auth = tweepy.AppAuthHandler(consumer_key, consumer_secret)\n",
    "\n",
    "#Setting up new api wrapper, using authentication only\n",
    "api = tweepy.API(auth, wait_on_rate_limit=True,wait_on_rate_limit_notify=True)\n",
    " \n",
    "#Error handling\n",
    "if (not api):\n",
    "    print (\"Problem Connecting to API\")\n",
    "else:\n",
    "    print \"Autenticado\""
   ]
  },
  {
   "cell_type": "code",
   "execution_count": 31,
   "metadata": {
    "collapsed": false
   },
   "outputs": [
    {
     "name": "stdout",
     "output_type": "stream",
     "text": [
      "1000\n",
      "2000\n",
      "3000\n",
      "4000\n",
      "5000\n",
      "6000\n",
      "Rate limit reached. Sleeping for: 618\n"
     ]
    },
    {
     "ename": "KeyboardInterrupt",
     "evalue": "",
     "output_type": "error",
     "traceback": [
      "\u001b[0;31m---------------------------------------------------------------------------\u001b[0m",
      "\u001b[0;31mKeyboardInterrupt\u001b[0m                         Traceback (most recent call last)",
      "\u001b[0;32m<ipython-input-31-15f709f6bc8a>\u001b[0m in \u001b[0;36m<module>\u001b[0;34m()\u001b[0m\n\u001b[1;32m      1\u001b[0m \u001b[0mi\u001b[0m\u001b[0;34m=\u001b[0m \u001b[0;36m0\u001b[0m\u001b[0;34m\u001b[0m\u001b[0m\n\u001b[1;32m      2\u001b[0m \u001b[0mall_tweets\u001b[0m \u001b[0;34m=\u001b[0m \u001b[0;34m[\u001b[0m\u001b[0;34m]\u001b[0m\u001b[0;34m\u001b[0m\u001b[0m\n\u001b[0;32m----> 3\u001b[0;31m \u001b[0;32mfor\u001b[0m \u001b[0mtweet\u001b[0m \u001b[0;32min\u001b[0m \u001b[0mtweepy\u001b[0m\u001b[0;34m.\u001b[0m\u001b[0mCursor\u001b[0m\u001b[0;34m(\u001b[0m\u001b[0mapi\u001b[0m\u001b[0;34m.\u001b[0m\u001b[0msearch\u001b[0m\u001b[0;34m,\u001b[0m\u001b[0mq\u001b[0m\u001b[0;34m=\u001b[0m\u001b[0;34m'*'\u001b[0m\u001b[0;34m,\u001b[0m\u001b[0mrpp\u001b[0m\u001b[0;34m=\u001b[0m\u001b[0;36m100\u001b[0m\u001b[0;34m,\u001b[0m\u001b[0mlang\u001b[0m\u001b[0;34m=\u001b[0m\u001b[0;34m\"es\"\u001b[0m\u001b[0;34m,\u001b[0m\u001b[0mgeocode\u001b[0m\u001b[0;34m=\u001b[0m\u001b[0;34m\"-34.5916734896,-58.3918617027,3mi\"\u001b[0m\u001b[0;34m)\u001b[0m\u001b[0;34m.\u001b[0m\u001b[0mitems\u001b[0m\u001b[0;34m(\u001b[0m\u001b[0;34m)\u001b[0m\u001b[0;34m:\u001b[0m\u001b[0;34m\u001b[0m\u001b[0m\n\u001b[0m\u001b[1;32m      4\u001b[0m     \u001b[0mi\u001b[0m \u001b[0;34m+=\u001b[0m\u001b[0;36m1\u001b[0m\u001b[0;34m\u001b[0m\u001b[0m\n\u001b[1;32m      5\u001b[0m     \u001b[0;32mif\u001b[0m \u001b[0mi\u001b[0m \u001b[0;34m%\u001b[0m \u001b[0;36m1000\u001b[0m \u001b[0;34m==\u001b[0m \u001b[0;36m0\u001b[0m\u001b[0;34m:\u001b[0m\u001b[0;34m\u001b[0m\u001b[0m\n",
      "\u001b[0;32m/usr/local/lib/python2.7/dist-packages/tweepy/cursor.pyc\u001b[0m in \u001b[0;36mnext\u001b[0;34m(self)\u001b[0m\n\u001b[1;32m    195\u001b[0m         \u001b[0;32mif\u001b[0m \u001b[0mself\u001b[0m\u001b[0;34m.\u001b[0m\u001b[0mcurrent_page\u001b[0m \u001b[0;32mis\u001b[0m \u001b[0mNone\u001b[0m \u001b[0;32mor\u001b[0m \u001b[0mself\u001b[0m\u001b[0;34m.\u001b[0m\u001b[0mpage_index\u001b[0m \u001b[0;34m==\u001b[0m \u001b[0mlen\u001b[0m\u001b[0;34m(\u001b[0m\u001b[0mself\u001b[0m\u001b[0;34m.\u001b[0m\u001b[0mcurrent_page\u001b[0m\u001b[0;34m)\u001b[0m \u001b[0;34m-\u001b[0m \u001b[0;36m1\u001b[0m\u001b[0;34m:\u001b[0m\u001b[0;34m\u001b[0m\u001b[0m\n\u001b[1;32m    196\u001b[0m             \u001b[0;31m# Reached end of current page, get the next page...\u001b[0m\u001b[0;34m\u001b[0m\u001b[0;34m\u001b[0m\u001b[0m\n\u001b[0;32m--> 197\u001b[0;31m             \u001b[0mself\u001b[0m\u001b[0;34m.\u001b[0m\u001b[0mcurrent_page\u001b[0m \u001b[0;34m=\u001b[0m \u001b[0mself\u001b[0m\u001b[0;34m.\u001b[0m\u001b[0mpage_iterator\u001b[0m\u001b[0;34m.\u001b[0m\u001b[0mnext\u001b[0m\u001b[0;34m(\u001b[0m\u001b[0;34m)\u001b[0m\u001b[0;34m\u001b[0m\u001b[0m\n\u001b[0m\u001b[1;32m    198\u001b[0m             \u001b[0mself\u001b[0m\u001b[0;34m.\u001b[0m\u001b[0mpage_index\u001b[0m \u001b[0;34m=\u001b[0m \u001b[0;34m-\u001b[0m\u001b[0;36m1\u001b[0m\u001b[0;34m\u001b[0m\u001b[0m\n\u001b[1;32m    199\u001b[0m         \u001b[0mself\u001b[0m\u001b[0;34m.\u001b[0m\u001b[0mpage_index\u001b[0m \u001b[0;34m+=\u001b[0m \u001b[0;36m1\u001b[0m\u001b[0;34m\u001b[0m\u001b[0m\n",
      "\u001b[0;32m/usr/local/lib/python2.7/dist-packages/tweepy/cursor.pyc\u001b[0m in \u001b[0;36mnext\u001b[0;34m(self)\u001b[0m\n\u001b[1;32m    106\u001b[0m \u001b[0;34m\u001b[0m\u001b[0m\n\u001b[1;32m    107\u001b[0m         \u001b[0;32mif\u001b[0m \u001b[0mself\u001b[0m\u001b[0;34m.\u001b[0m\u001b[0mindex\u001b[0m \u001b[0;34m>=\u001b[0m \u001b[0mlen\u001b[0m\u001b[0;34m(\u001b[0m\u001b[0mself\u001b[0m\u001b[0;34m.\u001b[0m\u001b[0mresults\u001b[0m\u001b[0;34m)\u001b[0m \u001b[0;34m-\u001b[0m \u001b[0;36m1\u001b[0m\u001b[0;34m:\u001b[0m\u001b[0;34m\u001b[0m\u001b[0m\n\u001b[0;32m--> 108\u001b[0;31m             \u001b[0mdata\u001b[0m \u001b[0;34m=\u001b[0m \u001b[0mself\u001b[0m\u001b[0;34m.\u001b[0m\u001b[0mmethod\u001b[0m\u001b[0;34m(\u001b[0m\u001b[0mmax_id\u001b[0m\u001b[0;34m=\u001b[0m\u001b[0mself\u001b[0m\u001b[0;34m.\u001b[0m\u001b[0mmax_id\u001b[0m\u001b[0;34m,\u001b[0m \u001b[0mparser\u001b[0m\u001b[0;34m=\u001b[0m\u001b[0mRawParser\u001b[0m\u001b[0;34m(\u001b[0m\u001b[0;34m)\u001b[0m\u001b[0;34m,\u001b[0m \u001b[0;34m*\u001b[0m\u001b[0mself\u001b[0m\u001b[0;34m.\u001b[0m\u001b[0margs\u001b[0m\u001b[0;34m,\u001b[0m \u001b[0;34m**\u001b[0m\u001b[0mself\u001b[0m\u001b[0;34m.\u001b[0m\u001b[0mkargs\u001b[0m\u001b[0;34m)\u001b[0m\u001b[0;34m\u001b[0m\u001b[0m\n\u001b[0m\u001b[1;32m    109\u001b[0m \u001b[0;34m\u001b[0m\u001b[0m\n\u001b[1;32m    110\u001b[0m             \u001b[0;32mif\u001b[0m \u001b[0mhasattr\u001b[0m\u001b[0;34m(\u001b[0m\u001b[0mself\u001b[0m\u001b[0;34m.\u001b[0m\u001b[0mmethod\u001b[0m\u001b[0;34m,\u001b[0m \u001b[0;34m'__self__'\u001b[0m\u001b[0;34m)\u001b[0m\u001b[0;34m:\u001b[0m\u001b[0;34m\u001b[0m\u001b[0m\n",
      "\u001b[0;32m/usr/local/lib/python2.7/dist-packages/tweepy/binder.pyc\u001b[0m in \u001b[0;36m_call\u001b[0;34m(*args, **kwargs)\u001b[0m\n\u001b[1;32m    243\u001b[0m             \u001b[0;32mreturn\u001b[0m \u001b[0mmethod\u001b[0m\u001b[0;34m\u001b[0m\u001b[0m\n\u001b[1;32m    244\u001b[0m         \u001b[0;32melse\u001b[0m\u001b[0;34m:\u001b[0m\u001b[0;34m\u001b[0m\u001b[0m\n\u001b[0;32m--> 245\u001b[0;31m             \u001b[0;32mreturn\u001b[0m \u001b[0mmethod\u001b[0m\u001b[0;34m.\u001b[0m\u001b[0mexecute\u001b[0m\u001b[0;34m(\u001b[0m\u001b[0;34m)\u001b[0m\u001b[0;34m\u001b[0m\u001b[0m\n\u001b[0m\u001b[1;32m    246\u001b[0m \u001b[0;34m\u001b[0m\u001b[0m\n\u001b[1;32m    247\u001b[0m     \u001b[0;31m# Set pagination mode\u001b[0m\u001b[0;34m\u001b[0m\u001b[0;34m\u001b[0m\u001b[0m\n",
      "\u001b[0;32m/usr/local/lib/python2.7/dist-packages/tweepy/binder.pyc\u001b[0m in \u001b[0;36mexecute\u001b[0;34m(self)\u001b[0m\n\u001b[1;32m    160\u001b[0m                                     \u001b[0;32mif\u001b[0m \u001b[0mself\u001b[0m\u001b[0;34m.\u001b[0m\u001b[0mwait_on_rate_limit_notify\u001b[0m\u001b[0;34m:\u001b[0m\u001b[0;34m\u001b[0m\u001b[0m\n\u001b[1;32m    161\u001b[0m                                         \u001b[0;32mprint\u001b[0m\u001b[0;34m(\u001b[0m\u001b[0;34m\"Rate limit reached. Sleeping for:\"\u001b[0m\u001b[0;34m,\u001b[0m \u001b[0msleep_time\u001b[0m\u001b[0;34m)\u001b[0m\u001b[0;34m\u001b[0m\u001b[0m\n\u001b[0;32m--> 162\u001b[0;31m                                     \u001b[0mtime\u001b[0m\u001b[0;34m.\u001b[0m\u001b[0msleep\u001b[0m\u001b[0;34m(\u001b[0m\u001b[0msleep_time\u001b[0m \u001b[0;34m+\u001b[0m \u001b[0;36m5\u001b[0m\u001b[0;34m)\u001b[0m  \u001b[0;31m# sleep for few extra sec\u001b[0m\u001b[0;34m\u001b[0m\u001b[0m\n\u001b[0m\u001b[1;32m    163\u001b[0m \u001b[0;34m\u001b[0m\u001b[0m\n\u001b[1;32m    164\u001b[0m                 \u001b[0;31m# if self.wait_on_rate_limit and self._reset_time is not None and \\\u001b[0m\u001b[0;34m\u001b[0m\u001b[0;34m\u001b[0m\u001b[0m\n",
      "\u001b[0;31mKeyboardInterrupt\u001b[0m: "
     ]
    }
   ],
   "source": [
    "i= 0\n",
    "all_tweets = []\n",
    "for tweet in tweepy.Cursor(api.search,q='*',rpp=100,lang=\"es\",geocode=\"-34.5916734896,-58.3918617027,3mi\").items():\n",
    "    i +=1\n",
    "    if i % 1000 == 0:\n",
    "        print i\n",
    "    all_tweets.append(tweet)\n",
    "        \n",
    "\n",
    "print len(all_tweets)"
   ]
  },
  {
   "cell_type": "code",
   "execution_count": 40,
   "metadata": {
    "collapsed": false
   },
   "outputs": [
    {
     "name": "stdout",
     "output_type": "stream",
     "text": [
      " RT @ESPNRedes: Así cualquiera arranca el gimnasio un lunes... https://t.co/D6jU4F9oMz\n",
      "6196\n",
      "1224\n",
      "Buenos Aires, Argentina 1891\n",
      " 1251\n",
      "Buenos Aires 393\n",
      "Argentina 167\n",
      "Buenos Aires, Argentina. 61\n",
      "Buenos Aires - Argentina 56\n",
      "Ciudad Autónoma de Buenos Aire 53\n",
      "buenos aires 47\n",
      "Buenos Aires  45\n",
      "Córdoba, Argentina 42\n",
      "Buenos Aires, Argentina  39\n",
      "Avellaneda, Argentina 19\n",
      "Argentina, Buenos Aires 19\n",
      "Santa Fe, Argentina 17\n",
      "Argentina  17\n",
      "Rosario, Argentina 17\n",
      "Uruguay 17\n",
      "Misiones, Argentina 16\n",
      "BUENOS AIRES 15\n",
      "Buenos Aires-Argentina 15\n"
     ]
    }
   ],
   "source": [
    "places_dict = {}\n",
    "loc = {}\n",
    "print all_tweets[8].text\n",
    "\n",
    "for tweet in all_tweets:\n",
    "    if tweet.user.location != None:\n",
    "        loc[tweet.user.location] = 1 if not loc.has_key(tweet.user.location) else loc[tweet.user.location] +1\n",
    "    if tweet.place != None:\n",
    "        places_dict[tweet.place.country] = 1 if not places_dict.has_key(tweet.place.name) else places_dict[tweet.place.name] + 1\n",
    "\n",
    "print len(all_tweets)\n",
    "print len(loc)\n",
    "\n",
    "canti = 20\n",
    "for w in sorted(loc, key=loc.get, reverse=True)[:canti]:\n",
    "    print w, loc[w]\n",
    "\n",
    "\n",
    "\n"
   ]
  },
  {
   "cell_type": "code",
   "execution_count": 34,
   "metadata": {
    "collapsed": false
   },
   "outputs": [
    {
     "data": {
      "image/png": "[encoded data removed]",
      "text/plain": [
       "<matplotlib.figure.Figure at 0x7fc77d19edd0>"
      ]
     },
     "metadata": {},
     "output_type": "display_data"
    }
   ],
   "source": [
    "plt.title(\"Histograma de lugares\")\n",
    "plt.xlabel(\"Lugares\")\n",
    "plt.ylabel(\"Frecuencia\")\n",
    "\n",
    "index = np.arange(len(loc.keys()))\n",
    "bar_width = 0.35\n",
    "\n",
    "\n",
    "cant = 10\n",
    "valores = sorted(loc.values(),reverse=True)\n",
    "claves = sorted(loc, key=loc.get,reverse=True)\n",
    "\n",
    "opacity = 0.4\n",
    "plt.xticks(index + bar_width, claves[:cant], size=6, rotation=\"vertical\")\n",
    "plt.bar(range(cant),valores[:cant],alpha=opacity,color='b',)\n",
    "plt.tight_layout()\n",
    "plt.show()"
   ]
  },
  {
   "cell_type": "code",
   "execution_count": 111,
   "metadata": {
    "collapsed": false
   },
   "outputs": [
    {
     "name": "stdout",
     "output_type": "stream",
     "text": [
      "Buenos Aires, Argentina.\n",
      "Buenos Aires\n",
      "Buenos Aires, Argentina\n",
      "Buenos Aires \n",
      "Buenos Aires - Argentina\n",
      "Buenos Aires, Argentina\n",
      "Buenos Aires\n",
      "Buenos Aires, Argentina\n",
      "Buenos Aires\n",
      "Buenos Aires, Argentina\n",
      "Buenos Aires, Argentina\n",
      "Buenos Aires, Argentina\n",
      "Buenos Aires \n",
      "baires \n",
      "Buenos Aires, Argentina\n",
      "Buenos Aires\n",
      "Buenos Aires, Argentina\n",
      "Buenos Aires, Argentina\n",
      "Buenos Aires, Argentina\n",
      "Buenos Aires,Argentina\n",
      "Buenos Aires, Argentina\n",
      "Buenos Aires, Argentina\n",
      "Buenos Aires, Argentina\n",
      "buenos aires \n",
      "Buenos Aires, Argentina\n",
      "Buenos Aires\n",
      "Buenos Aires, Argentina\n",
      "Buenos Aires, Argentina\n",
      "Buenos Aires, Argentina\n",
      "Buenos Aires\n",
      "Buenos Aires, Argentina\n",
      "Buenos Aires, Argentina\n",
      "Buenos Aires, Argentina\n",
      "Buenos Aires, Argentina\n",
      "Buenos Aires, Argentina\n",
      "Buenos Aires\n",
      "Buenos Aires\n",
      "Buenos Aires, Argentina\n",
      "Buenos Aires, Argentina\n",
      "Buenos Aires, Argentina\n",
      "Buenos Aires, Argentina\n",
      "Buenos Aires, Argentina\n",
      "Buenos Aires, Argentina.\n"
     ]
    }
   ],
   "source": [
    "import json\n",
    "cor = []\n",
    "for tweet in all_tweets:\n",
    "    if tweet.user.location == u'Córdoba, Argentina':\n",
    "        cor.append(tweet)\n",
    "\n",
    "#print dir(cor[0])   \n",
    "ids = []\n",
    "for c in cor:\n",
    "    temp_id = c.entities['user_mentions'][0]['id']\n",
    "    ids.append(temp_id)\n",
    "    tuser = api.get_user(temp_id)\n",
    "    print tuser.location\n",
    "    \n",
    "print temp.location\n",
    "#print  json.dumps(cor[0]._json,sort_keys=False,indent=2, separators=(',', ': '))"
   ]
  },
  {
   "cell_type": "code",
   "execution_count": 127,
   "metadata": {
    "collapsed": false
   },
   "outputs": [
    {
     "name": "stdout",
     "output_type": "stream",
     "text": [
      "Buenos Aires, Argentina 482\n",
      "Buenos Aires 178\n",
      "Buenos Aires  28\n",
      "Buenos Aires, Argentina. 19\n",
      "Buenos Aires - Argentina 9\n",
      " 8\n",
      "Argentina, Buenos Aires 7\n",
      "buenos aires 6\n",
      "Buenos Aires .. 5\n",
      "Buenos aires 4\n",
      "Buenos Aires, Capital Federal. 4\n",
      "Buenos Aires Argentina 3\n",
      "Argentina - Buenos Aires 3\n",
      "Buenos Aires, Argentina  3\n",
      " Buenos Aires, Argentina 3\n",
      "Ciudad Buenos Aires Argentina 2\n",
      "Baires 2\n",
      "Cdad Autónoma de Buenos Aires 2\n",
      "BUENOS AIRES 2\n",
      "La Boca, Buenos Aires. 2\n",
      "Buenos Aires,Argentina 2\n",
      "Buenos Aires (Argentina) 1\n",
      " BAires. 1\n",
      "myanmar 1\n",
      "Buenos Aires, Argentina.  1\n",
      " Buenos Aires-ARGENTINA. 1\n",
      "buenos aires. 1\n",
      "Argentina 1\n",
      "Argentina, Buenos Aires. 1\n",
      "José C. Paz, Buenos Aires 1\n",
      "Buenos Aires-Argentina. 1\n",
      "Luján, Argentina 1\n",
      "Buenos Aires City. 1\n",
      "Jose C Paz, Buenos Aires 1\n",
      "buenos aires,argentina 1\n",
      "Buenos Aires; Argentina. 1\n",
      "Buenos Aires. 1\n",
      "La Boca, Buenos Aires 1\n",
      "Buenos Aires City 1\n",
      " Colombia 1\n",
      "Pcia. Buenos Aires 1\n",
      "Barracas, Buenos Aires 1\n",
      "Buenos Aires , Argentina 1\n",
      "796\n"
     ]
    }
   ],
   "source": [
    "total = 0\n",
    "for w in sorted(tusers, key=tusers.get, reverse=True):\n",
    "    print w, tusers[w]\n",
    "    total +=tusers[w]\n",
    "print total"
   ]
  },
  {
   "cell_type": "code",
   "execution_count": 117,
   "metadata": {
    "collapsed": false
   },
   "outputs": [
    {
     "name": "stdout",
     "output_type": "stream",
     "text": [
      "1251\n",
      "Rate limit reached. Sleeping for: 419\n"
     ]
    },
    {
     "ename": "KeyboardInterrupt",
     "evalue": "",
     "output_type": "error",
     "traceback": [
      "\u001b[0;31m---------------------------------------------------------------------------\u001b[0m",
      "\u001b[0;31mKeyboardInterrupt\u001b[0m                         Traceback (most recent call last)",
      "\u001b[0;32m<ipython-input-117-7cb4319e5fcb>\u001b[0m in \u001b[0;36m<module>\u001b[0;34m()\u001b[0m\n\u001b[1;32m     16\u001b[0m             \u001b[0mtemp_id\u001b[0m \u001b[0;34m=\u001b[0m \u001b[0mc\u001b[0m\u001b[0;34m.\u001b[0m\u001b[0mentities\u001b[0m\u001b[0;34m[\u001b[0m\u001b[0;34m'user_mentions'\u001b[0m\u001b[0;34m]\u001b[0m\u001b[0;34m[\u001b[0m\u001b[0;36m0\u001b[0m\u001b[0;34m]\u001b[0m\u001b[0;34m[\u001b[0m\u001b[0;34m'id'\u001b[0m\u001b[0;34m]\u001b[0m\u001b[0;34m\u001b[0m\u001b[0m\n\u001b[1;32m     17\u001b[0m             \u001b[0mids\u001b[0m\u001b[0;34m.\u001b[0m\u001b[0mappend\u001b[0m\u001b[0;34m(\u001b[0m\u001b[0mtemp_id\u001b[0m\u001b[0;34m)\u001b[0m\u001b[0;34m\u001b[0m\u001b[0m\n\u001b[0;32m---> 18\u001b[0;31m             \u001b[0mtuser\u001b[0m \u001b[0;34m=\u001b[0m \u001b[0mapi\u001b[0m\u001b[0;34m.\u001b[0m\u001b[0mget_user\u001b[0m\u001b[0;34m(\u001b[0m\u001b[0mtemp_id\u001b[0m\u001b[0;34m)\u001b[0m\u001b[0;34m\u001b[0m\u001b[0m\n\u001b[0m\u001b[1;32m     19\u001b[0m             \u001b[0mtusers\u001b[0m\u001b[0;34m[\u001b[0m\u001b[0mtuser\u001b[0m\u001b[0;34m.\u001b[0m\u001b[0mlocation\u001b[0m\u001b[0;34m]\u001b[0m \u001b[0;34m=\u001b[0m \u001b[0;36m1\u001b[0m \u001b[0;32mif\u001b[0m \u001b[0;32mnot\u001b[0m \u001b[0mtusers\u001b[0m\u001b[0;34m.\u001b[0m\u001b[0mhas_key\u001b[0m\u001b[0;34m(\u001b[0m\u001b[0mtuser\u001b[0m\u001b[0;34m.\u001b[0m\u001b[0mlocation\u001b[0m\u001b[0;34m)\u001b[0m \u001b[0;32melse\u001b[0m \u001b[0mtusers\u001b[0m\u001b[0;34m[\u001b[0m\u001b[0mtuser\u001b[0m\u001b[0;34m.\u001b[0m\u001b[0mlocation\u001b[0m\u001b[0;34m]\u001b[0m \u001b[0;34m+\u001b[0m\u001b[0;36m1\u001b[0m\u001b[0;34m\u001b[0m\u001b[0m\n\u001b[1;32m     20\u001b[0m         \u001b[0;32melse\u001b[0m\u001b[0;34m:\u001b[0m\u001b[0;34m\u001b[0m\u001b[0m\n",
      "\u001b[0;32m/usr/local/lib/python2.7/dist-packages/tweepy/binder.pyc\u001b[0m in \u001b[0;36m_call\u001b[0;34m(*args, **kwargs)\u001b[0m\n\u001b[1;32m    243\u001b[0m             \u001b[0;32mreturn\u001b[0m \u001b[0mmethod\u001b[0m\u001b[0;34m\u001b[0m\u001b[0m\n\u001b[1;32m    244\u001b[0m         \u001b[0;32melse\u001b[0m\u001b[0;34m:\u001b[0m\u001b[0;34m\u001b[0m\u001b[0m\n\u001b[0;32m--> 245\u001b[0;31m             \u001b[0;32mreturn\u001b[0m \u001b[0mmethod\u001b[0m\u001b[0;34m.\u001b[0m\u001b[0mexecute\u001b[0m\u001b[0;34m(\u001b[0m\u001b[0;34m)\u001b[0m\u001b[0;34m\u001b[0m\u001b[0m\n\u001b[0m\u001b[1;32m    246\u001b[0m \u001b[0;34m\u001b[0m\u001b[0m\n\u001b[1;32m    247\u001b[0m     \u001b[0;31m# Set pagination mode\u001b[0m\u001b[0;34m\u001b[0m\u001b[0;34m\u001b[0m\u001b[0m\n",
      "\u001b[0;32m/usr/local/lib/python2.7/dist-packages/tweepy/binder.pyc\u001b[0m in \u001b[0;36mexecute\u001b[0;34m(self)\u001b[0m\n\u001b[1;32m    160\u001b[0m                                     \u001b[0;32mif\u001b[0m \u001b[0mself\u001b[0m\u001b[0;34m.\u001b[0m\u001b[0mwait_on_rate_limit_notify\u001b[0m\u001b[0;34m:\u001b[0m\u001b[0;34m\u001b[0m\u001b[0m\n\u001b[1;32m    161\u001b[0m                                         \u001b[0;32mprint\u001b[0m\u001b[0;34m(\u001b[0m\u001b[0;34m\"Rate limit reached. Sleeping for:\"\u001b[0m\u001b[0;34m,\u001b[0m \u001b[0msleep_time\u001b[0m\u001b[0;34m)\u001b[0m\u001b[0;34m\u001b[0m\u001b[0m\n\u001b[0;32m--> 162\u001b[0;31m                                     \u001b[0mtime\u001b[0m\u001b[0;34m.\u001b[0m\u001b[0msleep\u001b[0m\u001b[0;34m(\u001b[0m\u001b[0msleep_time\u001b[0m \u001b[0;34m+\u001b[0m \u001b[0;36m5\u001b[0m\u001b[0;34m)\u001b[0m  \u001b[0;31m# sleep for few extra sec\u001b[0m\u001b[0;34m\u001b[0m\u001b[0m\n\u001b[0m\u001b[1;32m    163\u001b[0m \u001b[0;34m\u001b[0m\u001b[0m\n\u001b[1;32m    164\u001b[0m                 \u001b[0;31m# if self.wait_on_rate_limit and self._reset_time is not None and \\\u001b[0m\u001b[0;34m\u001b[0m\u001b[0;34m\u001b[0m\u001b[0m\n",
      "\u001b[0;31mKeyboardInterrupt\u001b[0m: "
     ]
    }
   ],
   "source": [
    "import json\n",
    "cor2 = []\n",
    "for tweet in all_tweets:\n",
    "    if tweet.user.location == u'':\n",
    "        cor2.append(tweet)\n",
    "print len(cor2)\n",
    "#print dir(cor[0])   \n",
    "ids2 = []\n",
    "\n",
    "tusers = {}\n",
    "sinMenciones = 0\n",
    "sin = 0\n",
    "for c in cor2:\n",
    "    if c.entities != None:\n",
    "        if len(c.entities['user_mentions']) != 0:\n",
    "            temp_id = c.entities['user_mentions'][0]['id']\n",
    "            ids.append(temp_id)\n",
    "            tuser = api.get_user(temp_id)\n",
    "            tusers[tuser.location] = 1 if not tusers.has_key(tuser.location) else tusers[tuser.location] +1\n",
    "        else:\n",
    "            sin +=1\n",
    "    else:\n",
    "        sinMenciones +=1\n",
    "\n",
    "print sinMenciones\n",
    "#print  json.dumps(cor[0]._json,sort_keys=False,indent=2, separators=(',', ': '))"
   ]
  }
 ],
 "metadata": {
  "kernelspec": {
   "display_name": "Python 2",
   "language": "python",
   "name": "python2"
  },
  "language_info": {
   "codemirror_mode": {
    "name": "ipython",
    "version": 2
   },
   "file_extension": ".py",
   "mimetype": "text/x-python",
   "name": "python",
   "nbconvert_exporter": "python",
   "pygments_lexer": "ipython2",
   "version": "2.7.12"
  }
 },
 "nbformat": 4,
 "nbformat_minor": 1
}
