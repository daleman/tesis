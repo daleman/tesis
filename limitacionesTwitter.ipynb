{
 "cells": [
  {
   "cell_type": "markdown",
   "metadata": {},
   "source": [
    "# Limites de cantidad de resultados:\n",
    "## https://dev.twitter.com/rest/public/rate-limits\n",
    "\n",
    "\n",
    "<table> <tr> <th>Title</th>\t<th>Resource family</th>\t<th>Requests / 15-min window (user auth)</th>\t<th>Requests / 15-min window (app auth)</th></tr>\n",
    "<tr> <td>GET search/tweets</td>\t<td>search</td>\t<td>180</td>\t<td>450</td> </tr>\n",
    "<td>GET followers/list</td>\t<td>followers</td>\t<td>15</td>\t<td>30</td>\n",
    "</table>"
   ]
  },
  {
   "cell_type": "markdown",
   "metadata": {},
   "source": [
    "## Autenticación de App"
   ]
  },
  {
   "cell_type": "code",
   "execution_count": 44,
   "metadata": {
    "collapsed": false
   },
   "outputs": [
    {
     "name": "stdout",
     "output_type": "stream",
     "text": [
      "Autenticado\n"
     ]
    }
   ],
   "source": [
    "# coding: utf-8\n",
    "\n",
    "import tweepy\n",
    "import pandas as pd\n",
    "import matplotlib.pyplot as plt\n",
    "import numpy as np\n",
    "\n",
    "pd.options.display.max_columns = 50\n",
    "pd.options.display.max_rows= 50\n",
    "pd.options.display.width= 120\n",
    "\n",
    "consumer_key =\"fshtLxpED9vXbZl5gVkaSowGr\"\n",
    "consumer_secret = \"H2qEQC4wU2a1IkbKpNMlVbac1IV0vWlZMPmoyfyAVZCmZfUuZa\"\n",
    "\n",
    "auth = tweepy.OAuthHandler(consumer_key=consumer_key, consumer_secret=consumer_secret)\n",
    "\n",
    "\n",
    "access_token = \"3377301250-BAi7czgq59etPjYpZWFfJHOHIf048vaxsJ9G9Yo\"\n",
    "access_token_secret = \"mpIeF0mEGjFTwUIUtd9nr20nu8O675zEFZlVPuTt12jcF\"\n",
    "auth.set_access_token(access_token, access_token_secret)\n",
    "\n",
    "# Creation of the actual interface, using authentication\n",
    "api = tweepy.API(auth)\n",
    "\n",
    "print \"Autenticado\"\n",
    "#print api.rate_limit_status()\n",
    "#Switching to application authentication\n",
    "auth = tweepy.AppAuthHandler(consumer_key, consumer_secret)\n",
    "\n",
    "#Setting up new api wrapper, using authentication only\n",
    "api = tweepy.API(auth, wait_on_rate_limit=True,wait_on_rate_limit_notify=True)\n",
    " \n",
    "#Error handling\n",
    "if (not api):\n",
    "    print (\"Problem Connecting to API\")"
   ]
  },
  {
   "cell_type": "code",
   "execution_count": 34,
   "metadata": {
    "collapsed": false
   },
   "outputs": [],
   "source": [
    "places = api.geo_search(query=\"Argentina\", granularity=\"country\")\n"
   ]
  },
  {
   "cell_type": "code",
   "execution_count": 38,
   "metadata": {
    "collapsed": false
   },
   "outputs": [
    {
     "name": "stdout",
     "output_type": "stream",
     "text": [
      "1\n",
      "('El id de Argentina es: ', u'4d3b316fe2e52b29')\n"
     ]
    }
   ],
   "source": [
    "print len(places)\n",
    "\n",
    "place_id = places[0].id\n",
    "print('El id de Argentina es: ',place_id)"
   ]
  },
  {
   "cell_type": "code",
   "execution_count": 54,
   "metadata": {
    "collapsed": false
   },
   "outputs": [
    {
     "data": {
      "text/plain": [
       "{u'/search/tweets': {u'limit': 450, u'remaining': 450, u'reset': 1480027319}}"
      ]
     },
     "execution_count": 54,
     "metadata": {},
     "output_type": "execute_result"
    }
   ],
   "source": [
    "api.rate_limit_status()['resources']['search']"
   ]
  },
  {
   "cell_type": "markdown",
   "metadata": {},
   "source": [
    "# Busco tweets con localización en Bs As"
   ]
  },
  {
   "cell_type": "code",
   "execution_count": null,
   "metadata": {
    "collapsed": false
   },
   "outputs": [
    {
     "name": "stdout",
     "output_type": "stream",
     "text": [
      "100\n",
      "200\n",
      "300\n",
      "400\n",
      "500\n",
      "600\n",
      "700\n",
      "800\n",
      "900\n",
      "1000\n",
      "1100\n",
      "1200\n",
      "1300\n",
      "1400\n",
      "1500\n",
      "1600\n",
      "1700\n",
      "1800\n",
      "1900\n",
      "2000\n",
      "2100\n",
      "2200\n",
      "2300\n",
      "2400\n",
      "2500\n",
      "2600\n",
      "2700\n",
      "2800\n",
      "2900\n",
      "3000\n",
      "3100\n",
      "3200\n",
      "3300\n",
      "3400\n",
      "3500\n",
      "3600\n",
      "3700\n",
      "3800\n",
      "3900\n",
      "4000\n",
      "4100\n",
      "4200\n",
      "4300\n",
      "4400\n",
      "4500\n",
      "4600\n",
      "4700\n",
      "4800\n",
      "4900\n",
      "5000\n",
      "5100\n",
      "5200\n",
      "5300\n",
      "5400\n",
      "5500\n",
      "5600\n",
      "5700\n",
      "5800\n",
      "5900\n",
      "6000\n",
      "6100\n",
      "6200\n",
      "6300\n",
      "6400\n",
      "6500\n",
      "6600\n",
      "6700\n",
      "6800\n",
      "6900\n",
      "7000\n",
      "7100\n",
      "7200\n",
      "7300\n",
      "7400\n",
      "7500\n",
      "7600\n",
      "7700\n",
      "7800\n",
      "7900\n",
      "8000\n",
      "8100\n",
      "8200\n"
     ]
    }
   ],
   "source": [
    "\n",
    "i= 0\n",
    "results = []\n",
    "#maxid = results2[-1][-1].id - 1\n",
    "\n",
    "#,max_id=maxId,since_id=sinceId\n",
    "\n",
    "all_tweets = []\n",
    "\n",
    "maxId = 1000000000000000000000000000\n",
    "sinceId = -1\n",
    "for tweet in tweepy.Cursor(api.search, count=100,lang=\"es\",geocode=\"-34.5916734896,-58.3918617027,3mi\").items():\n",
    "    #print(tweet.id)\n",
    "    i += 1\n",
    "    if i % 100 == 0:\n",
    "        print i\n",
    "    all_tweets.append(tweet)\n",
    "        \n",
    "    #maxId = results[-1][-1].id - 1  \n",
    "    #for t in results[i]:\n",
    "    #    all_tweets.append(t)\n",
    "    #    if t.id > sinceId:\n",
    "    #        sinceId = t.id\n",
    "    #        print sinceId\n",
    "print len(results)\n",
    "\n",
    "print len(all_tweets)\n"
   ]
  },
  {
   "cell_type": "code",
   "execution_count": 48,
   "metadata": {
    "collapsed": false
   },
   "outputs": [
    {
     "name": "stdout",
     "output_type": "stream",
     "text": [
      "44832\n",
      "801904428215365633\n"
     ]
    }
   ],
   "source": [
    "print len(all_tweets)\n",
    "print all_tweets[0].id"
   ]
  },
  {
   "cell_type": "markdown",
   "metadata": {},
   "source": [
    "## Me fijo si hay repetidos"
   ]
  },
  {
   "cell_type": "code",
   "execution_count": 49,
   "metadata": {
    "collapsed": false,
    "scrolled": false
   },
   "outputs": [
    {
     "name": "stdout",
     "output_type": "stream",
     "text": [
      "44832\n",
      "Hay 0 repetidos\n"
     ]
    }
   ],
   "source": [
    "  \n",
    "ids = [tweet.id for tweet in all_tweets]\n",
    "    \n",
    "#print ids.sort()\n",
    "print len(ids)\n",
    "\n",
    "import collections\n",
    "repetidos =  [item for item, count in collections.Counter(ids).items() if count > 1]\n",
    "print \"Hay \" + str(len(repetidos)) + \" repetidos\""
   ]
  },
  {
   "cell_type": "markdown",
   "metadata": {},
   "source": [
    "## Veo cantidad de tweets con localización"
   ]
  },
  {
   "cell_type": "code",
   "execution_count": 63,
   "metadata": {
    "collapsed": false
   },
   "outputs": [
    {
     "name": "stdout",
     "output_type": "stream",
     "text": [
      "Hay 44832 tweets en total\n",
      "\n",
      "La cantidad de tweets con coordenadas es: 1961\n",
      "Es decir el 4 por ciento\n",
      "\n",
      "La cantidad de tweets sin campo place: 42871\n",
      "130.733333333 tweets localizados por minuto\n",
      "Haciendo 200 bots tendriamos 26146 por minuto\n"
     ]
    }
   ],
   "source": [
    "places_dict = {}\n",
    "coord = []\n",
    "places2 = []\n",
    "no_place = []\n",
    "tot = 0.0\n",
    "\n",
    "for tweet in all_tweets:\n",
    "    tot +=1\n",
    "    if tweet.place != None:\n",
    "        coord.append(tweet.coordinates)\n",
    "        #print tweet.place.full_name\n",
    "        places2.append(tweet.place.name)\n",
    "        places_dict[tweet.place.name] = 1 if not places_dict.has_key(tweet.place.name) else places_dict[tweet.place.name] + 1\n",
    "    else:\n",
    "        no_place.append(tweet)\n",
    "            \n",
    "print \"Hay \" + str(int(tot)) + \" tweets en total\"\n",
    "\n",
    "print \"\\nLa cantidad de tweets con coordenadas es: \" + str(len(coord))\n",
    "\n",
    "print (\"Es decir el %d por ciento\" %(len(coord)/tot*100))\n",
    "\n",
    "print \"\\nLa cantidad de tweets sin campo place: \" + str(len(no_place))\n",
    "\n",
    "#print len(places2)/tot\n",
    "\n",
    "a = len(places2) /15.0\n",
    "print str(a) + \" tweets localizados por minuto\"\n",
    "\n",
    "cant = 200\n",
    "print \"Haciendo \" + str(cant) + \" bots tendriamos \" + str(int(a*cant)) + \" por minuto\"\n",
    "\n",
    "#for w in sorted(places_dict, key=places_dict.get, reverse=True):\n",
    "#  print w, places_dict[w]\n"
   ]
  },
  {
   "cell_type": "markdown",
   "metadata": {},
   "source": [
    "## Hago Histograma de lugares con localización"
   ]
  },
  {
   "cell_type": "code",
   "execution_count": 51,
   "metadata": {
    "collapsed": false
   },
   "outputs": [
    {
     "data": {
      "image/png": "[encoded data removed]",
      "text/plain": [
       "<matplotlib.figure.Figure at 0x7f2b42659ad0>"
      ]
     },
     "metadata": {},
     "output_type": "display_data"
    }
   ],
   "source": [
    "plt.title(\"Histograma de lugares\")\n",
    "plt.xlabel(\"Lugares\")\n",
    "plt.ylabel(\"Frecuencia\")\n",
    "\n",
    "index = np.arange(len(places_dict.keys()))\n",
    "bar_width = 0.35\n",
    "\n",
    "opacity = 0.4\n",
    "plt.xticks(index + bar_width, places_dict.keys(), size=6, rotation=\"vertical\")\n",
    "plt.bar(range(len(places_dict.values())),places_dict.values(),alpha=opacity,\n",
    "                 color='b',)\n",
    "plt.tight_layout()\n",
    "plt.show()\n",
    "\n",
    "\n",
    "\n",
    "\n"
   ]
  },
  {
   "cell_type": "markdown",
   "metadata": {},
   "source": [
    "## Hago Lista de lugares sin localización (búsqueda por perfil)"
   ]
  },
  {
   "cell_type": "code",
   "execution_count": 52,
   "metadata": {
    "collapsed": false
   },
   "outputs": [
    {
     "name": "stdout",
     "output_type": "stream",
     "text": [
      "# locations = 42871\n",
      "Buenos Aires, Argentina 14030\n",
      " 8011\n",
      "Buenos Aires 3364\n",
      "Argentina 1188\n",
      "Buenos Aires, Argentina  402\n",
      "Buenos Aires, Argentina. 360\n",
      "Buenos Aires  352\n",
      "Ciudad Autónoma de Buenos Aire 343\n",
      "Buenos Aires - Argentina 332\n",
      "buenos aires 296\n",
      "Córdoba, Argentina 216\n",
      "argentina 211\n",
      "Buenos Aires Argentina 174\n",
      "Rosario, Argentina 166\n",
      "Argentina, Buenos Aires 152\n",
      "La Plata, Argentina 117\n",
      "Buenos aires 106\n",
      "Buenos Aires. 99\n",
      "Quilmes, Argentina 94\n",
      "ARGENTINA 84\n"
     ]
    }
   ],
   "source": [
    "locations_dict = {}\n",
    "locations = []\n",
    "for tweet in no_place:\n",
    "    if tweet.user.location != None:\n",
    "        locations.append(tweet.user.location)\n",
    "        location = tweet.user.location\n",
    "    if not locations_dict.has_key(location):\n",
    "            locations_dict[location] = 1  \n",
    "    else:\n",
    "        locations_dict[location]  +=  1\n",
    "\n",
    "print \"# locations = \" + str(len(locations))\n",
    "#print locations_dict\n",
    "\n",
    "canti = 20\n",
    "for w in sorted(locations_dict, key=locations_dict.get, reverse=True)[:canti]:\n",
    "    print w, locations_dict[w]\n",
    "\n"
   ]
  },
  {
   "cell_type": "markdown",
   "metadata": {},
   "source": [
    "## Hago histograma de lugares sin localización (búsqueda por perfil)"
   ]
  },
  {
   "cell_type": "code",
   "execution_count": 53,
   "metadata": {
    "collapsed": false
   },
   "outputs": [
    {
     "data": {
      "image/png": "[encoded data removed]",
      "text/plain": [
       "<matplotlib.figure.Figure at 0x7f2b3d183d10>"
      ]
     },
     "metadata": {},
     "output_type": "display_data"
    }
   ],
   "source": [
    "plt.title(\"Histograma de lugares\")\n",
    "plt.xlabel(\"Lugares\")\n",
    "plt.ylabel(\"Frecuencia\")\n",
    "\n",
    "index = np.arange(len(locations_dict.keys()))\n",
    "bar_width = 0.35\n",
    "\n",
    "\n",
    "cant = 10\n",
    "valores = sorted(locations_dict.values(),reverse=True)\n",
    "claves = sorted(locations_dict, key=locations_dict.get,reverse=True)\n",
    "\n",
    "\n",
    "\n",
    "\n",
    "opacity = 0.4\n",
    "plt.xticks(index + bar_width, claves[:cant], size=6, rotation=\"vertical\")\n",
    "plt.bar(range(cant),valores[:cant],alpha=opacity,color='b',)\n",
    "plt.tight_layout()\n",
    "plt.show()\n",
    "\n"
   ]
  }
 ],
 "metadata": {
  "kernelspec": {
   "display_name": "Python 2",
   "language": "python",
   "name": "python2"
  },
  "language_info": {
   "codemirror_mode": {
    "name": "ipython",
    "version": 2
   },
   "file_extension": ".py",
   "mimetype": "text/x-python",
   "name": "python",
   "nbconvert_exporter": "python",
   "pygments_lexer": "ipython2",
   "version": "2.7.12"
  }
 },
 "nbformat": 4,
 "nbformat_minor": 1
}
