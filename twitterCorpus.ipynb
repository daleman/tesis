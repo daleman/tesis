{
 "cells": [
  {
   "cell_type": "markdown",
   "metadata": {},
   "source": [
    "# Haciendo búsquedas con Tweepy\n",
    "Primero agrego los tokens(lo que se necesita para loguearse) para que utilice una app de Twitter para realizar las busquedas"
   ]
  },
  {
   "cell_type": "code",
   "execution_count": 76,
   "metadata": {
    "collapsed": false
   },
   "outputs": [],
   "source": [
    "\n",
    "# coding: utf-8\n",
    "\n",
    "import tweepy\n",
    "import pandas as pd\n",
    "import matplotlib.pyplot as plt\n",
    "import numpy as np\n",
    "\n",
    "pd.options.display.max_columns = 50\n",
    "pd.options.display.max_rows= 50\n",
    "pd.options.display.width= 120\n",
    "\n",
    "consumer_key = \"cf6yoFiRnumb8YCgAc7i2890Z\" # Use your own key. To get a key https://apps.twitter.com/\n",
    "consumer_secret = \"V4cP4UqqoYjiyxV8gsK9n91Bztg4qCowhFGLcjngTYBX6BfbmO\"\n",
    "\n",
    "auth = tweepy.OAuthHandler(consumer_key=consumer_key, consumer_secret=consumer_secret)\n",
    "\n",
    "api = tweepy.API(auth)\n",
    "\n"
   ]
  },
  {
   "cell_type": "markdown",
   "metadata": {},
   "source": [
    "## Hago una búsqueda incluyendo una ubicación a partir de latitud, longitud y un radio"
   ]
  },
  {
   "cell_type": "code",
   "execution_count": 77,
   "metadata": {
    "collapsed": true
   },
   "outputs": [],
   "source": [
    "results = api.search(count=100,geocode=\"-34.5916734896,-58.3918617027,100mi\")"
   ]
  },
  {
   "cell_type": "markdown",
   "metadata": {},
   "source": [
    "## Hago el siguiente experimento:\n",
    "Hago un tweet con mi cuenta de twitter con una palabra rara (para que solo encuentre mi tweet)\n",
    "    - En el primer experimento, no activo la ubicacion. Resultado: no la encuentra\n",
    "    - En el segundo experimento, activo la ubicacion y LO ENCUENTRA en el radio especificado.\n",
    "Habría que investigar más pero por lo pronto pareceria ser, que solo cuando una activa la localizacion se pueden encontrar esos tweets."
   ]
  },
  {
   "cell_type": "code",
   "execution_count": 89,
   "metadata": {
    "collapsed": false
   },
   "outputs": [
    {
     "name": "stdout",
     "output_type": "stream",
     "text": [
      "Hay 2 tweets hay con el termino asdqasdqasdq sin ver lo localizacion\n",
      "Pero sólo hay 1tweets hay con el termino asdqasdqasdqteniendo en cuenta la localizacion\n",
      "El texto del tweet con la localizacion: A ver ahora asdqasdqasdq twitteado por Damian Aleman\n"
     ]
    }
   ],
   "source": [
    "sin_geo = api.search(q=\"asdqasdqasdq\",count=100)#,geocode=\"-34.5916734896,-58.3918617027,100mi\")\n",
    "print \"Hay \" + str(len(sin_geo)) + \" tweets hay con el termino asdqasdqasdq sin ver lo localizacion\"\n",
    "\n",
    "# con el geocode no vio el tweet (no puse la ubicacion)\n",
    "con_geo = api.search(q=\"asdqasdqasdq\",count=100,geocode=\"-34.5916734896,-58.3918617027,100mi\")\n",
    "\n",
    "print \"Pero sólo hay \" + str(len(con_geo)) + \"tweets hay con el termino asdqasdqasdq\" + \"teniendo en cuenta la localizacion\"\n",
    "print \"El texto del tweet con la localizacion: \" + con_geo[0].text + \" twitteado por \" + con_geo[0].user.name"
   ]
  },
  {
   "cell_type": "markdown",
   "metadata": {},
   "source": [
    "# ¿Qué información de ubicación se muestra?\n",
    "En el siguiente link la página de twitter comenta acerca de la información que https://support.twitter.com/articles/20169204#\n",
    "- Toda la información de geolocalización comienza como una ubicación (latitud y longitud) enviada desde el navegador o el dispositivo. Twitter no mostrará datos de ubicación a menos que hayas activado la característica y habilitado tu dispositivo o navegador para que nos transmita tus coordenadas.\n",
    "- Si has elegido agregar información de ubicación a los Tweets, la etiqueta de ubicación seleccionada se mostrará debajo del texto del Tweet. En twitter.com, puedes seleccionar una etiqueta de ubicación, por ejemplo, el nombre de una ciudad o un barrio.\n",
    "- Si pulsas el marcador de ubicación mientras estás escribiendo un Tweet y activas la opción para etiquetar tu ubicación exacta, ese Tweet incluirá tanto la etiqueta de ubicación que elijas como la ubicación exacta de tu dispositivo (latitud y longitud), que se puede encontrar a través de la API. Es posible que la ubicación exacta sea más específica que la etiqueta de ubicación que selecciones.  Nota: Actualmente, la opción de compartir tu ubicación exacta solo está disponible en las versiones más recientes de Twitter para iOS (6.26 o posterior) y Twitter para Android (5.55 o posterior). \n",
    "- Si twitteas desde una versión anterior de Twitter para iOS o Twitter para Android, cada Tweet que geolocalices incluirá tanto una etiqueta de ubicación (que se mostrará junto con tu Tweet) y la ubicación exacta de tu dispositivo (que se puede encontrar a través de la API). \n",
    "- Los desarrolladores de aplicaciones deben indicar con claridad si el Tweet incluirá tus coordenadas exactas o solo el lugar. Si twitteas desde una aplicación de terceros o un dispositivo móvil, debe indicarse con claridad el tipo de datos que se incluirán en tu Tweet. \n"
   ]
  },
  {
   "cell_type": "markdown",
   "metadata": {},
   "source": [
    "# Muestro información que puedo sacar de cada tweet"
   ]
  },
  {
   "cell_type": "code",
   "execution_count": 79,
   "metadata": {
    "collapsed": false
   },
   "outputs": [
    {
     "name": "stdout",
     "output_type": "stream",
     "text": [
      "Bajó 100 tweets\n",
      "@ThomasAle4 - Tomy (2016-11-16 23:42:18)\n",
      "RT @Kevinlandriel1: @maticazaniga olvidate cachoooo se va la mejor promo del osso y el 17 D explotamos sutna wachooo😎😎😎😎\n",
      "12\n",
      "Argentina Chivilcoy, Argentina city\n",
      "Argentina Ciudad Autónoma de Buenos Aires, Argentina city\n",
      "Argentina Ciudad Autónoma de Buenos Aires, Argentina city\n",
      "Argentina Berazategui, Argentina city\n",
      "Argentina Berazategui, Argentina city\n",
      "Argentina Lanús Oeste, Argentina city\n",
      "Argentina Caseros, Argentina city\n",
      "Argentina Ciudad Autónoma de Buenos Aires, Argentina city\n",
      "Argentina Chivilcoy, Argentina city\n",
      "Argentina La Plata, Argentina city\n",
      "Argentina Vicente López, Argentina city\n",
      "Argentina Ciudad Autónoma de Buenos Aires, Argentina city\n"
     ]
    }
   ],
   "source": [
    "def print_tweet(tweet):\n",
    "    print \"@%s - %s (%s)\" % (tweet.user.screen_name, tweet.user.name, tweet.created_at)\n",
    "    print tweet.text\n",
    "\n",
    "print \"Bajó \" + str(len(results)) + \" tweets\" \n",
    "tweet=results[3]\n",
    "print_tweet(tweet)\n",
    "\n",
    "\n",
    "#print dir(tweet)\n",
    "#print (tweet.source)\n",
    "#print tweet.id_str\n",
    "#print tweet.entities\n",
    "\n",
    "#print results[0]\n",
    "\n",
    "\n",
    "tot = 0\n",
    "places = [ tweet.place  for tweet in results if tweet.place != None]\n",
    "#print(places)\n",
    "print len(places)\n",
    "for place in places:\n",
    "    print place.country,place.full_name, place.place_type \n"
   ]
  },
  {
   "cell_type": "code",
   "execution_count": 80,
   "metadata": {
    "collapsed": false
   },
   "outputs": [
    {
     "name": "stdout",
     "output_type": "stream",
     "text": [
      "liguista aparece 100 veces\n",
      "@PatricioCedeo7 - Patricio Cedeño (2016-11-16 14:29:00)\n",
      "Buen dia a todos los liguista de corazon y a los que no lo son igual\n"
     ]
    }
   ],
   "source": [
    "results = []\n",
    "search = \"liguista\"\n",
    "for tweet in tweepy.Cursor(api.search, q=search).items(100):\n",
    "    results.append(tweet)\n",
    "\n",
    "print search + \" aparece \" + str(len(results)) + \" veces\"\n",
    "tweet=results[3]\n",
    "print_tweet(tweet)"
   ]
  },
  {
   "cell_type": "markdown",
   "metadata": {},
   "source": [
    "## ¿De dónde escribieron los tweets encontrados?"
   ]
  },
  {
   "cell_type": "code",
   "execution_count": 81,
   "metadata": {
    "collapsed": false
   },
   "outputs": [
    {
     "data": {
      "image/png": "[encoded data removed]",
      "text/plain": [
       "<matplotlib.figure.Figure at 0x7fb9f0eac1d0>"
      ]
     },
     "metadata": {},
     "output_type": "display_data"
    }
   ],
   "source": [
    "id_list = [tweet.id for tweet in results]\n",
    "data_set = pd.DataFrame(id_list, columns=[\"id\"])\n",
    "    \n",
    "data_set[\"source\"] = [tweet.source for tweet in results]\n",
    "\n",
    "sources = data_set[\"source\"].value_counts()[:5][::-1]\n",
    "\n",
    "plt.barh(xrange(len(sources)), sources.values)\n",
    "plt.yticks(np.arange(len(sources)) + 0.4, sources.index)\n",
    "plt.show()\n"
   ]
  }
 ],
 "metadata": {
  "kernelspec": {
   "display_name": "Python 2",
   "language": "python",
   "name": "python2"
  },
  "language_info": {
   "codemirror_mode": {
    "name": "ipython",
    "version": 2
   },
   "file_extension": ".py",
   "mimetype": "text/x-python",
   "name": "python",
   "nbconvert_exporter": "python",
   "pygments_lexer": "ipython2",
   "version": "2.7.12"
  }
 },
 "nbformat": 4,
 "nbformat_minor": 1
}
