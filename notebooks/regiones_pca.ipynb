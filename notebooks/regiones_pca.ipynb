{
 "cells": [
  {
   "cell_type": "markdown",
   "metadata": {},
   "source": [
    "# Regiones con PCA\n",
    "\n",
    "Intentemos ver si sale algo de aplicar PCA a la matriz de ocurrencias"
   ]
  },
  {
   "cell_type": "code",
   "execution_count": 1,
   "metadata": {},
   "outputs": [
    {
     "name": "stdout",
     "output_type": "stream",
     "text": [
      "Populating the interactive namespace from numpy and matplotlib\n"
     ]
    }
   ],
   "source": [
    "%pylab inline\n",
    "\n",
    "import pandas as pd"
   ]
  },
  {
   "cell_type": "code",
   "execution_count": 2,
   "metadata": {},
   "outputs": [
    {
     "name": "stderr",
     "output_type": "stream",
     "text": [
      "/home/jmperez/.pyenv/versions/2.7.12/envs/tesis-damian/lib/python2.7/site-packages/ipykernel_launcher.py:1: FutureWarning: from_csv is deprecated. Please use read_csv(...) instead. Note that some of the default arguments are different, so please refer to the documentation for from_csv when changing your function calls\n",
      "  \"\"\"Entry point for launching an IPython kernel.\n"
     ]
    }
   ],
   "source": [
    "df = pd.DataFrame.from_csv(\"/home/jmperez/Downloads/cantidadesTotalesOrdenada.csv\")"
   ]
  },
  {
   "cell_type": "code",
   "execution_count": 3,
   "metadata": {},
   "outputs": [
    {
     "data": {
      "text/plain": [
       "Index([u'buenosairesPalabras', u'catamarcaPalabras', u'chacoPalabras',\n",
       "       u'chubutPalabras', u'cordobaPalabras', u'corrientesPalabras',\n",
       "       u'entreriosPalabras', u'formosaPalabras', u'jujuyPalabras',\n",
       "       u'lapampaPalabras', u'lariojaPalabras', u'mendozaPalabras',\n",
       "       u'misionesPalabras', u'neuquenPalabras', u'rionegroPalabras',\n",
       "       u'saltaPalabras', u'sanjuanPalabras', u'sanluisPalabras',\n",
       "       u'santacruzPalabras', u'santafePalabras', u'santiagoPalabras',\n",
       "       u'tierradelfuegoPalabras', u'tucumanPalabras', u'cantPalabra',\n",
       "       u'buenosairesUsuarios', u'catamarcaUsuarios', u'chacoUsuarios',\n",
       "       u'chubutUsuarios', u'cordobaUsuarios', u'corrientesUsuarios',\n",
       "       u'entreriosUsuarios', u'formosaUsuarios', u'jujuyUsuarios',\n",
       "       u'lapampaUsuarios', u'lariojaUsuarios', u'mendozaUsuarios',\n",
       "       u'misionesUsuarios', u'neuquenUsuarios', u'rionegroUsuarios',\n",
       "       u'saltaUsuarios', u'sanjuanUsuarios', u'sanluisUsuarios',\n",
       "       u'santacruzUsuarios', u'santafeUsuarios', u'santiagoUsuarios',\n",
       "       u'tierradelfuegoUsuarios', u'tucumanUsuarios', u'cantUsuariosTotal'],\n",
       "      dtype='object')"
      ]
     },
     "execution_count": 3,
     "metadata": {},
     "output_type": "execute_result"
    }
   ],
   "source": [
    "df.columns"
   ]
  },
  {
   "cell_type": "code",
   "execution_count": 4,
   "metadata": {},
   "outputs": [
    {
     "data": {
      "text/plain": [
       "Index([u'buenosairesUsuarios', u'catamarcaUsuarios', u'chacoUsuarios',\n",
       "       u'chubutUsuarios', u'cordobaUsuarios', u'corrientesUsuarios',\n",
       "       u'entreriosUsuarios', u'formosaUsuarios', u'jujuyUsuarios',\n",
       "       u'lapampaUsuarios', u'lariojaUsuarios', u'mendozaUsuarios',\n",
       "       u'misionesUsuarios', u'neuquenUsuarios', u'rionegroUsuarios',\n",
       "       u'saltaUsuarios', u'sanjuanUsuarios', u'sanluisUsuarios',\n",
       "       u'santacruzUsuarios', u'santafeUsuarios', u'santiagoUsuarios',\n",
       "       u'tierradelfuegoUsuarios', u'tucumanUsuarios'],\n",
       "      dtype='object')"
      ]
     },
     "execution_count": 4,
     "metadata": {},
     "output_type": "execute_result"
    }
   ],
   "source": [
    "cant_palabras = df.columns[:23]\n",
    "\n",
    "cant_usuarios = df.columns[24:-1]\n",
    "\n",
    "cant_usuarios"
   ]
  },
  {
   "cell_type": "code",
   "execution_count": 5,
   "metadata": {
    "collapsed": true
   },
   "outputs": [],
   "source": [
    "from scipy.stats import entropy\n",
    "\n",
    "\n",
    "df[\"cantProvincias\"] = (df[cant_palabras] > 0).sum(axis=1)\n",
    "df[\"entropy\"] = df[cant_palabras].apply(entropy, axis=1, raw=True)"
   ]
  },
  {
   "cell_type": "code",
   "execution_count": 84,
   "metadata": {},
   "outputs": [
    {
     "data": {
      "text/plain": [
       "[<matplotlib.lines.Line2D at 0x7f6244933a90>]"
      ]
     },
     "execution_count": 84,
     "metadata": {},
     "output_type": "execute_result"
    },
    {
     "data": {
      "image/png": "[encoded data removed]",
      "text/plain": [
       "<matplotlib.figure.Figure at 0x7f6245048a90>"
      ]
     },
     "metadata": {},
     "output_type": "display_data"
    }
   ],
   "source": [
    "from sklearn import decomposition\n",
    "\n",
    "\n",
    "plt.rcParams['figure.figsize'] = (6, 6)\n",
    "\n",
    "umbral = 40\n",
    "componentes = 7\n",
    "min_provincias = 2\n",
    "\n",
    "df_muy_usadas = df.loc[(df.cantPalabra > umbral) & (df.cantProvincias >= min_provincias)].copy()\n",
    "df_muy_usadas.sort_values(by=\"entropy\", ascending=True, inplace=True)\n",
    "\n",
    "semilogx(range(df_muy_usadas.shape[0]), df_muy_usadas.entropy.as_matrix())"
   ]
  },
  {
   "cell_type": "code",
   "execution_count": 89,
   "metadata": {},
   "outputs": [
    {
     "data": {
      "image/png": "[encoded data removed]",
      "text/plain": [
       "<matplotlib.figure.Figure at 0x7f6240f29bd0>"
      ]
     },
     "metadata": {},
     "output_type": "display_data"
    }
   ],
   "source": [
    "plt.rcParams['figure.figsize'] = (6, 6)\n",
    "limite = 3* 10 ** 3\n",
    "hist(df_muy_usadas[:limite].cantProvincias, bins=23);"
   ]
  },
  {
   "cell_type": "code",
   "execution_count": 90,
   "metadata": {},
   "outputs": [
    {
     "name": "stdout",
     "output_type": "stream",
     "text": [
      "(3000, 23)\n"
     ]
    },
    {
     "data": {
      "text/plain": [
       "PCA(copy=True, iterated_power='auto', n_components=7, random_state=None,\n",
       "  svd_solver='auto', tol=0.0, whiten=False)"
      ]
     },
     "execution_count": 90,
     "metadata": {},
     "output_type": "execute_result"
    }
   ],
   "source": [
    "\n",
    "plt.rcParams['figure.figsize'] = (6, 6)\n",
    "\n",
    "pca = decomposition.PCA(n_components=componentes)\n",
    "\n",
    "X = df_muy_usadas[cant_palabras][:limite].as_matrix()\n",
    "print(X.shape)\n",
    "pca.fit(X)\n"
   ]
  },
  {
   "cell_type": "code",
   "execution_count": 93,
   "metadata": {},
   "outputs": [
    {
     "data": {
      "image/png": "[encoded data removed]",
      "text/plain": [
       "<matplotlib.figure.Figure at 0x7f6240e4e6d0>"
      ]
     },
     "metadata": {},
     "output_type": "display_data"
    },
    {
     "data": {
      "image/png": "[encoded data removed]",
      "text/plain": [
       "<matplotlib.figure.Figure at 0x7f6240cb29d0>"
      ]
     },
     "metadata": {},
     "output_type": "display_data"
    },
    {
     "data": {
      "image/png": "[encoded data removed]",
      "text/plain": [
       "<matplotlib.figure.Figure at 0x7f6241457d90>"
      ]
     },
     "metadata": {},
     "output_type": "display_data"
    },
    {
     "data": {
      "image/png": "[encoded data removed]",
      "text/plain": [
       "<matplotlib.figure.Figure at 0x7f6240d95550>"
      ]
     },
     "metadata": {},
     "output_type": "display_data"
    },
    {
     "data": {
      "image/png": "[encoded data removed]",
      "text/plain": [
       "<matplotlib.figure.Figure at 0x7f62413cb790>"
      ]
     },
     "metadata": {},
     "output_type": "display_data"
    },
    {
     "data": {
      "image/png": "[encoded data removed]",
      "text/plain": [
       "<matplotlib.figure.Figure at 0x7f6244bfa790>"
      ]
     },
     "metadata": {},
     "output_type": "display_data"
    },
    {
     "data": {
      "image/png": "[encoded data removed]",
      "text/plain": [
       "<matplotlib.figure.Figure at 0x7f6243e09490>"
      ]
     },
     "metadata": {},
     "output_type": "display_data"
    }
   ],
   "source": [
    "prov_labels = [x.split(\"P\")[0] for x in cant_palabras]\n",
    "prov_labels = [x[:3] + x[-2:] for x in prov_labels]\n",
    "\n",
    "plt.rcParams['figure.figsize'] = (12, 15)\n",
    "no_comp = len(pca.components_)\n",
    "\n",
    "for i, component in enumerate(pca.components_):\n",
    "    plt.subplot(no_comp, 1, i+1)\n",
    "    \n",
    "    plt.imshow(component.reshape(1, -1), cmap=plt.cm.Blues)\n",
    "    plt.xticks(range(23), prov_labels)\n",
    "    plt.yticks(range(1), [''])\n",
    "    plt.show()\n",
    "    "
   ]
  },
  {
   "cell_type": "code",
   "execution_count": 94,
   "metadata": {},
   "outputs": [
    {
     "name": "stdout",
     "output_type": "stream",
     "text": [
      "========================================\n",
      "componente 1\n",
      "\n",
      "\n",
      "larja    0.998710\n",
      "catca    0.045979\n",
      "jujuy    0.011854\n",
      "tucan    0.009404\n",
      "corba    0.008584\n",
      "sanan    0.006675\n",
      "salta    0.006065\n",
      "sango    0.005132\n",
      "cores    0.003794\n",
      "sanfe    0.003718\n",
      "mises    0.002799\n",
      "sanuz    0.002466\n",
      "lappa    0.002045\n",
      "menza    0.001555\n",
      "buees    0.001146\n",
      "chaco    0.000970\n",
      "sanis    0.000872\n",
      "chuut    0.000808\n",
      "neuen    0.000475\n",
      "forsa    0.000438\n",
      "entos    0.000244\n",
      "rioro   -0.000544\n",
      "tiego   -0.000887\n",
      "dtype: float64\n",
      "========================================\n",
      "componente 2\n",
      "\n",
      "\n",
      "tiego    0.995209\n",
      "jujuy    0.085306\n",
      "sanuz    0.035418\n",
      "chuut    0.021198\n",
      "cores    0.012064\n",
      "salta    0.008461\n",
      "tucan    0.008333\n",
      "mises    0.008327\n",
      "chaco    0.007687\n",
      "forsa    0.007090\n",
      "rioro    0.005564\n",
      "sanis    0.004500\n",
      "entos    0.003948\n",
      "neuen    0.003788\n",
      "corba    0.003094\n",
      "lappa    0.002652\n",
      "sanfe    0.001942\n",
      "catca    0.001929\n",
      "sango    0.001868\n",
      "buees    0.001833\n",
      "menza    0.000300\n",
      "sanan   -0.000127\n",
      "larja   -0.000586\n",
      "dtype: float64\n",
      "========================================\n",
      "componente 3\n",
      "\n",
      "\n",
      "jujuy    0.992379\n",
      "salta    0.054270\n",
      "tucan    0.048167\n",
      "catca    0.022346\n",
      "cores    0.021031\n",
      "mises    0.019221\n",
      "sango    0.014398\n",
      "chaco    0.010986\n",
      "forsa    0.010472\n",
      "corba    0.008790\n",
      "lappa    0.008583\n",
      "rioro    0.007125\n",
      "menza    0.006887\n",
      "sanis    0.005835\n",
      "sanfe    0.005136\n",
      "entos    0.005097\n",
      "chuut    0.004666\n",
      "sanuz    0.004405\n",
      "neuen    0.004144\n",
      "sanan    0.002307\n",
      "buees    0.001620\n",
      "larja   -0.014050\n",
      "tiego   -0.087006\n",
      "dtype: float64\n",
      "========================================\n",
      "componente 4\n",
      "\n",
      "\n",
      "cores    0.678866\n",
      "mises    0.626808\n",
      "chaco    0.286035\n",
      "forsa    0.189248\n",
      "chuut    0.131984\n",
      "sanuz    0.051396\n",
      "tucan    0.042536\n",
      "entos    0.039119\n",
      "catca    0.023551\n",
      "corba    0.023311\n",
      "neuen    0.018259\n",
      "sanfe    0.018186\n",
      "salta    0.018152\n",
      "sango    0.017295\n",
      "lappa    0.016416\n",
      "menza    0.014487\n",
      "rioro    0.013688\n",
      "sanis    0.009850\n",
      "buees    0.008660\n",
      "sanan    0.005971\n",
      "larja   -0.006560\n",
      "tiego   -0.019423\n",
      "jujuy   -0.039178\n",
      "dtype: float64\n",
      "========================================\n",
      "componente 5\n",
      "\n",
      "\n",
      "chuut    0.955977\n",
      "sanuz    0.245251\n",
      "neuen    0.041296\n",
      "rioro    0.031930\n",
      "tucan    0.019434\n",
      "catca    0.013467\n",
      "lappa    0.012618\n",
      "sango    0.007936\n",
      "corba    0.005919\n",
      "menza    0.005164\n",
      "buees    0.005041\n",
      "sanis    0.002792\n",
      "sanfe    0.001218\n",
      "sanan    0.001217\n",
      "entos    0.000601\n",
      "salta   -0.001285\n",
      "larja   -0.001597\n",
      "jujuy   -0.005301\n",
      "forsa   -0.019522\n",
      "tiego   -0.026859\n",
      "chaco   -0.032222\n",
      "cores   -0.087734\n",
      "mises   -0.111742\n",
      "dtype: float64\n",
      "========================================\n",
      "componente 6\n",
      "\n",
      "\n",
      "cores    0.590584\n",
      "chaco    0.265048\n",
      "tucan    0.022284\n",
      "entos    0.017071\n",
      "corba    0.015071\n",
      "catca    0.014770\n",
      "salta    0.013002\n",
      "sango    0.010166\n",
      "sanfe    0.007898\n",
      "rioro    0.007716\n",
      "lappa    0.005193\n",
      "menza    0.004862\n",
      "sanuz    0.003700\n",
      "buees    0.003053\n",
      "sanis    0.002433\n",
      "neuen    0.001410\n",
      "sanan    0.000790\n",
      "forsa    0.000440\n",
      "larja   -0.001526\n",
      "tiego   -0.002631\n",
      "jujuy   -0.003557\n",
      "chuut   -0.028082\n",
      "mises   -0.760552\n",
      "dtype: float64\n",
      "========================================\n",
      "componente 7\n",
      "\n",
      "\n",
      "sanuz    0.933587\n",
      "catca    0.167400\n",
      "tucan    0.160356\n",
      "neuen    0.062145\n",
      "rioro    0.039678\n",
      "sango    0.022153\n",
      "lappa    0.016449\n",
      "corba    0.015214\n",
      "salta    0.014559\n",
      "menza    0.006889\n",
      "sanan    0.006262\n",
      "sanis    0.006194\n",
      "sanfe    0.005897\n",
      "chaco    0.005836\n",
      "entos    0.002765\n",
      "buees    0.001291\n",
      "mises   -0.005165\n",
      "forsa   -0.006244\n",
      "larja   -0.011418\n",
      "jujuy   -0.018266\n",
      "tiego   -0.028149\n",
      "cores   -0.039889\n",
      "chuut   -0.254796\n",
      "dtype: float64\n"
     ]
    }
   ],
   "source": [
    "for i, component in enumerate(pca.components_):\n",
    "    print(\"=\"*40)\n",
    "    print(\"componente {}\\n\\n\".format(i+1))\n",
    "    x = pd.Series(component, index=prov_labels)\n",
    "    \n",
    "    print(x.sort_values(ascending=False))\n",
    "        "
   ]
  },
  {
   "cell_type": "code",
   "execution_count": null,
   "metadata": {
    "collapsed": true
   },
   "outputs": [],
   "source": []
  }
 ],
 "metadata": {
  "kernelspec": {
   "display_name": "Python 2",
   "language": "python",
   "name": "python2"
  },
  "language_info": {
   "codemirror_mode": {
    "name": "ipython",
    "version": 2
   },
   "file_extension": ".py",
   "mimetype": "text/x-python",
   "name": "python",
   "nbconvert_exporter": "python",
   "pygments_lexer": "ipython2",
   "version": "2.7.12"
  }
 },
 "nbformat": 4,
 "nbformat_minor": 2
}
