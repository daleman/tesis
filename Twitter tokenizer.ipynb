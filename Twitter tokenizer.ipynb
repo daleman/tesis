{
 "cells": [
  {
   "cell_type": "markdown",
   "metadata": {
    "deletable": true,
    "editable": true
   },
   "source": [
    "## Probando el twitter tokenizer de nltk"
   ]
  },
  {
   "cell_type": "code",
   "execution_count": 1,
   "metadata": {
    "collapsed": false,
    "deletable": true,
    "editable": true
   },
   "outputs": [],
   "source": [
    "from nltk.tokenize import TweetTokenizer\n",
    "tknzr = TweetTokenizer(preserve_case=False, reduce_len=True, strip_handles=True)"
   ]
  },
  {
   "cell_type": "markdown",
   "metadata": {
    "deletable": true,
    "editable": true
   },
   "source": [
    "### Obtengo textos a partir de un archivo csv"
   ]
  },
  {
   "cell_type": "code",
   "execution_count": 2,
   "metadata": {
    "collapsed": false,
    "deletable": true,
    "editable": true
   },
   "outputs": [],
   "source": [
    "import csv\n",
    "s0 = \"This is a cooool #dummysmiley: :-) :-P <3 and some arrows < > -> <--\"\n",
    "tknzr.tokenize(s0)\n",
    "\n",
    "prov = 'chaco'\n",
    "\n",
    "texts = []\n",
    "with open('train/train_{}.csv'.format(prov),'rb') as csvfile:\n",
    "    reader = csv.reader(csvfile, delimiter=',', quotechar='|')\n",
    "    for row in reader:\n",
    "        texts.append(row[2]) \n",
    "       "
   ]
  },
  {
   "cell_type": "markdown",
   "metadata": {
    "collapsed": true,
    "deletable": true,
    "editable": true
   },
   "source": [
    "## Ejemplo de uso de tokenizador"
   ]
  },
  {
   "cell_type": "code",
   "execution_count": 28,
   "metadata": {
    "collapsed": false,
    "deletable": true,
    "editable": true
   },
   "outputs": [
    {
     "name": "stdout",
     "output_type": "stream",
     "text": [
      "Feliz navidad para todos.. Mucho amor y felicidad para el mundo entero..\n",
      "ni\n",
      "siquiera\n",
      "un\n",
      "fernet\n",
      "?\n",
      "?\n"
     ]
    }
   ],
   "source": [
    "print texts[300]\n",
    "for w in tknzr.tokenize(texts[0]):\n",
    "    print w"
   ]
  },
  {
   "cell_type": "code",
   "execution_count": 22,
   "metadata": {
    "collapsed": true
   },
   "outputs": [
    {
     "name": "stdout",
     "output_type": "stream",
     "text": [
      "jajaja\n",
      "jaja\n",
      "jajajaja\n",
      "q\n",
      "jajajajaja\n",
      "asi\n",
      "dia\n",
      "teres\n",
      "jajaj\n",
      "jajajaj\n",
      "jajajajajaja\n",
      "we\n",
      "i\n",
      "river\n",
      "hdp\n",
      "lpm\n",
      "x\n",
      "pessoas\n",
      "finde\n",
      "breñas\n",
      "the\n",
      "and\n",
      "seu\n",
      "xq\n",
      "facebook\n",
      "unfollowers\n",
      "xd\n",
      "via\n",
      "you\n",
      "charata\n",
      "siii\n",
      "by\n",
      "aca\n",
      "jajajajajajaja\n",
      "twitter\n",
      "queres\n",
      "c\n",
      "despues\n",
      "dias\n",
      "ahi\n",
      "nose\n",
      "tw\n",
      "nooo\n",
      "m\n",
      "tambien\n",
      "jajajajaj\n",
      "people\n",
      "new\n",
      "followers\n",
      "veni\n",
      "follower\n",
      "chau\n",
      "followed\n",
      "promo\n",
      "wpp\n",
      "one\n",
      "estan\n",
      "foi\n",
      "ok\n",
      "amooo\n",
      "pa\n",
      "sabado\n",
      "stats\n",
      "s\n",
      "n\n",
      "mmm\n",
      "qe\n",
      "love\n",
      "nas\n",
      "weee\n",
      "just\n",
      "automatically\n",
      "checked\n",
      "peli\n",
      "paaa\n",
      "todavia\n",
      "free\n",
      "p\n",
      "recien\n",
      "unfollowed\n",
      "messi\n",
      "t\n",
      "vamo\n",
      "my\n",
      "goool\n",
      "posted\n",
      "yaaa\n",
      "photo\n",
      "rt\n",
      "hs\n",
      "super\n",
      "b\n",
      "jajajajajajajaja\n",
      "dormirrr\n",
      "musica\n",
      "l\n",
      "pibes\n",
      "gym\n",
      "bue\n",
      "pibe\n",
      "unico\n"
     ]
    }
   ],
   "source": [
    "i = 0\n",
    "stop = 100\n",
    "palabras = []\n",
    "for word,c in sorted(noestan.items() ,key=lambda x:x[1],reverse= True):\n",
    "    palabras.append(word)\n",
    "    if i == stop:\n",
    "        break\n",
    "    i += 1\n",
    "for p in palabras:\n",
    "    print p\n",
    "    "
   ]
  },
  {
   "cell_type": "markdown",
   "metadata": {
    "deletable": true,
    "editable": true
   },
   "source": [
    "## Veo que palabras están en el diccionario y cuáles no [Usando pyenchant]"
   ]
  },
  {
   "cell_type": "code",
   "execution_count": 4,
   "metadata": {
    "collapsed": false,
    "deletable": true,
    "editable": true
   },
   "outputs": [
    {
     "name": "stdout",
     "output_type": "stream",
     "text": [
      "Cantidades totales:  1590930 246428 0.865879159097\n",
      "Cantidades unicas:  30081 41711 0.419002117228\n"
     ]
    }
   ],
   "source": [
    "import enchant\n",
    "d = enchant.Dict(\"es_AR\")\n",
    "noestan = {}\n",
    "estan = {}\n",
    "words  = {}\n",
    "for text in texts:\n",
    "    for w in tknzr.tokenize(text):\n",
    "        if w.isalpha():\n",
    "            if words.has_key(w):\n",
    "                words[w] += 1\n",
    "            else:\n",
    "                words[w] = 1\n",
    "#estan = sum([d.check(w) for w in words])\n",
    "for word,cant in words.iteritems():\n",
    "    if not(d.check(word)):\n",
    "        noestan[word] = cant\n",
    "    else:\n",
    "        estan[word] = cant\n",
    "        \n",
    "\n",
    "\n",
    "cant_estan = sum([c for c in estan.values()])\n",
    "cant_noestan = sum([c for c in noestan.values()])\n",
    "print 'Cantidades totales: ',cant_estan,cant_noestan,cant_estan/float(cant_estan+cant_noestan)\n",
    "print 'Cantidades unicas: ' ,len(estan),len(noestan), len(estan)/float(len(estan)+len(noestan))\n",
    "#i = 0\n",
    "#for w,c in sorted(noestan.items() ,key=lambda x:x[1],reverse= True):\n",
    "#    if c < 10:\n",
    "#        break\n",
    "#    i +=1\n",
    "#    print i,w,c"
   ]
  },
  {
   "cell_type": "code",
   "execution_count": 13,
   "metadata": {
    "collapsed": false
   },
   "outputs": [
    {
     "name": "stdout",
     "output_type": "stream",
     "text": [
      "jajaja {0.7272727272727273: u'ajada', 0.5454545454545454: u'ahaja'}\n",
      "jaja {0.75: u'jaca', 0.8888888888888888: u'jauja', 0.8571428571428571: u'aja'}\n",
      "jajajaja {0.42857142857142855: u'alhaja', 0.4: u'agasaja'}\n",
      "q {0.0: u'y'}\n",
      "jajajajaja {0.42105263157894735: u'agasajara'}\n",
      "asi {0.3333333333333333: u'isa', 0.6666666666666666: u'as\\xed', 0.8: u'si', 0.8571428571428571: u'asir'}\n",
      "dia {0.6666666666666666: u'ida', 0.8: u'da', 0.8571428571428571: u'diga'}\n",
      "teres {0.8888888888888888: u'tres', 0.6: u'retes', 0.9090909090909091: u'\\xe9teres', 0.8: u'tetes'}\n",
      "jajaj {0.75: u'aja'}\n",
      "jajajaj {0.5: u'ahaja', 0.6666666666666666: u'ajada', 0.46153846153846156: u'alhaja'}\n",
      "jajajajajaja {0.36363636363636365: u'atarrajara'}\n",
      "we {0.5: u'se', 0.6666666666666666: u'e', 0.8: u'web'}\n",
      "i {0.0: u'u', 0.6666666666666666: u'id'}\n",
      "river {0.7272727272727273: u'Rivero', 0.6: u'veril', 0.9090909090909091: u'rivera', 0.8: u'rever'}\n",
      "hdp {0.0: u'', 0.5714285714285714: u'dpto'}\n",
      "lpm {0.0: u'', 0.5: u'milpa'}\n",
      "x {0.0: u'y', 0.6666666666666666: u'ax'}\n",
      "pessoas {0.625: u'sopesaras', 0.7142857142857143: u'sopesas', 0.6666666666666666: u'sospesas'}\n",
      "finde {0.8888888888888888: u'fine', 0.9090909090909091: u'fin-de', 0.8: u'funde'}\n",
      "breñas {0.8333333333333334: u'brecas', 0.9090909090909091: u'breas'}\n",
      "the {0.6666666666666666: u'che', 0.8: u'he'}\n",
      "and {0.8571428571428571: u'and\\xe1', 0.8: u'ad', 0.6666666666666666: u'avd'}\n",
      "seu {0.6666666666666666: u'se\\xf3', 0.8: u'se', 0.8571428571428571: u'se u'}\n",
      "xq {0.5: u'xi'}\n",
      "facebook {0.7142857142857143: u'faceto'}\n",
      "unfollowers {0.7619047619047619: u'folloneros'}\n",
      "xd {0.5: u'ad', 0.6666666666666666: u'd'}\n",
      "via {0.8571428571428571: u'vira', 0.8: u'vi', 0.6666666666666666: u'ria'}\n",
      "you {0.6666666666666666: u'yos', 0.8: u'yo', 0.8571428571428571: u'yo u'}\n",
      "charata {0.8571428571428571: u'Charata', 0.9333333333333333: u'cha-rata'}\n",
      "siii {0.6666666666666666: u'si'}\n",
      "by {0.5: u'bs', 0.6666666666666666: u'y', 0.8: u'bey'}\n",
      "aca {0.8571428571428571: u'asca', 0.8: u'ca', 0.6666666666666666: u'ac\\xe1'}\n",
      "jajajajajajaja {0.23076923076923078: u'escusabaraja'}\n",
      "twitter {0.6666666666666666: u'titerero'}\n",
      "queres {0.8333333333333334: u'fueres', 0.9230769230769231: u'queresa'}\n",
      "c {0.0: u'y', 0.6666666666666666: u'cu'}\n",
      "despues {0.8571428571428571: u'despu\\xe9s', 0.9333333333333333: u'des pues'}\n",
      "dias {0.75: u'dais', 0.8888888888888888: u'odias', 0.8571428571428571: u'das'}\n",
      "ahi {0.6666666666666666: u'ah\\xed', 0.8: u'ah'}\n",
      "nose {0.75: u'tose', 0.8888888888888888: u'no se', 0.8571428571428571: u'nos'}\n",
      "tw {0.5: u'ta'}\n",
      "nooo {0.75: u'nomo'}\n",
      "m {0.0: u'', 0.6666666666666666: u'ms'}\n",
      "tambien {0.8571428571428571: u'cambien'}\n",
      "jajajajaj {0.375: u'agasaja'}\n",
      "people {0.7142857142857143: u'perplejo', 0.9230769230769231: u'peo ple'}\n",
      "new {0.6666666666666666: u'nea', 0.8: u'ne'}\n",
      "followers {0.8421052631578947: u'folloneros'}\n",
      "veni {0.5: u'vine', 0.8888888888888888: u'venir', 0.8571428571428571: u'ven', 0.75: u'ven\\xed'}\n",
      "follower {0.8235294117647058: u'follonero'}\n",
      "chau {0.75: u'chas', 0.8888888888888888: u'cha u', 0.8571428571428571: u'cha'}\n",
      "followed {0.7058823529411765: u'follonero'}\n",
      "promo {0.8888888888888888: u'pomo', 0.8: u'plomo'}\n",
      "wpp {0.8: u'pp'}\n",
      "one {0.6666666666666666: u'ose', 0.8: u'ne', 0.8571428571428571: u'once'}\n",
      "estan {0.8888888888888888: u'esta', 0.9090909090909091: u'es-tan', 0.8: u'estas'}\n",
      "foi {0.6666666666666666: u'fio', 0.8: u'fo'}\n",
      "ok {0.5: u'op', 0.6666666666666666: u'o', 0.8: u'cok'}\n",
      "amooo {0.75: u'amo', 0.8: u'amomo'}\n",
      "pa {0.5: u'ap', 0.6666666666666666: u'a', 0.8: u'epa'}\n",
      "sabado {0.8333333333333334: u'sanado', 0.6666666666666666: u'basado'}\n",
      "stats {0.8888888888888888: u'stas', 0.5454545454545454: u'atesta'}\n",
      "s {0.0: u'd', 0.6666666666666666: u'es'}\n",
      "n {0.0: u'y', 0.6666666666666666: u'in'}\n",
      "mmm {0.0: u'', 0.5: u'gamma'}\n",
      "qe {0.5: u'se', 0.6666666666666666: u'e', 0.8: u'que'}\n",
      "love {0.5: u'levo', 0.75: u'leve', 0.4444444444444444: u'vello', 0.8571428571428571: u'ove', 0.8888888888888888: u'lo ve'}\n",
      "nas {0.8: u'as', 0.8571428571428571: u'hnas', 0.3333333333333333: u'san', 0.6666666666666666: u'nos'}\n",
      "weee {0.6666666666666666: u'weber'}\n",
      "just {0.75: u'jusi', 0.8888888888888888: u'just\\xf3'}\n",
      "automatically {0.75: u'estomatical'}\n",
      "checked {0.75: u'anocheced'}\n",
      "peli {0.75: u'pela', 0.8888888888888888: u'pelis', 0.6: u'Felipe', 0.5: u'pile'}\n",
      "paaa {0.75: u'paya', 0.4444444444444444: u'Paipa'}\n",
      "todavia {0.8571428571428571: u'todav\\xeda'}\n",
      "free {0.75: u'cree', 0.8888888888888888: u'frese', 0.6: u'Freire'}\n",
      "p {0.0: u'y', 0.6666666666666666: u'op'}\n",
      "recien {0.8333333333333334: u'reci\\xe9n', 0.9090909090909091: u'recen', 0.9230769230769231: u'reciten'}\n",
      "unfollowed {0.5714285714285714: u'desfollonad'}\n",
      "messi {0.9090909090909091: u'mes si', 0.6666666666666666: u'mimesis'}\n",
      "t {0.0: u'y', 0.6666666666666666: u'ta'}\n",
      "vamo {0.75: u'vano', 0.8888888888888888: u'vamos', 0.8571428571428571: u'amo'}\n",
      "my {0.5: u'ms', 0.6666666666666666: u'y', 0.8: u'muy'}\n",
      "goool {0.75: u'gol'}\n",
      "posted {0.8333333333333334: u'postee', 0.9090909090909091: u'poste', 0.9230769230769231: u'poste d'}\n",
      "yaaa {0.75: u'yana'}\n",
      "photo {0.8888888888888888: u'hoto', 0.8: u'choto'}\n",
      "rt {0.5: u're', 0.8: u'art'}\n",
      "hs {0.5: u'he', 0.8: u'has'}\n",
      "super {0.8888888888888888: u'supe', 0.9090909090909091: u'super\\xf3', 0.8: u's\\xfaper'}\n",
      "b {0.0: u'y', 0.6666666666666666: u'ib'}\n",
      "jajajajajajajaja {0.2: u'aventajamiento'}\n",
      "dormirrr {0.75: u'dormidor', 0.5333333333333333: u'mirrado', 0.6666666666666666: u'dormido', 0.8571428571428571: u'dormir'}\n",
      "musica {0.8333333333333334: u'musita', 0.9090909090909091: u'musca', 0.9230769230769231: u'musical'}\n",
      "l {0.0: u'y', 0.6666666666666666: u'pl'}\n",
      "pibes {0.8888888888888888: u'pies', 0.9090909090909091: u'pi-bes', 0.8: u'libes'}\n",
      "gym {0.6666666666666666: u'gay'}\n",
      "bue {0.8571428571428571: u'buen', 0.8: u'bu', 0.6666666666666666: u'bus'}\n",
      "pibe {0.75: u'pite', 0.8888888888888888: u'pi be', 0.8571428571428571: u'pie'}\n",
      "unico {0.8: u'unido'}\n"
     ]
    }
   ],
   "source": [
    "import enchant, difflib\n",
    "i = 0\n",
    "\n",
    "for word,c in sorted(noestan.items() ,key=lambda x:x[1],reverse= True):\n",
    "    dicc = {}\n",
    "    a = set(d.suggest(word))\n",
    "    for b in a:\n",
    "        tmp = difflib.SequenceMatcher(None, word, b).ratio();\n",
    "        dicc[tmp] = b\n",
    "    print word,dicc\n",
    "    if i == 100:\n",
    "            break\n",
    "    i += 1"
   ]
  },
  {
   "cell_type": "code",
   "execution_count": 50,
   "metadata": {
    "collapsed": true,
    "deletable": true,
    "editable": true
   },
   "outputs": [],
   "source": [
    "import matplotlib.pyplot as plt\n",
    "import numpy as np\n",
    "import seaborn\n",
    "def plot(canti,dic):\n",
    "    plt.title(\"Frecuencia de Palabras\")\n",
    "    plt.xlabel(\"Palabras\")\n",
    "    plt.ylabel(\"Frecuencia\")\n",
    "\n",
    "    index = np.arange(len(dic.keys()))\n",
    "    bar_width = 0.35\n",
    "\n",
    "\n",
    "    cant = canti\n",
    "    valores = sorted(dic.values(),reverse=True)\n",
    "    claves = sorted(dic, key=dic.get,reverse=True)\n",
    "\n",
    "    opacity = 0.4\n",
    "    plt.xticks(index + bar_width, claves[:cant], size=10, rotation=\"vertical\")\n",
    "    plt.bar(range(cant),valores[:cant],alpha=opacity,color='b',)\n",
    "    plt.tight_layout()\n",
    "    plt.show()\n"
   ]
  },
  {
   "cell_type": "code",
   "execution_count": 51,
   "metadata": {
    "collapsed": false,
    "deletable": true,
    "editable": true
   },
   "outputs": [
    {
     "data": {
      "image/png": "[encoded data removed]",
      "text/plain": [
       "<matplotlib.figure.Figure at 0x7f3017af16d0>"
      ]
     },
     "metadata": {},
     "output_type": "display_data"
    }
   ],
   "source": [
    "plot(30,noestan)"
   ]
  },
  {
   "cell_type": "markdown",
   "metadata": {},
   "source": [
    "## Probando TextBlob"
   ]
  },
  {
   "cell_type": "code",
   "execution_count": 30,
   "metadata": {
    "collapsed": false
   },
   "outputs": [],
   "source": [
    "from textblob import TextBlob"
   ]
  },
  {
   "cell_type": "code",
   "execution_count": 33,
   "metadata": {
    "collapsed": true
   },
   "outputs": [],
   "source": [
    " wiki = TextBlob(\"El hombre escribio un libro.\")"
   ]
  },
  {
   "cell_type": "code",
   "execution_count": 35,
   "metadata": {
    "collapsed": false
   },
   "outputs": [
    {
     "name": "stdout",
     "output_type": "stream",
     "text": [
      "[('El', u'NNP'), ('hombre', u'NN'), ('escribio', u'NN'), ('un', u'JJ'), ('libro', u'NN')]\n",
      "['el', u'hombre escribio un libro']\n",
      "['El', 'hombre', 'escribio', 'un', 'libro']\n"
     ]
    }
   ],
   "source": [
    "print wiki.tags\n",
    "print wiki.noun_phrases\n",
    "print wiki.words"
   ]
  }
 ],
 "metadata": {
  "kernelspec": {
   "display_name": "Python 2",
   "language": "python",
   "name": "python2"
  },
  "language_info": {
   "codemirror_mode": {
    "name": "ipython",
    "version": 2
   },
   "file_extension": ".py",
   "mimetype": "text/x-python",
   "name": "python",
   "nbconvert_exporter": "python",
   "pygments_lexer": "ipython2",
   "version": "2.7.12"
  }
 },
 "nbformat": 4,
 "nbformat_minor": 2
}
