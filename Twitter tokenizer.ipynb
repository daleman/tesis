{
 "cells": [
  {
   "cell_type": "markdown",
   "metadata": {
    "deletable": true,
    "editable": true
   },
   "source": [
    "## Probando el twitter tokenizer de nltk"
   ]
  },
  {
   "cell_type": "code",
   "execution_count": 4,
   "metadata": {
    "collapsed": false,
    "deletable": true,
    "editable": true
   },
   "outputs": [],
   "source": [
    "from nltk.tokenize import TweetTokenizer\n",
    "tknzr = TweetTokenizer(preserve_case=False, reduce_len=True, strip_handles=True)"
   ]
  },
  {
   "cell_type": "markdown",
   "metadata": {
    "deletable": true,
    "editable": true
   },
   "source": [
    "### Obtengo textos a partir de un archivo csv"
   ]
  },
  {
   "cell_type": "code",
   "execution_count": 5,
   "metadata": {
    "collapsed": false,
    "deletable": true,
    "editable": true
   },
   "outputs": [],
   "source": [
    "import csv\n",
    "s0 = \"This is a cooool #dummysmiley: :-) :-P <3 and some arrows < > -> <--\"\n",
    "tknzr.tokenize(s0)\n",
    "\n",
    "prov = 'chaco'\n",
    "\n",
    "texts = []\n",
    "with open('train/train_{}.csv'.format(prov),'rb') as csvfile:\n",
    "    reader = csv.reader(csvfile, delimiter=',', quotechar='|')\n",
    "    for row in reader:\n",
    "        texts.append(row[2]) \n",
    "       "
   ]
  },
  {
   "cell_type": "markdown",
   "metadata": {
    "collapsed": true,
    "deletable": true,
    "editable": true
   },
   "source": [
    "## Ejemplo de uso de tokenizador"
   ]
  },
  {
   "cell_type": "code",
   "execution_count": 28,
   "metadata": {
    "collapsed": false,
    "deletable": true,
    "editable": true
   },
   "outputs": [
    {
     "name": "stdout",
     "output_type": "stream",
     "text": [
      "Feliz navidad para todos.. Mucho amor y felicidad para el mundo entero..\n",
      "ni\n",
      "siquiera\n",
      "un\n",
      "fernet\n",
      "?\n",
      "?\n"
     ]
    }
   ],
   "source": [
    "print texts[300]\n",
    "for w in tknzr.tokenize(texts[0]):\n",
    "    print w"
   ]
  },
  {
   "cell_type": "code",
   "execution_count": 22,
   "metadata": {
    "collapsed": true,
    "deletable": true,
    "editable": true
   },
   "outputs": [
    {
     "name": "stdout",
     "output_type": "stream",
     "text": [
      "jajaja\n",
      "jaja\n",
      "jajajaja\n",
      "q\n",
      "jajajajaja\n",
      "asi\n",
      "dia\n",
      "teres\n",
      "jajaj\n",
      "jajajaj\n",
      "jajajajajaja\n",
      "we\n",
      "i\n",
      "river\n",
      "hdp\n",
      "lpm\n",
      "x\n",
      "pessoas\n",
      "finde\n",
      "breñas\n",
      "the\n",
      "and\n",
      "seu\n",
      "xq\n",
      "facebook\n",
      "unfollowers\n",
      "xd\n",
      "via\n",
      "you\n",
      "charata\n",
      "siii\n",
      "by\n",
      "aca\n",
      "jajajajajajaja\n",
      "twitter\n",
      "queres\n",
      "c\n",
      "despues\n",
      "dias\n",
      "ahi\n",
      "nose\n",
      "tw\n",
      "nooo\n",
      "m\n",
      "tambien\n",
      "jajajajaj\n",
      "people\n",
      "new\n",
      "followers\n",
      "veni\n",
      "follower\n",
      "chau\n",
      "followed\n",
      "promo\n",
      "wpp\n",
      "one\n",
      "estan\n",
      "foi\n",
      "ok\n",
      "amooo\n",
      "pa\n",
      "sabado\n",
      "stats\n",
      "s\n",
      "n\n",
      "mmm\n",
      "qe\n",
      "love\n",
      "nas\n",
      "weee\n",
      "just\n",
      "automatically\n",
      "checked\n",
      "peli\n",
      "paaa\n",
      "todavia\n",
      "free\n",
      "p\n",
      "recien\n",
      "unfollowed\n",
      "messi\n",
      "t\n",
      "vamo\n",
      "my\n",
      "goool\n",
      "posted\n",
      "yaaa\n",
      "photo\n",
      "rt\n",
      "hs\n",
      "super\n",
      "b\n",
      "jajajajajajajaja\n",
      "dormirrr\n",
      "musica\n",
      "l\n",
      "pibes\n",
      "gym\n",
      "bue\n",
      "pibe\n",
      "unico\n"
     ]
    }
   ],
   "source": [
    "i = 0\n",
    "stop = 100\n",
    "palabras = []\n",
    "for word,c in sorted(noestan.items() ,key=lambda x:x[1],reverse= True):\n",
    "    palabras.append(word)\n",
    "    if i == stop:\n",
    "        break\n",
    "    i += 1\n",
    "for p in palabras:\n",
    "    print p\n",
    "    "
   ]
  },
  {
   "cell_type": "markdown",
   "metadata": {
    "deletable": true,
    "editable": true
   },
   "source": [
    "## Veo que palabras están en el diccionario y cuáles no [Usando pyenchant]"
   ]
  },
  {
   "cell_type": "code",
   "execution_count": 4,
   "metadata": {
    "collapsed": false,
    "deletable": true,
    "editable": true
   },
   "outputs": [
    {
     "name": "stdout",
     "output_type": "stream",
     "text": [
      "Cantidades totales:  1590930 246428 0.865879159097\n",
      "Cantidades unicas:  30081 41711 0.419002117228\n"
     ]
    }
   ],
   "source": [
    "import enchant\n",
    "d = enchant.Dict(\"es_AR\")\n",
    "noestan = {}\n",
    "estan = {}\n",
    "words  = {}\n",
    "for text in texts:\n",
    "    for w in tknzr.tokenize(text):\n",
    "        if w.isalpha():\n",
    "            if words.has_key(w):\n",
    "                words[w] += 1\n",
    "            else:\n",
    "                words[w] = 1\n",
    "#estan = sum([d.check(w) for w in words])\n",
    "for word,cant in words.iteritems():\n",
    "    if not(d.check(word)):\n",
    "        noestan[word] = cant\n",
    "    else:\n",
    "        estan[word] = cant\n",
    "        \n",
    "\n",
    "\n",
    "cant_estan = sum([c for c in estan.values()])\n",
    "cant_noestan = sum([c for c in noestan.values()])\n",
    "print 'Cantidades totales: ',cant_estan,cant_noestan,cant_estan/float(cant_estan+cant_noestan)\n",
    "print 'Cantidades unicas: ' ,len(estan),len(noestan), len(estan)/float(len(estan)+len(noestan))\n",
    "#i = 0\n",
    "#for w,c in sorted(noestan.items() ,key=lambda x:x[1],reverse= True):\n",
    "#    if c < 10:\n",
    "#        break\n",
    "#    i +=1\n",
    "#    print i,w,c"
   ]
  },
  {
   "cell_type": "code",
   "execution_count": 13,
   "metadata": {
    "collapsed": false,
    "deletable": true,
    "editable": true
   },
   "outputs": [
    {
     "name": "stdout",
     "output_type": "stream",
     "text": [
      "jajaja {0.7272727272727273: u'ajada', 0.5454545454545454: u'ahaja'}\n",
      "jaja {0.75: u'jaca', 0.8888888888888888: u'jauja', 0.8571428571428571: u'aja'}\n",
      "jajajaja {0.42857142857142855: u'alhaja', 0.4: u'agasaja'}\n",
      "q {0.0: u'y'}\n",
      "jajajajaja {0.42105263157894735: u'agasajara'}\n",
      "asi {0.3333333333333333: u'isa', 0.6666666666666666: u'as\\xed', 0.8: u'si', 0.8571428571428571: u'asir'}\n",
      "dia {0.6666666666666666: u'ida', 0.8: u'da', 0.8571428571428571: u'diga'}\n",
      "teres {0.8888888888888888: u'tres', 0.6: u'retes', 0.9090909090909091: u'\\xe9teres', 0.8: u'tetes'}\n",
      "jajaj {0.75: u'aja'}\n",
      "jajajaj {0.5: u'ahaja', 0.6666666666666666: u'ajada', 0.46153846153846156: u'alhaja'}\n",
      "jajajajajaja {0.36363636363636365: u'atarrajara'}\n",
      "we {0.5: u'se', 0.6666666666666666: u'e', 0.8: u'web'}\n",
      "i {0.0: u'u', 0.6666666666666666: u'id'}\n",
      "river {0.7272727272727273: u'Rivero', 0.6: u'veril', 0.9090909090909091: u'rivera', 0.8: u'rever'}\n",
      "hdp {0.0: u'', 0.5714285714285714: u'dpto'}\n",
      "lpm {0.0: u'', 0.5: u'milpa'}\n",
      "x {0.0: u'y', 0.6666666666666666: u'ax'}\n",
      "pessoas {0.625: u'sopesaras', 0.7142857142857143: u'sopesas', 0.6666666666666666: u'sospesas'}\n",
      "finde {0.8888888888888888: u'fine', 0.9090909090909091: u'fin-de', 0.8: u'funde'}\n",
      "breñas {0.8333333333333334: u'brecas', 0.9090909090909091: u'breas'}\n",
      "the {0.6666666666666666: u'che', 0.8: u'he'}\n",
      "and {0.8571428571428571: u'and\\xe1', 0.8: u'ad', 0.6666666666666666: u'avd'}\n",
      "seu {0.6666666666666666: u'se\\xf3', 0.8: u'se', 0.8571428571428571: u'se u'}\n",
      "xq {0.5: u'xi'}\n",
      "facebook {0.7142857142857143: u'faceto'}\n",
      "unfollowers {0.7619047619047619: u'folloneros'}\n",
      "xd {0.5: u'ad', 0.6666666666666666: u'd'}\n",
      "via {0.8571428571428571: u'vira', 0.8: u'vi', 0.6666666666666666: u'ria'}\n",
      "you {0.6666666666666666: u'yos', 0.8: u'yo', 0.8571428571428571: u'yo u'}\n",
      "charata {0.8571428571428571: u'Charata', 0.9333333333333333: u'cha-rata'}\n",
      "siii {0.6666666666666666: u'si'}\n",
      "by {0.5: u'bs', 0.6666666666666666: u'y', 0.8: u'bey'}\n",
      "aca {0.8571428571428571: u'asca', 0.8: u'ca', 0.6666666666666666: u'ac\\xe1'}\n",
      "jajajajajajaja {0.23076923076923078: u'escusabaraja'}\n",
      "twitter {0.6666666666666666: u'titerero'}\n",
      "queres {0.8333333333333334: u'fueres', 0.9230769230769231: u'queresa'}\n",
      "c {0.0: u'y', 0.6666666666666666: u'cu'}\n",
      "despues {0.8571428571428571: u'despu\\xe9s', 0.9333333333333333: u'des pues'}\n",
      "dias {0.75: u'dais', 0.8888888888888888: u'odias', 0.8571428571428571: u'das'}\n",
      "ahi {0.6666666666666666: u'ah\\xed', 0.8: u'ah'}\n",
      "nose {0.75: u'tose', 0.8888888888888888: u'no se', 0.8571428571428571: u'nos'}\n",
      "tw {0.5: u'ta'}\n",
      "nooo {0.75: u'nomo'}\n",
      "m {0.0: u'', 0.6666666666666666: u'ms'}\n",
      "tambien {0.8571428571428571: u'cambien'}\n",
      "jajajajaj {0.375: u'agasaja'}\n",
      "people {0.7142857142857143: u'perplejo', 0.9230769230769231: u'peo ple'}\n",
      "new {0.6666666666666666: u'nea', 0.8: u'ne'}\n",
      "followers {0.8421052631578947: u'folloneros'}\n",
      "veni {0.5: u'vine', 0.8888888888888888: u'venir', 0.8571428571428571: u'ven', 0.75: u'ven\\xed'}\n",
      "follower {0.8235294117647058: u'follonero'}\n",
      "chau {0.75: u'chas', 0.8888888888888888: u'cha u', 0.8571428571428571: u'cha'}\n",
      "followed {0.7058823529411765: u'follonero'}\n",
      "promo {0.8888888888888888: u'pomo', 0.8: u'plomo'}\n",
      "wpp {0.8: u'pp'}\n",
      "one {0.6666666666666666: u'ose', 0.8: u'ne', 0.8571428571428571: u'once'}\n",
      "estan {0.8888888888888888: u'esta', 0.9090909090909091: u'es-tan', 0.8: u'estas'}\n",
      "foi {0.6666666666666666: u'fio', 0.8: u'fo'}\n",
      "ok {0.5: u'op', 0.6666666666666666: u'o', 0.8: u'cok'}\n",
      "amooo {0.75: u'amo', 0.8: u'amomo'}\n",
      "pa {0.5: u'ap', 0.6666666666666666: u'a', 0.8: u'epa'}\n",
      "sabado {0.8333333333333334: u'sanado', 0.6666666666666666: u'basado'}\n",
      "stats {0.8888888888888888: u'stas', 0.5454545454545454: u'atesta'}\n",
      "s {0.0: u'd', 0.6666666666666666: u'es'}\n",
      "n {0.0: u'y', 0.6666666666666666: u'in'}\n",
      "mmm {0.0: u'', 0.5: u'gamma'}\n",
      "qe {0.5: u'se', 0.6666666666666666: u'e', 0.8: u'que'}\n",
      "love {0.5: u'levo', 0.75: u'leve', 0.4444444444444444: u'vello', 0.8571428571428571: u'ove', 0.8888888888888888: u'lo ve'}\n",
      "nas {0.8: u'as', 0.8571428571428571: u'hnas', 0.3333333333333333: u'san', 0.6666666666666666: u'nos'}\n",
      "weee {0.6666666666666666: u'weber'}\n",
      "just {0.75: u'jusi', 0.8888888888888888: u'just\\xf3'}\n",
      "automatically {0.75: u'estomatical'}\n",
      "checked {0.75: u'anocheced'}\n",
      "peli {0.75: u'pela', 0.8888888888888888: u'pelis', 0.6: u'Felipe', 0.5: u'pile'}\n",
      "paaa {0.75: u'paya', 0.4444444444444444: u'Paipa'}\n",
      "todavia {0.8571428571428571: u'todav\\xeda'}\n",
      "free {0.75: u'cree', 0.8888888888888888: u'frese', 0.6: u'Freire'}\n",
      "p {0.0: u'y', 0.6666666666666666: u'op'}\n",
      "recien {0.8333333333333334: u'reci\\xe9n', 0.9090909090909091: u'recen', 0.9230769230769231: u'reciten'}\n",
      "unfollowed {0.5714285714285714: u'desfollonad'}\n",
      "messi {0.9090909090909091: u'mes si', 0.6666666666666666: u'mimesis'}\n",
      "t {0.0: u'y', 0.6666666666666666: u'ta'}\n",
      "vamo {0.75: u'vano', 0.8888888888888888: u'vamos', 0.8571428571428571: u'amo'}\n",
      "my {0.5: u'ms', 0.6666666666666666: u'y', 0.8: u'muy'}\n",
      "goool {0.75: u'gol'}\n",
      "posted {0.8333333333333334: u'postee', 0.9090909090909091: u'poste', 0.9230769230769231: u'poste d'}\n",
      "yaaa {0.75: u'yana'}\n",
      "photo {0.8888888888888888: u'hoto', 0.8: u'choto'}\n",
      "rt {0.5: u're', 0.8: u'art'}\n",
      "hs {0.5: u'he', 0.8: u'has'}\n",
      "super {0.8888888888888888: u'supe', 0.9090909090909091: u'super\\xf3', 0.8: u's\\xfaper'}\n",
      "b {0.0: u'y', 0.6666666666666666: u'ib'}\n",
      "jajajajajajajaja {0.2: u'aventajamiento'}\n",
      "dormirrr {0.75: u'dormidor', 0.5333333333333333: u'mirrado', 0.6666666666666666: u'dormido', 0.8571428571428571: u'dormir'}\n",
      "musica {0.8333333333333334: u'musita', 0.9090909090909091: u'musca', 0.9230769230769231: u'musical'}\n",
      "l {0.0: u'y', 0.6666666666666666: u'pl'}\n",
      "pibes {0.8888888888888888: u'pies', 0.9090909090909091: u'pi-bes', 0.8: u'libes'}\n",
      "gym {0.6666666666666666: u'gay'}\n",
      "bue {0.8571428571428571: u'buen', 0.8: u'bu', 0.6666666666666666: u'bus'}\n",
      "pibe {0.75: u'pite', 0.8888888888888888: u'pi be', 0.8571428571428571: u'pie'}\n",
      "unico {0.8: u'unido'}\n"
     ]
    }
   ],
   "source": [
    "import enchant, difflib\n",
    "i = 0\n",
    "\n",
    "for word,c in sorted(noestan.items() ,key=lambda x:x[1],reverse= True):\n",
    "    dicc = {}\n",
    "    a = set(d.suggest(word))\n",
    "    for b in a:\n",
    "        tmp = difflib.SequenceMatcher(None, word, b).ratio();\n",
    "        dicc[tmp] = b\n",
    "    print word,dicc\n",
    "    if i == 100:\n",
    "            break\n",
    "    i += 1"
   ]
  },
  {
   "cell_type": "code",
   "execution_count": 50,
   "metadata": {
    "collapsed": true,
    "deletable": true,
    "editable": true
   },
   "outputs": [],
   "source": [
    "import matplotlib.pyplot as plt\n",
    "import numpy as np\n",
    "import seaborn\n",
    "def plot(canti,dic):\n",
    "    plt.title(\"Frecuencia de Palabras\")\n",
    "    plt.xlabel(\"Palabras\")\n",
    "    plt.ylabel(\"Frecuencia\")\n",
    "\n",
    "    index = np.arange(len(dic.keys()))\n",
    "    bar_width = 0.35\n",
    "\n",
    "\n",
    "    cant = canti\n",
    "    valores = sorted(dic.values(),reverse=True)\n",
    "    claves = sorted(dic, key=dic.get,reverse=True)\n",
    "\n",
    "    opacity = 0.4\n",
    "    plt.xticks(index + bar_width, claves[:cant], size=10, rotation=\"vertical\")\n",
    "    plt.bar(range(cant),valores[:cant],alpha=opacity,color='b',)\n",
    "    plt.tight_layout()\n",
    "    plt.show()\n"
   ]
  },
  {
   "cell_type": "code",
   "execution_count": 51,
   "metadata": {
    "collapsed": false,
    "deletable": true,
    "editable": true
   },
   "outputs": [
    {
     "data": {
      "image/png": "[encoded data removed]",
      "text/plain": [
       "<matplotlib.figure.Figure at 0x7f3017af16d0>"
      ]
     },
     "metadata": {},
     "output_type": "display_data"
    }
   ],
   "source": [
    "plot(30,noestan)"
   ]
  },
  {
   "cell_type": "markdown",
   "metadata": {
    "deletable": true,
    "editable": true
   },
   "source": [
    "## Probando TextBlob"
   ]
  },
  {
   "cell_type": "code",
   "execution_count": 30,
   "metadata": {
    "collapsed": false,
    "deletable": true,
    "editable": true
   },
   "outputs": [],
   "source": [
    "from textblob import TextBlob"
   ]
  },
  {
   "cell_type": "code",
   "execution_count": 33,
   "metadata": {
    "collapsed": true,
    "deletable": true,
    "editable": true
   },
   "outputs": [],
   "source": [
    " wiki = TextBlob(\"El hombre escribio un libro.\")"
   ]
  },
  {
   "cell_type": "code",
   "execution_count": 35,
   "metadata": {
    "collapsed": false,
    "deletable": true,
    "editable": true
   },
   "outputs": [
    {
     "name": "stdout",
     "output_type": "stream",
     "text": [
      "[('El', u'NNP'), ('hombre', u'NN'), ('escribio', u'NN'), ('un', u'JJ'), ('libro', u'NN')]\n",
      "['el', u'hombre escribio un libro']\n",
      "['El', 'hombre', 'escribio', 'un', 'libro']\n"
     ]
    }
   ],
   "source": [
    "print wiki.tags\n",
    "print wiki.noun_phrases\n",
    "print wiki.words"
   ]
  },
  {
   "cell_type": "code",
   "execution_count": 7,
   "metadata": {
    "collapsed": false
   },
   "outputs": [
    {
     "name": "stdout",
     "output_type": "stream",
     "text": [
      "240348\n"
     ]
    }
   ],
   "source": [
    "print len(texts)"
   ]
  },
  {
   "cell_type": "markdown",
   "metadata": {},
   "source": [
    "## Tokenizo todos los textos y los guardo en /corpus"
   ]
  },
  {
   "cell_type": "code",
   "execution_count": 55,
   "metadata": {
    "collapsed": false
   },
   "outputs": [],
   "source": [
    "\n",
    "from apps import *\n",
    "import csv\n",
    "\n",
    "from nltk.tokenize import TweetTokenizer\n",
    "tknzr = TweetTokenizer(preserve_case=False, reduce_len=True, strip_handles=True)\n",
    "\n",
    "for prov in argentina:\n",
    "    with open('train/train_{}.csv'.format(prov),'rb') as csvfile,\\\n",
    "         open('corpus/{}.txt'.format(prov),'wb') as txt:\n",
    "        reader = csv.reader(csvfile, delimiter=',', quotechar='|')\n",
    "        for row in reader:        \n",
    "            texto = [w for w in tknzr.tokenize(row[2]) if w.isalpha()]\n",
    "            txt.write(' '.join(texto).encode('utf-8')+'\\n')\n",
    "            "
   ]
  },
  {
   "cell_type": "code",
   "execution_count": 24,
   "metadata": {
    "collapsed": false
   },
   "outputs": [],
   "source": [
    "from nltk.book import FreqDist\n",
    "fdist =  FreqDist(texts)\n",
    "#fdist.most_common()"
   ]
  },
  {
   "cell_type": "markdown",
   "metadata": {},
   "source": [
    "## Cantidad de Palabras por provincia"
   ]
  },
  {
   "cell_type": "code",
   "execution_count": 62,
   "metadata": {
    "collapsed": false
   },
   "outputs": [
    {
     "name": "stdout",
     "output_type": "stream",
     "text": [
      "Cantidad de palabras de jujuy 1592417\n",
      "Cantidad de palabras de catamarca 1705541\n",
      "Cantidad de palabras de sanjuan 1663667\n",
      "Cantidad de palabras de salta 1759072\n",
      "Cantidad de palabras de rionegro 1723614\n",
      "Cantidad de palabras de lapampa 1928663\n",
      "Cantidad de palabras de chaco 1837358\n",
      "Cantidad de palabras de mendoza 1831277\n",
      "Cantidad de palabras de buenosaires 1715515\n",
      "Cantidad de palabras de entrerios 1849271\n",
      "Cantidad de palabras de chubut 1842906\n",
      "Cantidad de palabras de santacruz 1656996\n",
      "Cantidad de palabras de neuquen 1666735\n",
      "Cantidad de palabras de misiones 1817548\n",
      "Cantidad de palabras de corrientes 1765563\n",
      "Cantidad de palabras de formosa 1803015\n",
      "Cantidad de palabras de santafe 2016652\n",
      "Cantidad de palabras de santiago 1765440\n",
      "Cantidad de palabras de cordoba 1964669\n",
      "Cantidad de palabras de larioja 1783175\n",
      "Cantidad de palabras de tierradelfuego 1801015\n",
      "Cantidad de palabras de tucuman 1701225\n",
      "Cantidad de palabras de sanluis 1761500\n"
     ]
    }
   ],
   "source": [
    "from nltk.corpus import PlaintextCorpusReader\n",
    "corpus_root = './corpus'\n",
    "wordlists = PlaintextCorpusReader(corpus_root, '.*')\n",
    "for prov in argentina:\n",
    "    print 'Cantidad de palabras de ' + prov + ' ' + str(len(wordlists.words('{}.txt'.format(prov))))"
   ]
  },
  {
   "cell_type": "markdown",
   "metadata": {},
   "source": [
    "## Viendo la función concordance"
   ]
  },
  {
   "cell_type": "code",
   "execution_count": 88,
   "metadata": {
    "collapsed": false
   },
   "outputs": [
    {
     "name": "stdout",
     "output_type": "stream",
     "text": [
      "Displaying 4 of 4 matches:\n",
      "ndo al progresismo trucho en temas de educacion ddhh y varios que hace imperdible a la mayoría de lo\n",
      "es lo peor que pudo hacer este tipo pasarse los ddhh y el dolor de esas mujeres por el culo esto ya \n",
      "l calidad institucional y vigencia plena de los ddhh en una sociedad justa san martin seamos libres \n",
      " bue me rio un rato de lo que se ponen si a los ddhh pobre me borro por las caritas las queria proba\n",
      "None\n"
     ]
    }
   ],
   "source": [
    "import nltk.corpus  \n",
    "from nltk.text import Text \n",
    "with open('corpus/buenosaires.txt','rU') as fi:\n",
    "    txt = fi.read().decode('utf8')\n",
    "    bsas = Text(txt.split())\n",
    "print (bsas.concordance('ddhh',100,20))"
   ]
  },
  {
   "cell_type": "code",
   "execution_count": 159,
   "metadata": {
    "collapsed": false,
    "scrolled": true
   },
   "outputs": [
    {
     "name": "stdout",
     "output_type": "stream",
     "text": [
      "354\n"
     ]
    }
   ],
   "source": [
    "import pandas as pd\n",
    "from pandas.io.json import json_normalize\n",
    "import json\n",
    "words = {}\n",
    "for prov in argentina:\n",
    "    with open('./train/train_{}_dict.json'.format(prov), 'r') as f:\n",
    "         words[prov] = json.load(f)\n",
    "\n",
    "df = pd.DataFrame(words)\n",
    "#df = json_normalize(data)\n",
    "\n",
    "#df = pd.read_json('./train/train_{}_dict.json'.format('buenosaires'),typ='series')\n",
    "#df.names=['Palabra','Cantidad']\n",
    "#print df.sort('Cantidad',ascending=0)\n",
    "#print df.head(20)"
   ]
  },
  {
   "cell_type": "code",
   "execution_count": 167,
   "metadata": {
    "collapsed": false
   },
   "outputs": [
    {
     "name": "stdout",
     "output_type": "stream",
     "text": [
      "         buenosaires  catamarca    chaco   chubut  cordoba  corrientes  \\\n",
      "que          72146.0    66683.0  78682.0  73211.0  79401.0     76376.0   \n",
      "de           56068.0    53368.0  55678.0  60492.0  64266.0     58586.0   \n",
      "a            46217.0    42606.0  46032.0  50648.0  51926.0     44225.0   \n",
      "me           44489.0    37289.0  41517.0  45741.0  52082.0     39233.0   \n",
      "la           43886.0    40138.0  42812.0  46792.0  48883.0     41063.0   \n",
      "no           40427.0    37700.0  43628.0  39896.0  46201.0     40882.0   \n",
      "y            36394.0    31599.0  35066.0  36593.0  40955.0     36268.0   \n",
      "el           33385.0    31458.0  31170.0  35169.0  37160.0     32427.0   \n",
      "en           24658.0    25615.0  22784.0  28052.0  26457.0     23782.0   \n",
      "te           18745.0    21167.0  23954.0  18444.0  21151.0     21639.0   \n",
      "se           18023.0    16932.0  19035.0  19362.0  19964.0     17763.0   \n",
      "un           17054.0    15085.0  17156.0  16982.0  18157.0     17007.0   \n",
      "lo           16793.0    15644.0  17927.0  16036.0  18291.0     15533.0   \n",
      "es           16671.0    15861.0  17945.0  16576.0  19067.0     16306.0   \n",
      "con          15595.0    15942.0  16221.0  17839.0  18966.0     15922.0   \n",
      "mi           14894.0    16796.0  17962.0  17699.0  21395.0     16152.0   \n",
      "por          13276.0    13823.0  14315.0  13512.0  14703.0     15011.0   \n",
      "los          12582.0    12396.0  13133.0  14464.0  14502.0     11837.0   \n",
      "para         11594.0    12710.0  13516.0  12224.0  15078.0     12594.0   \n",
      "las          10226.0    10569.0  11765.0  11421.0  12198.0     10239.0   \n",
      "si           10106.0     9639.0  11343.0  10985.0  11846.0     10327.0   \n",
      "una          10035.0    10610.0  10419.0  10836.0  11428.0     10155.0   \n",
      "yo            9073.0     8248.0  10056.0   8534.0  10282.0      8858.0   \n",
      "como          8920.0     8985.0  10148.0   9020.0  10312.0      8943.0   \n",
      "ya            7910.0     9673.0   9013.0   7858.0   9533.0      8745.0   \n",
      "al            7451.0     6908.0   7201.0   7994.0   8328.0      6459.0   \n",
      "todo          6964.0     6686.0   7667.0   7388.0   8887.0      8338.0   \n",
      "del           6918.0     6260.0   5898.0   7175.0   7389.0      6949.0   \n",
      "pero          6661.0     5675.0   6735.0   6962.0   7681.0      6653.0   \n",
      "tengo         6623.0     5410.0   5713.0   6565.0   7856.0      5595.0   \n",
      "...              ...        ...      ...      ...      ...         ...   \n",
      "vida          2855.0     3477.0   4153.0   2763.0   4492.0      3586.0   \n",
      "dormir        2851.0     2569.0   3931.0   2714.0   3811.0      3342.0   \n",
      "lindo         2835.0     3192.0   2993.0   3519.0   3254.0      3190.0   \n",
      "tan           2769.0     2919.0   3148.0   3289.0   4096.0      3331.0   \n",
      "hacer         2757.0     2856.0   2979.0   3249.0   3579.0      2729.0   \n",
      "puedo         2732.0     2444.0   2590.0   2512.0   3134.0      2655.0   \n",
      "nunca         2606.0     2472.0   3495.0   2729.0   3047.0      3341.0   \n",
      "bueno         2589.0     2399.0   3335.0   2725.0   2785.0      2504.0   \n",
      "fue           2523.0     2197.0   2152.0   2645.0   2595.0      2097.0   \n",
      "algo          2519.0     2298.0   2667.0   2616.0   2795.0      2642.0   \n",
      "sin           2519.0     3071.0   3075.0   2489.0   3080.0      3088.0   \n",
      "son           2432.0     2590.0   2799.0   2889.0   2967.0      2458.0   \n",
      "tiene         2424.0     2039.0   2369.0   2412.0   2489.0      2270.0   \n",
      "jaja          2418.0     5453.0   8202.0   2783.0   2171.0      3618.0   \n",
      "estar         2309.0     2546.0   2689.0   2438.0   2791.0      2757.0   \n",
      "gracias       2285.0     3411.0   2765.0   2657.0   3254.0      2901.0   \n",
      "vez           2284.0     1923.0   2316.0   2162.0   2429.0      2623.0   \n",
      "así           2259.0     2171.0   3024.0   2004.0   3139.0      3155.0   \n",
      "mierda        2251.0     2147.0   2014.0   3281.0   2284.0      1987.0   \n",
      "muy           2208.0     3161.0   3939.0   2615.0   3458.0      2828.0   \n",
      "hasta         2162.0     2033.0   2349.0   2055.0   2703.0      2327.0   \n",
      "amor          2139.0     3248.0   2987.0   2004.0   2875.0      2616.0   \n",
      "esto          2107.0     2112.0   2189.0   1871.0   2473.0      2368.0   \n",
      "casa          2058.0     1973.0   1933.0   2480.0   2662.0      1734.0   \n",
      "igual         2018.0      877.0   1576.0   2409.0   1718.0      1503.0   \n",
      "mis           2015.0     2935.0   2519.0   2506.0   3058.0      2390.0   \n",
      "cosas         1996.0     2074.0   2186.0   2174.0   2636.0      2504.0   \n",
      "perfil        1950.0     1424.0   1214.0   1991.0   1609.0      2342.0   \n",
      "noche         1943.0     2978.0   3006.0   1933.0   2853.0      2045.0   \n",
      "tener         1905.0     1726.0   2081.0   1874.0   2225.0      1909.0   \n",
      "\n",
      "         entrerios  formosa    jujuy  lapampa   ...     neuquen  rionegro  \\\n",
      "que        75799.0  78564.0  50953.0  74807.0   ...     70990.0   78162.0   \n",
      "de         58259.0  56481.0  60085.0  63410.0   ...     52555.0   54918.0   \n",
      "a          50331.0  44862.0  38853.0  51610.0   ...     46543.0   46380.0   \n",
      "me         45899.0  39946.0  27229.0  46301.0   ...     45633.0   45172.0   \n",
      "la         45307.0  40658.0  42416.0  50877.0   ...     40346.0   42513.0   \n",
      "no         42933.0  42225.0  31007.0  41149.0   ...     37607.0   39172.0   \n",
      "y          35723.0  36401.0  31020.0  39205.0   ...     32334.0   33518.0   \n",
      "el         33489.0  30983.0  33825.0  36967.0   ...     29717.0   32254.0   \n",
      "en         24281.0  24207.0  29354.0  28148.0   ...     20809.0   23395.0   \n",
      "te         19647.0  23226.0  17733.0  20822.0   ...     16807.0   17919.0   \n",
      "se         20875.0  17807.0  15108.0  20433.0   ...     17034.0   18390.0   \n",
      "un         17210.0  16171.0  16679.0  19171.0   ...     16112.0   15852.0   \n",
      "lo         17892.0  17034.0  13123.0  16745.0   ...     15184.0   15878.0   \n",
      "es         15557.0  18222.0  15841.0  16486.0   ...     15397.0   15246.0   \n",
      "con        18801.0  15896.0  13529.0  21358.0   ...     14933.0   16988.0   \n",
      "mi         15612.0  18728.0  11419.0  16178.0   ...     15685.0   15306.0   \n",
      "por        14661.0  15734.0  14341.0  15549.0   ...     11924.0   12527.0   \n",
      "los        13091.0  11988.0  14086.0  14572.0   ...     12006.0   11972.0   \n",
      "para       13415.0  12328.0  11653.0  13595.0   ...     10796.0   12000.0   \n",
      "las        12349.0   9927.0  10472.0  12169.0   ...     11069.0   11599.0   \n",
      "si         10704.0  11706.0   8856.0  10444.0   ...      9953.0    9702.0   \n",
      "una         9940.0  10245.0  10348.0  11187.0   ...      9427.0    9970.0   \n",
      "yo          9054.0   9645.0   6187.0   8972.0   ...      8285.0    8378.0   \n",
      "como        9454.0   9133.0   7205.0   9076.0   ...      8606.0    9115.0   \n",
      "ya          8481.0   8816.0   6410.0   8197.0   ...      7463.0    7197.0   \n",
      "al          7536.0   6502.0   6673.0   8549.0   ...      6949.0    7453.0   \n",
      "todo        7385.0   8261.0   5265.0   7121.0   ...      6690.0    6835.0   \n",
      "del         6416.0   6143.0   8801.0   7905.0   ...      5498.0    6093.0   \n",
      "pero        7163.0   6776.0   5036.0   7433.0   ...      6210.0    6009.0   \n",
      "tengo       6585.0   5883.0   3177.0   6652.0   ...      6851.0    6796.0   \n",
      "...            ...      ...      ...      ...   ...         ...       ...   \n",
      "vida        2864.0   3759.0   3095.0   2774.0   ...      2324.0    2682.0   \n",
      "dormir      4588.0   3121.0   1438.0   3946.0   ...      3293.0    3299.0   \n",
      "lindo       3869.0   2646.0   1924.0   3645.0   ...      3309.0    3571.0   \n",
      "tan         2949.0   3569.0   2504.0   2795.0   ...      3316.0    3018.0   \n",
      "hacer       3147.0   2612.0   2005.0   2965.0   ...      3043.0    3119.0   \n",
      "puedo       2918.0   2768.0   1729.0   2569.0   ...      2514.0    2548.0   \n",
      "nunca       2863.0   2898.0   2253.0   2478.0   ...      2357.0    2689.0   \n",
      "bueno       2806.0   2677.0   1988.0   2914.0   ...      2960.0    2948.0   \n",
      "fue         2050.0   2373.0   1832.0   2251.0   ...      2379.0    2494.0   \n",
      "algo        2750.0   2509.0   1797.0   2571.0   ...      2545.0    2572.0   \n",
      "sin         2922.0   3158.0   2515.0   2748.0   ...      2232.0    2395.0   \n",
      "son         2593.0   2670.0   2470.0   2685.0   ...      2798.0    2637.0   \n",
      "tiene       2428.0   2378.0   1991.0   2368.0   ...      2198.0    2127.0   \n",
      "jaja        5722.0   6027.0   2496.0   6774.0   ...      5902.0    7404.0   \n",
      "estar       2814.0   2558.0   1816.0   2493.0   ...      2350.0    2627.0   \n",
      "gracias     3046.0   2582.0   2809.0   3222.0   ...      2148.0    2154.0   \n",
      "vez         2235.0   2816.0   1830.0   2270.0   ...      1932.0    2175.0   \n",
      "así         3004.0   2886.0   1550.0   2439.0   ...      1957.0    1904.0   \n",
      "mierda      2221.0   2191.0   1612.0   2157.0   ...      3063.0    2938.0   \n",
      "muy         2235.0   2769.0   2456.0   3192.0   ...      2399.0    2303.0   \n",
      "hasta       2216.0   2296.0   2012.0   2520.0   ...      2020.0    2091.0   \n",
      "amor        2247.0   3219.0   2470.0   2330.0   ...      1601.0    1822.0   \n",
      "esto        2182.0   2690.0   1785.0   1992.0   ...      1768.0    1742.0   \n",
      "casa        2636.0   1865.0   1293.0   2701.0   ...      2144.0    2280.0   \n",
      "igual       1806.0   1473.0    955.0   1834.0   ...      1891.0    1833.0   \n",
      "mis         2533.0   2790.0   1905.0   2281.0   ...      2282.0    2399.0   \n",
      "cosas       2379.0   2262.0   1570.0   2254.0   ...      2145.0    2243.0   \n",
      "perfil      4272.0   2038.0    251.0   4496.0   ...      1680.0    1954.0   \n",
      "noche       3000.0   1851.0   1851.0   3470.0   ...      1738.0    2257.0   \n",
      "tener       2395.0   1812.0   1234.0   2123.0   ...      1923.0    2093.0   \n",
      "\n",
      "           salta  sanjuan  sanluis  santacruz  santafe  santiago  \\\n",
      "que      59959.0  73133.0  65483.0    63643.0  81588.0   69258.0   \n",
      "de       64452.0  52362.0  57590.0    55830.0  67124.0   60816.0   \n",
      "a        44079.0  41432.0  42799.0    43669.0  52118.0   44538.0   \n",
      "me       30671.0  39609.0  36218.0    36735.0  42752.0   36206.0   \n",
      "la       45140.0  40946.0  43668.0    42075.0  54635.0   42962.0   \n",
      "no       34705.0  39994.0  38772.0    35728.0  44913.0   40889.0   \n",
      "y        34304.0  30844.0  34949.0    35088.0  39471.0   33886.0   \n",
      "el       38320.0  29767.0  33214.0    31800.0  39154.0   34540.0   \n",
      "en       31795.0  23875.0  26606.0    26090.0  30113.0   26959.0   \n",
      "te       18280.0  17568.0  20319.0    17692.0  23754.0   18285.0   \n",
      "se       17955.0  17137.0  17677.0    17273.0  21450.0   16996.0   \n",
      "un       16751.0  15750.0  17525.0    15436.0  19141.0   16681.0   \n",
      "lo       14633.0  15683.0  15298.0    14082.0  19221.0   15855.0   \n",
      "es       16758.0  17553.0  16871.0    15377.0  19559.0   16965.0   \n",
      "con      15297.0  14225.0  16578.0    15503.0  18748.0   15393.0   \n",
      "mi       13126.0  15425.0  14157.0    15482.0  15964.0   16038.0   \n",
      "por      15360.0  14197.0  14256.0    13187.0  15715.0   15648.0   \n",
      "los      15282.0  11950.0  13659.0    13417.0  15334.0   13033.0   \n",
      "para     13020.0  11278.0  12464.0    11025.0  14063.0   12186.0   \n",
      "las      11285.0  10525.0  10936.0    10408.0  13124.0    9817.0   \n",
      "si        9278.0   9968.0   9878.0     9096.0  11730.0    9890.0   \n",
      "una      10388.0  11242.0  10388.0    10646.0  12083.0    9909.0   \n",
      "yo        7332.0   7841.0   7865.0     7804.0  10219.0    8266.0   \n",
      "como      8024.0   8746.0   8573.0     8233.0  10031.0    8522.0   \n",
      "ya        8129.0   7576.0   6680.0     6417.0   8627.0    8733.0   \n",
      "al        7309.0   6377.0   7368.0     7041.0   7967.0    7011.0   \n",
      "todo      6335.0   6991.0   6636.0     6475.0   8092.0    6791.0   \n",
      "del      10318.0   6017.0   7444.0     6745.0   8706.0    8759.0   \n",
      "pero      5847.0   6654.0   6167.0     5788.0   7072.0    6225.0   \n",
      "tengo     4353.0   6187.0   4838.0     5360.0   6120.0    5516.0   \n",
      "...          ...      ...      ...        ...      ...       ...   \n",
      "vida      3176.0   3334.0   3083.0     2780.0   3906.0    3381.0   \n",
      "dormir    1824.0   2565.0   2940.0     2609.0   3152.0    3101.0   \n",
      "lindo     2031.0   2501.0   3005.0     2988.0   3434.0    2657.0   \n",
      "tan       2671.0   3632.0   3070.0     2621.0   3146.0    2794.0   \n",
      "hacer     2313.0   3024.0   2412.0     2531.0   2761.0    2820.0   \n",
      "puedo     2016.0   2579.0   2221.0     2085.0   2665.0    2539.0   \n",
      "nunca     2337.0   2702.0   2576.0     2372.0   3334.0    2784.0   \n",
      "bueno     2256.0   2467.0   2911.0     2511.0   2931.0    2666.0   \n",
      "fue       2371.0   2257.0   2183.0     2091.0   2548.0    2079.0   \n",
      "algo      1909.0   2600.0   2536.0     1970.0   2703.0    2370.0   \n",
      "sin       2675.0   2435.0   2993.0     2729.0   3367.0    3034.0   \n",
      "son       2822.0   2710.0   2889.0     2607.0   3152.0    2578.0   \n",
      "tiene     2220.0   2059.0   2142.0     2092.0   2745.0    2342.0   \n",
      "jaja      2544.0   4066.0   5424.0     3607.0   2755.0    2894.0   \n",
      "estar     1912.0   2348.0   2423.0     1959.0   2577.0    2138.0   \n",
      "gracias   3528.0   2368.0   3360.0     2191.0   3433.0    3156.0   \n",
      "vez       1989.0   2213.0   2015.0     1921.0   2746.0    2253.0   \n",
      "así       2160.0   2342.0   2018.0     1654.0   2215.0    2594.0   \n",
      "mierda    1724.0   1789.0   2053.0     3301.0   2204.0    1886.0   \n",
      "muy       2749.0   3653.0   3355.0     2269.0   2396.0    3286.0   \n",
      "hasta     2265.0   2004.0   2167.0     1920.0   2564.0    2080.0   \n",
      "amor      2311.0   2066.0   2685.0     2329.0   2796.0    2820.0   \n",
      "esto      2008.0   2150.0   1781.0     1680.0   2388.0    2054.0   \n",
      "casa      1484.0   1938.0   1938.0     1942.0   2061.0    1825.0   \n",
      "igual     1318.0   1407.0   1326.0     1944.0   1850.0    1251.0   \n",
      "mis       2007.0   2509.0   2428.0     2490.0   2318.0    2482.0   \n",
      "cosas     1701.0   2558.0   1927.0     1661.0   2424.0    2101.0   \n",
      "perfil    1557.0   1603.0   1109.0     1215.0   1468.0    3601.0   \n",
      "noche     2162.0   2634.0   2885.0     1489.0   3151.0    1998.0   \n",
      "tener     1472.0   1955.0   1776.0     1671.0   2104.0    1805.0   \n",
      "\n",
      "         tierradelfuego  tucuman  \n",
      "que             70336.0  71517.0  \n",
      "de              64100.0  55762.0  \n",
      "a               46469.0  42461.0  \n",
      "me              39916.0  38750.0  \n",
      "la              47794.0  41466.0  \n",
      "no              37193.0  41392.0  \n",
      "y               38143.0  32591.0  \n",
      "el              36363.0  31467.0  \n",
      "en              30613.0  23923.0  \n",
      "te              16953.0  19120.0  \n",
      "se              18612.0  16836.0  \n",
      "un              17209.0  15706.0  \n",
      "lo              14803.0  16302.0  \n",
      "es              15677.0  17151.0  \n",
      "con             17208.0  14664.0  \n",
      "mi              15103.0  16048.0  \n",
      "por             14303.0  14248.0  \n",
      "los             14342.0  12551.0  \n",
      "para            13235.0  12414.0  \n",
      "las             11844.0  10213.0  \n",
      "si               9724.0  10375.0  \n",
      "una             10839.0  10118.0  \n",
      "yo               7502.0   9068.0  \n",
      "como             8352.0   8981.0  \n",
      "ya               7931.0   9935.0  \n",
      "al               8348.0   6918.0  \n",
      "todo             6471.0   6613.0  \n",
      "del             10202.0   6482.0  \n",
      "pero             6352.0   6417.0  \n",
      "tengo            5846.0   5455.0  \n",
      "...                 ...      ...  \n",
      "vida             2451.0   3517.0  \n",
      "dormir           2756.0   2937.0  \n",
      "lindo            2521.0   2696.0  \n",
      "tan              2894.0   3181.0  \n",
      "hacer            2852.0   2666.0  \n",
      "puedo            2348.0   2716.0  \n",
      "nunca            2375.0   2835.0  \n",
      "bueno            2732.0   2550.0  \n",
      "fue              2302.0   1956.0  \n",
      "algo             2493.0   2506.0  \n",
      "sin              2902.0   3151.0  \n",
      "son              2635.0   2672.0  \n",
      "tiene            2205.0   2283.0  \n",
      "jaja             2424.0   3013.0  \n",
      "estar            2345.0   2353.0  \n",
      "gracias          2467.0   2656.0  \n",
      "vez              2051.0   2167.0  \n",
      "así              1768.0   3012.0  \n",
      "mierda           2899.0   1663.0  \n",
      "muy              3037.0   3230.0  \n",
      "hasta            2425.0   2215.0  \n",
      "amor             1933.0   2650.0  \n",
      "esto             1728.0   2277.0  \n",
      "casa             2213.0   1896.0  \n",
      "igual            1970.0   1601.0  \n",
      "mis              2446.0   2527.0  \n",
      "cosas            2059.0   2372.0  \n",
      "perfil           1513.0   1844.0  \n",
      "noche            2103.0   2145.0  \n",
      "tener            1942.0   1844.0  \n",
      "\n",
      "[100 rows x 23 columns]\n"
     ]
    }
   ],
   "source": [
    "print df.sort_values(by='buenosaires',ascending=0).head(100)"
   ]
  }
 ],
 "metadata": {
  "kernelspec": {
   "display_name": "Python 2",
   "language": "python",
   "name": "python2"
  },
  "language_info": {
   "codemirror_mode": {
    "name": "ipython",
    "version": 2
   },
   "file_extension": ".py",
   "mimetype": "text/x-python",
   "name": "python",
   "nbconvert_exporter": "python",
   "pygments_lexer": "ipython2",
   "version": "2.7.12"
  }
 },
 "nbformat": 4,
 "nbformat_minor": 2
}
